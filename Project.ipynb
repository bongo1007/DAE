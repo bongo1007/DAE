{
 "cells": [
  {
   "cell_type": "markdown",
   "metadata": {},
   "source": [
    "# Analysis of Grade R Early Learning Outcome Measure (ELOM) Data in South Africa for 2019"
   ]
  },
  {
   "cell_type": "markdown",
   "metadata": {},
   "source": [
    "### Iman Ahmed, Jonah Alter, Goolam Bangie, Uwais Suliman"
   ]
  },
  {
   "cell_type": "markdown",
   "metadata": {},
   "source": [
    "## Section of Contents:\n",
    "1. Introduction\n",
    "2. Research Questions\n",
    "3. Methodology\n",
    "4. Data Description\n",
    "5. Data Wrangling\n",
    "6. Exploratory Analysis\n",
    "7. Model Fitting\n",
    "8. Hypothesis Testing\n",
    "9. Interpretation of Results\n",
    "10.Conclusion"
   ]
  },
  {
   "cell_type": "markdown",
   "metadata": {},
   "source": [
    "## Introduction \n",
    "\n",
    "Childhood experiences during the first 6 years of life determine the extent to which key foundational skills are developed that are necessary for entering school. Such experiences include interactions that happen at home with parents or caregivers as well as any participation in an early learning programme.  To establish whether children are being exposed to early life experiences which build their intellect and form the foundations for success when they’re older, we need to be able to measure child outcomes. For these outcomes to be fairly assessed they need to be measured at a population level and across multiple developmental domains. It is also necessary to evaluate the efficacy of children attending early learning programmes. \n",
    "\n",
    "This study collected data on South African children between the ages of 49-72 months from various socio-economic backgrounds, who have been exposed to Grade R education. These terms of their performance, social and emotional functioning, and orientation to specific tasks were directly assessed to arrive at the ELOM score of each learner.\n",
    "\n",
    "ELOM is an age-normed, standardized instrument that is calculated based off of 23 indicators measuring a learner's early development in five domains:\n",
    "\n",
    "- Gross Motor Development\n",
    "- Fine Motor Coordination and Visual Motor Integration\n",
    "- Emergent Numeracy and Mathematics\n",
    "- Cognition and Executive Functioning\n",
    "- Emergent Literacy and Language\n",
    "\n",
    "These indicators each carry a certain weighting in their contribution to the total ELOM score. The ELOM score is then used to monitor trends over time in terms of the key development of each learner.\n",
    "\n",
    "\n",
    "The motivation behind this study is determining whether children are developmentally on track for their age and simultaneously this then identifies areas for improvement, within various developmental domains. \n",
    "\n",
    "The ELOM tool also assesses the efficacy of Early Childhood Development (ECD) programmes in preparing children for entry into school.\n",
    "\n",
    "\n",
    "Previous studies have been conducted on this topic, which can be found at: https://www.datafirst.uct.ac.za/dataportal/index.php/catalog/863/download/11890\n",
    "\n",
    "The findings of the study show that other factors that contributed to improvement in ELOM scores included:\n",
    "- Practitioners’ reported support from their organisations \n",
    "- The child’s baseline ELOM scores (those with lower baseline scores made the greatest gains)."
   ]
  },
  {
   "cell_type": "markdown",
   "metadata": {},
   "source": [
    "## Research Questions \n",
    "\n",
    "Our aim in this research is to investigate how various factors influence ELOM score and to what extent they do.\n",
    "\n",
    "The first 3 questions will be investigated using the 2019 ELOM dataset. \n",
    "\n",
    " #### 1 - Does the socio-economic background of a child influence their ELOM score and, if so, to what extent?\n",
    "Here we aim to investigate the relationships between various socio-economic factors and ELOM score. \n",
    "\n",
    "\n",
    "\n",
    " #### 2 - In the absence of the socio-economic factors, to what extent do the behavioural tendencies of a child influence ELOM score and whether or not the child is at risk? \n",
    " We aim to determine how heavily ELOM score is influenced by behavioural tendencies and whether or not a child is at risk. The risk factor describes how far behind a child is in terms of standard development, relative to other children within their age group. \n",
    " \n",
    " \n",
    " #### 3 - In conjunction with the socio-economic background of a child, do the behavioural tendencies of the child have an influence on the ELOM score?\n",
    "This question investigates the relationship between behavioural tendencies of a child and their ELOM score in the presence of socio-economic factors. \n",
    "\n",
    "\n",
    " \n",
    " #### 4 - Considering the 2016 dataset, to what extent do the socio-economic factors influence ELOM score and how does this compare to 2019?\n",
    " We will examine the degree to which the influence of socio-economic factors on ELOM score changed from 2016 to 2019. "
   ]
  },
  {
   "cell_type": "markdown",
   "metadata": {},
   "source": [
    "## Methodology\n",
    "\n",
    "Data wrangling will be conducted on both datasets in order to ensure that our data is in a format which is easy to work with.\n",
    "\n",
    "We will first look at our datasets to determine which variables are categorized as socio-economic factors and behavioural tendencies, respectively, as these pertain to our above questions. \n",
    "\n",
    "Thereafter, we will make use of coefficient matrices and other subplots of the data in order arrive at initial observations regarding the strength of the relationships between these variables and ELOM score, which is our dependent variable. \n",
    "\n",
    "From the exploratory analyses above, we will then create dataframes that contain variables specific to the above 4 questions. The data within these dataframes will then be split into training and testing datasets.\n",
    "\n",
    "We will then use these datasets to perform Least Squares Regression afterwhich we will compare the regression coefficients to one another, to determine whether the variables and their influence on ELOM score are statistically correct. "
   ]
  },
  {
   "cell_type": "markdown",
   "metadata": {},
   "source": [
    "## Data Description\n",
    "\n",
    "_Data was retrieved from UCT DataFirst on the 24th of March 2021.<br>\n",
    "2019 ELOM Score - https://www.datafirst.uct.ac.za/dataportal/index.php/catalog/819/study-description <br>\n",
    "2016 ELOM Score - https://www.datafirst.uct.ac.za/dataportal/index.php/catalog/627/study-description_\n",
    "\n",
    "The data relates to children between the ages of 49-72 months in selected schools around South Africa. The dataset looks at the ELOM score of various children in the different schools together with the tests that contribute to the total ELOM score. Additionally, it looks at their behavioral tendencies, home environment, social and economic factors and the mental state of the children who took part in the research. \n",
    "\n",
    "The data was collected from schools in the Western Cape, KwaZulu Natal, Eastern Cape and North West Provinces of South Africa on the 25 July 2020 and 3 March 2016 for the 2019 and 2016 datasets, respectively. This was done using the Early Learning Outcomes Measure (ELOM) tool which includes the following components: ELOM Direct Assessment Kit, ELOM Direct Assessment Kit list, ELOM Direct Assessment Manual, ELOM Technical Manual, ELOM Scoring Sheet, Open source online protocol for tablet/phone-based scoring and data capture, ELOM Teacher Assessment of the Child. We assume that the data was collected in an independent manner , meaning that every observation was independent of one another.\n",
    "\n",
    "In order to measure the quality of the data we need to make sure it conforms with the 5 aspects of data quality namely Validity, Accuracy, Completeness, Consistency, Uniformity\n",
    "* Validity: The data conforms to the Principles of Data as outlined by Wickam (https://vita.had.co.nz/papers/tidy-data.pdf). The data is in a standard format as each observation is a row, each feature is a column and each entry is a cell.  \n",
    "* Accuracy: The data was collected from actual Grade R learners and is therefore accurate and conforms to the real world.\n",
    "* Completeness: The data does contain a few nulls in the hfa (height for age z-score) column, which could impact our outcomes for the specific questions that we mentioned above. This will however be resolved in the data wrangling process.There are no duplicate entries present. We can thus conclude that there are no missing records which tells us that the data set is complete.\n",
    "* Consistency: Upon looking at the data, data in fields and columns respectively appear to be in logical agreement.\n",
    "* Uniformity: By looking at the dataset, we are able to confirm that the same units are used across a given field. For example, all heights in the ‘Height’ column are given in cm and all ages in the ‘Age’ column are given in months.\n"
   ]
  },
  {
   "cell_type": "code",
   "execution_count": 1,
   "metadata": {},
   "outputs": [
    {
     "data": {
      "text/plain": [
       "<Figure size 1008x648 with 0 Axes>"
      ]
     },
     "execution_count": 1,
     "metadata": {},
     "output_type": "execute_result"
    },
    {
     "data": {
      "text/plain": [
       "<Figure size 1008x648 with 0 Axes>"
      ]
     },
     "metadata": {},
     "output_type": "display_data"
    }
   ],
   "source": [
    "# Initialisation Cell\n",
    "import numpy as np\n",
    "import pandas as pd\n",
    "import seaborn as sns\n",
    "import numpy.testing as npt\n",
    "import pandas.testing as pdt\n",
    "import statsmodels.api as sm\n",
    "import statsmodels.formula.api as smf\n",
    "from IPython.display import display_html,display, Markdown\n",
    "from matplotlib import pyplot as plt\n",
    "from sklearn.preprocessing import LabelEncoder\n",
    "from scipy import stats\n",
    "np.set_printoptions(suppress=True, precision=7)\n",
    "pd.set_option(\"display.max_columns\",55)\n",
    "plt.figure(figsize=(14,9))"
   ]
  },
  {
   "cell_type": "markdown",
   "metadata": {},
   "source": [
    "### Importing data"
   ]
  },
  {
   "cell_type": "code",
   "execution_count": 4,
   "metadata": {
    "collapsed": false,
    "jupyter": {
     "outputs_hidden": false
    }
   },
   "outputs": [
    {
     "ename": "NameError",
     "evalue": "name 'pd' is not defined",
     "output_type": "error",
     "traceback": [
      "\u001b[0;31m---------------------------------------------------------------------------\u001b[0m",
      "\u001b[0;31mNameError\u001b[0m                                 Traceback (most recent call last)",
      "\u001b[0;32m<ipython-input-4-3e094167070a>\u001b[0m in \u001b[0;36m<module>\u001b[0;34m\u001b[0m\n\u001b[0;32m----> 1\u001b[0;31m \u001b[0mdf2019\u001b[0m \u001b[0;34m=\u001b[0m \u001b[0mpd\u001b[0m\u001b[0;34m.\u001b[0m\u001b[0mread_stata\u001b[0m\u001b[0;34m(\u001b[0m\u001b[0;34m'elom.dta'\u001b[0m\u001b[0;34m)\u001b[0m\u001b[0;34m\u001b[0m\u001b[0;34m\u001b[0m\u001b[0m\n\u001b[0m\u001b[1;32m      2\u001b[0m \u001b[0mdf2019Original\u001b[0m \u001b[0;34m=\u001b[0m \u001b[0mdf2019\u001b[0m\u001b[0;34m.\u001b[0m\u001b[0mcopy\u001b[0m\u001b[0;34m(\u001b[0m\u001b[0;34m)\u001b[0m\u001b[0;34m\u001b[0m\u001b[0;34m\u001b[0m\u001b[0m\n\u001b[1;32m      3\u001b[0m \u001b[0mdf2016\u001b[0m \u001b[0;34m=\u001b[0m \u001b[0mpd\u001b[0m\u001b[0;34m.\u001b[0m\u001b[0mread_stata\u001b[0m\u001b[0;34m(\u001b[0m\u001b[0;34m'elom2016.dta'\u001b[0m\u001b[0;34m)\u001b[0m\u001b[0;34m\u001b[0m\u001b[0;34m\u001b[0m\u001b[0m\n\u001b[1;32m      4\u001b[0m \u001b[0mdf2016Original\u001b[0m \u001b[0;34m=\u001b[0m \u001b[0mdf2016\u001b[0m\u001b[0;34m.\u001b[0m\u001b[0mcopy\u001b[0m\u001b[0;34m(\u001b[0m\u001b[0;34m)\u001b[0m\u001b[0;34m\u001b[0m\u001b[0;34m\u001b[0m\u001b[0m\n\u001b[1;32m      5\u001b[0m \u001b[0;34m\u001b[0m\u001b[0m\n",
      "\u001b[0;31mNameError\u001b[0m: name 'pd' is not defined"
     ]
    }
   ],
   "source": [
    "df2019 = pd.read_stata('elom.dta')\n",
    "df2019Original = df2019.copy()\n",
    "df2016 = pd.read_stata('elom2016.dta')\n",
    "df2016Original = df2016.copy()\n",
    "\n",
    "display(Markdown(\"#### 2019 Dataset\"))\n",
    "display(df2019.head())\n",
    "print(\"The size of the 2016 dataset is\",df2019.shape)\n",
    "print()\n",
    "display(Markdown(\"#### 2016 Dataset\"))\n",
    "display(df2016.head())\n",
    "print(\"The size of the 2016 dataset is\",df2016.shape)\n",
    "print()"
   ]
  },
  {
   "cell_type": "markdown",
   "metadata": {},
   "source": [
    "As shown above, the size of the 2019 dataset is 2055 rows x 54 columns and the size of the 2016 dataset is 1331 rows x 50 columns.\n",
    "\n",
    "In order to validate the data, the mean ELOM scores for 2016 and 2019 have been calculated. There is a slight difference between these values which can be explained below.\n",
    "\n",
    "Ideally data should have been collected in January/February 2019, at the start of the Grade R year and before children are exposed to the Grade R curriculum. However, final sign-off from the sponsor was only obtained at the end of February 2019. This delayed the start of the data collection process and children who participated in this study had already been exposed to one full term of Grade R. This is likely to have influenced child outcomes."
   ]
  },
  {
   "cell_type": "code",
   "execution_count": 3,
   "metadata": {},
   "outputs": [
    {
     "name": "stdout",
     "output_type": "stream",
     "text": [
      "Mean ELOM Score - 2016: 49.43240420736285\n",
      "Mean ELOM Score - 2019: 57.82409246880775\n"
     ]
    }
   ],
   "source": [
    "# df2018 = pd.read_stata('elom2016.dta')\n",
    "print(\"Mean ELOM Score - 2016:\",df2016.Total.mean())\n",
    "print(\"Mean ELOM Score - 2019:\",df2019.total.mean())"
   ]
  },
  {
   "cell_type": "markdown",
   "metadata": {},
   "source": [
    "For further validation of our dataset we make use of two important sources of information , the first being https://www.education.gov.za/Portals/0/Documents/Reports/Grade%20R%20Evaluation-Policy%20Summary%2C%20Executive%20Summary%20%26%20Report%20Summary.pdf which informs us that the percentage of Grade R learners that are at risk of entering Grade 1 without the necessary skills is 65% , the second source http://www.statssa.gov.za/publications/P0302/P03022020.pdf provides us with information that the percentage of girls and boys between the ages of 49-72 months is 49% and 51% respectively. We will cross validate our data with these population values to determine whether our data sample is a true representation of the real population. Here we assume that students who achieve below the average of the sample for ELOM score, are students who are at risk."
   ]
  },
  {
   "cell_type": "code",
   "execution_count": 4,
   "metadata": {},
   "outputs": [
    {
     "name": "stdout",
     "output_type": "stream",
     "text": [
      "Percentage of students at risk for this sample is 47.93187347931874\n"
     ]
    }
   ],
   "source": [
    "mean_elom = df2019.total.mean()\n",
    "AtRisk = df2019.total[df2019.total<mean_elom].count()\n",
    "propAtRisk = AtRisk/df2019.shape[0]*100\n",
    "print(\"Percentage of students at risk for this sample is\",propAtRisk)"
   ]
  },
  {
   "cell_type": "markdown",
   "metadata": {},
   "source": [
    "Here we see the percentage of students at risk in this sample doesn't match the population percentage of 65% , this deviation could be explained in our assumption that students are at risk if they achieve below the average ELOM score of the sample, whereas the population risk percentage could be calculated using a different metric."
   ]
  },
  {
   "cell_type": "code",
   "execution_count": 5,
   "metadata": {},
   "outputs": [
    {
     "name": "stdout",
     "output_type": "stream",
     "text": [
      "Percentage of girls in the sample is 49.0\n",
      "Percentage of boys in the sample is 51.0\n"
     ]
    }
   ],
   "source": [
    "noOfGirls = df2019.Gender[df2019.Gender==\"Female\"].count()\n",
    "noOfBoys = df2019.Gender[df2019.Gender==\"Male\"].count()\n",
    "\n",
    "print(\"Percentage of girls in the sample is\",round(noOfGirls/df2019.shape[0],2)*100)\n",
    "print(\"Percentage of boys in the sample is\",round(noOfBoys/df2019.shape[0],2)*100)"
   ]
  },
  {
   "cell_type": "markdown",
   "metadata": {},
   "source": [
    "The percentage of boys and girls in the sample is representative of the population percentage of 51% and 49% respectively implying validity in terms of our sample when cross referenced with the population."
   ]
  },
  {
   "cell_type": "markdown",
   "metadata": {},
   "source": [
    "### Feature Description\n",
    "\n"
   ]
  },
  {
   "cell_type": "code",
   "execution_count": 6,
   "metadata": {},
   "outputs": [
    {
     "data": {
      "text/html": [
       "<div>\n",
       "<style scoped>\n",
       "    .dataframe tbody tr th:only-of-type {\n",
       "        vertical-align: middle;\n",
       "    }\n",
       "\n",
       "    .dataframe tbody tr th {\n",
       "        vertical-align: top;\n",
       "    }\n",
       "\n",
       "    .dataframe thead th {\n",
       "        text-align: right;\n",
       "    }\n",
       "</style>\n",
       "<table border=\"1\" class=\"dataframe\">\n",
       "  <thead>\n",
       "    <tr style=\"text-align: right;\">\n",
       "      <th></th>\n",
       "      <th>Variable Name</th>\n",
       "      <th>Label</th>\n",
       "    </tr>\n",
       "  </thead>\n",
       "  <tbody>\n",
       "    <tr>\n",
       "      <th>0</th>\n",
       "      <td>csid</td>\n",
       "      <td>Child study ID</td>\n",
       "    </tr>\n",
       "    <tr>\n",
       "      <th>1</th>\n",
       "      <td>Province</td>\n",
       "      <td>Province</td>\n",
       "    </tr>\n",
       "    <tr>\n",
       "      <th>2</th>\n",
       "      <td>SchoolID</td>\n",
       "      <td>School ID</td>\n",
       "    </tr>\n",
       "    <tr>\n",
       "      <th>3</th>\n",
       "      <td>RuralOrUrbanDistance</td>\n",
       "      <td>Rural status by distance</td>\n",
       "    </tr>\n",
       "    <tr>\n",
       "      <th>4</th>\n",
       "      <td>RuralOrUrbanCensus</td>\n",
       "      <td>Rural status by census</td>\n",
       "    </tr>\n",
       "    <tr>\n",
       "      <th>5</th>\n",
       "      <td>Quintile</td>\n",
       "      <td>School quintile</td>\n",
       "    </tr>\n",
       "    <tr>\n",
       "      <th>6</th>\n",
       "      <td>CompositeQuintileGroup</td>\n",
       "      <td>Three quintile groupings</td>\n",
       "    </tr>\n",
       "    <tr>\n",
       "      <th>7</th>\n",
       "      <td>District</td>\n",
       "      <td>District</td>\n",
       "    </tr>\n",
       "    <tr>\n",
       "      <th>8</th>\n",
       "      <td>Gender</td>\n",
       "      <td>Gender of child</td>\n",
       "    </tr>\n",
       "    <tr>\n",
       "      <th>9</th>\n",
       "      <td>Age</td>\n",
       "      <td>Age in months</td>\n",
       "    </tr>\n",
       "    <tr>\n",
       "      <th>10</th>\n",
       "      <td>AgeGroup</td>\n",
       "      <td>Age group</td>\n",
       "    </tr>\n",
       "    <tr>\n",
       "      <th>11</th>\n",
       "      <td>HomeLanguage</td>\n",
       "      <td>Home language</td>\n",
       "    </tr>\n",
       "    <tr>\n",
       "      <th>12</th>\n",
       "      <td>AssesLanguage</td>\n",
       "      <td>Assessment language</td>\n",
       "    </tr>\n",
       "    <tr>\n",
       "      <th>13</th>\n",
       "      <td>Height</td>\n",
       "      <td>Height in cm</td>\n",
       "    </tr>\n",
       "    <tr>\n",
       "      <th>14</th>\n",
       "      <td>ChildSupportGrant</td>\n",
       "      <td>Child Support Grant</td>\n",
       "    </tr>\n",
       "    <tr>\n",
       "      <th>15</th>\n",
       "      <td>ProgrammeYear</td>\n",
       "      <td>Programme Year</td>\n",
       "    </tr>\n",
       "    <tr>\n",
       "      <th>16</th>\n",
       "      <td>Item1</td>\n",
       "      <td>Standing Transformed</td>\n",
       "    </tr>\n",
       "    <tr>\n",
       "      <th>17</th>\n",
       "      <td>Item2</td>\n",
       "      <td>BB BH Transformed</td>\n",
       "    </tr>\n",
       "    <tr>\n",
       "      <th>18</th>\n",
       "      <td>Item3</td>\n",
       "      <td>BB DH Transformed</td>\n",
       "    </tr>\n",
       "    <tr>\n",
       "      <th>19</th>\n",
       "      <td>Item4</td>\n",
       "      <td>BB OH Transformed</td>\n",
       "    </tr>\n",
       "    <tr>\n",
       "      <th>20</th>\n",
       "      <td>gmd</td>\n",
       "      <td>Gross Motor Development</td>\n",
       "    </tr>\n",
       "    <tr>\n",
       "      <th>21</th>\n",
       "      <td>Item5</td>\n",
       "      <td>Cross &amp; Square Transformed</td>\n",
       "    </tr>\n",
       "    <tr>\n",
       "      <th>22</th>\n",
       "      <td>Item6</td>\n",
       "      <td>Triangle Transformed</td>\n",
       "    </tr>\n",
       "    <tr>\n",
       "      <th>23</th>\n",
       "      <td>Item7</td>\n",
       "      <td>Draw Person Transformed</td>\n",
       "    </tr>\n",
       "    <tr>\n",
       "      <th>24</th>\n",
       "      <td>Item8</td>\n",
       "      <td>String Beads Transformed</td>\n",
       "    </tr>\n",
       "    <tr>\n",
       "      <th>25</th>\n",
       "      <td>fmcvmi</td>\n",
       "      <td>Fine Motor Control &amp; Visual Motor Integration</td>\n",
       "    </tr>\n",
       "    <tr>\n",
       "      <th>26</th>\n",
       "      <td>Item9</td>\n",
       "      <td>Counting Transformed</td>\n",
       "    </tr>\n",
       "    <tr>\n",
       "      <th>27</th>\n",
       "      <td>Item10</td>\n",
       "      <td>Add &amp; Sub Transformed</td>\n",
       "    </tr>\n",
       "    <tr>\n",
       "      <th>28</th>\n",
       "      <td>Item11</td>\n",
       "      <td>Sort and Class Transformed</td>\n",
       "    </tr>\n",
       "    <tr>\n",
       "      <th>29</th>\n",
       "      <td>Item12</td>\n",
       "      <td>Spacial Vocabulary Transformed</td>\n",
       "    </tr>\n",
       "    <tr>\n",
       "      <th>30</th>\n",
       "      <td>Item13</td>\n",
       "      <td>Measurement Vocabulary Transformed</td>\n",
       "    </tr>\n",
       "    <tr>\n",
       "      <th>31</th>\n",
       "      <td>enm</td>\n",
       "      <td>Emergent Numeracy &amp; Mathematics</td>\n",
       "    </tr>\n",
       "    <tr>\n",
       "      <th>32</th>\n",
       "      <td>Item14</td>\n",
       "      <td>DCCS Transformed</td>\n",
       "    </tr>\n",
       "    <tr>\n",
       "      <th>33</th>\n",
       "      <td>Item15</td>\n",
       "      <td>Pencil Tapping Transformed</td>\n",
       "    </tr>\n",
       "    <tr>\n",
       "      <th>34</th>\n",
       "      <td>Item16</td>\n",
       "      <td>Digit Span Transformed</td>\n",
       "    </tr>\n",
       "    <tr>\n",
       "      <th>35</th>\n",
       "      <td>Item17</td>\n",
       "      <td>Picture Puzzle Transformed</td>\n",
       "    </tr>\n",
       "    <tr>\n",
       "      <th>36</th>\n",
       "      <td>cef</td>\n",
       "      <td>Cognition &amp; Executive Functioning</td>\n",
       "    </tr>\n",
       "    <tr>\n",
       "      <th>37</th>\n",
       "      <td>Item18</td>\n",
       "      <td>Empathy Transformed</td>\n",
       "    </tr>\n",
       "    <tr>\n",
       "      <th>38</th>\n",
       "      <td>Item19</td>\n",
       "      <td>Self-Awareness Transformed</td>\n",
       "    </tr>\n",
       "    <tr>\n",
       "      <th>39</th>\n",
       "      <td>Item20</td>\n",
       "      <td>Expressive Language Transformed</td>\n",
       "    </tr>\n",
       "    <tr>\n",
       "      <th>40</th>\n",
       "      <td>Item21</td>\n",
       "      <td>Expressive Vocabulary Transformed</td>\n",
       "    </tr>\n",
       "    <tr>\n",
       "      <th>41</th>\n",
       "      <td>Item22</td>\n",
       "      <td>Oral Comprehension Transformed</td>\n",
       "    </tr>\n",
       "    <tr>\n",
       "      <th>42</th>\n",
       "      <td>Item23</td>\n",
       "      <td>Sound Discrimination Transformed</td>\n",
       "    </tr>\n",
       "    <tr>\n",
       "      <th>43</th>\n",
       "      <td>ell</td>\n",
       "      <td>Emergent Literacy &amp; Language</td>\n",
       "    </tr>\n",
       "    <tr>\n",
       "      <th>44</th>\n",
       "      <td>total</td>\n",
       "      <td>ELOM Total Score</td>\n",
       "    </tr>\n",
       "    <tr>\n",
       "      <th>45</th>\n",
       "      <td>ChildObs1</td>\n",
       "      <td>Paid Attention</td>\n",
       "    </tr>\n",
       "    <tr>\n",
       "      <th>46</th>\n",
       "      <td>ChildObs2</td>\n",
       "      <td>Stayed Concentrated</td>\n",
       "    </tr>\n",
       "    <tr>\n",
       "      <th>47</th>\n",
       "      <td>ChildObs3</td>\n",
       "      <td>Careful and Diligent</td>\n",
       "    </tr>\n",
       "    <tr>\n",
       "      <th>48</th>\n",
       "      <td>ChildObs4</td>\n",
       "      <td>Interested and Curious</td>\n",
       "    </tr>\n",
       "    <tr>\n",
       "      <th>49</th>\n",
       "      <td>ChildObs</td>\n",
       "      <td>Child Observation Total</td>\n",
       "    </tr>\n",
       "    <tr>\n",
       "      <th>50</th>\n",
       "      <td>SelfCare</td>\n",
       "      <td>Self-Care</td>\n",
       "    </tr>\n",
       "    <tr>\n",
       "      <th>51</th>\n",
       "      <td>SocialRelations</td>\n",
       "      <td>Social Relations</td>\n",
       "    </tr>\n",
       "    <tr>\n",
       "      <th>52</th>\n",
       "      <td>EmotionalReadiness</td>\n",
       "      <td>Emotional Readiness for School</td>\n",
       "    </tr>\n",
       "  </tbody>\n",
       "</table>\n",
       "</div>"
      ],
      "text/plain": [
       "             Variable Name                                          Label\n",
       "0                     csid                                 Child study ID\n",
       "1                 Province                                       Province\n",
       "2                 SchoolID                                      School ID\n",
       "3     RuralOrUrbanDistance                       Rural status by distance\n",
       "4       RuralOrUrbanCensus                         Rural status by census\n",
       "5                 Quintile                                School quintile\n",
       "6   CompositeQuintileGroup                       Three quintile groupings\n",
       "7                 District                                       District\n",
       "8                   Gender                                Gender of child\n",
       "9                      Age                                  Age in months\n",
       "10                AgeGroup                                      Age group\n",
       "11            HomeLanguage                                  Home language\n",
       "12           AssesLanguage                            Assessment language\n",
       "13                  Height                                   Height in cm\n",
       "14       ChildSupportGrant                            Child Support Grant\n",
       "15           ProgrammeYear                                 Programme Year\n",
       "16                   Item1                           Standing Transformed\n",
       "17                   Item2                              BB BH Transformed\n",
       "18                   Item3                              BB DH Transformed\n",
       "19                   Item4                              BB OH Transformed\n",
       "20                     gmd                        Gross Motor Development\n",
       "21                   Item5                     Cross & Square Transformed\n",
       "22                   Item6                           Triangle Transformed\n",
       "23                   Item7                        Draw Person Transformed\n",
       "24                   Item8                       String Beads Transformed\n",
       "25                  fmcvmi  Fine Motor Control & Visual Motor Integration\n",
       "26                   Item9                           Counting Transformed\n",
       "27                  Item10                          Add & Sub Transformed\n",
       "28                  Item11                     Sort and Class Transformed\n",
       "29                  Item12                 Spacial Vocabulary Transformed\n",
       "30                  Item13             Measurement Vocabulary Transformed\n",
       "31                     enm                Emergent Numeracy & Mathematics\n",
       "32                  Item14                               DCCS Transformed\n",
       "33                  Item15                     Pencil Tapping Transformed\n",
       "34                  Item16                         Digit Span Transformed\n",
       "35                  Item17                     Picture Puzzle Transformed\n",
       "36                     cef              Cognition & Executive Functioning\n",
       "37                  Item18                            Empathy Transformed\n",
       "38                  Item19                     Self-Awareness Transformed\n",
       "39                  Item20                Expressive Language Transformed\n",
       "40                  Item21              Expressive Vocabulary Transformed\n",
       "41                  Item22                 Oral Comprehension Transformed\n",
       "42                  Item23               Sound Discrimination Transformed\n",
       "43                     ell                   Emergent Literacy & Language\n",
       "44                   total                               ELOM Total Score\n",
       "45               ChildObs1                                 Paid Attention\n",
       "46               ChildObs2                            Stayed Concentrated\n",
       "47               ChildObs3                           Careful and Diligent\n",
       "48               ChildObs4                         Interested and Curious\n",
       "49                ChildObs                        Child Observation Total\n",
       "50                SelfCare                                      Self-Care\n",
       "51         SocialRelations                               Social Relations\n",
       "52      EmotionalReadiness                 Emotional Readiness for School"
      ]
     },
     "metadata": {},
     "output_type": "display_data"
    }
   ],
   "source": [
    "dfLabel = pd.DataFrame({\"Variable Name\":['csid',\n",
    "'Province','SchoolID','RuralOrUrbanDistance',\n",
    "'RuralOrUrbanCensus','Quintile',\n",
    "'CompositeQuintileGroup','District','Gender','Age','AgeGroup','HomeLanguage','AssesLanguage','Height','ChildSupportGrant','ProgrammeYear','Item1','Item2',\n",
    "'Item3','Item4','gmd','Item5','Item6','Item7','Item8','fmcvmi','Item9','Item10','Item11','Item12','Item13','enm','Item14','Item15','Item16','Item17','cef',\n",
    "'Item18','Item19','Item20','Item21','Item22','Item23','ell','total','ChildObs1','ChildObs2','ChildObs3','ChildObs4','ChildObs','SelfCare','SocialRelations','EmotionalReadiness'],\n",
    "\"Label\":['Child study ID','Province','School ID','Rural status by distance','Rural status by census','School quintile','Three quintile groupings',\n",
    "'District','Gender of child','Age in months','Age group','Home language','Assessment language','Height in cm','Child Support Grant','Programme Year','Standing Transformed',\n",
    "'BB BH Transformed','BB DH Transformed','BB OH Transformed','Gross Motor Development','Cross & Square Transformed','Triangle Transformed','Draw Person Transformed',\n",
    "'String Beads Transformed','Fine Motor Control & Visual Motor Integration','Counting Transformed','Add & Sub Transformed','Sort and Class Transformed',\n",
    "'Spacial Vocabulary Transformed','Measurement Vocabulary Transformed','Emergent Numeracy & Mathematics','DCCS Transformed','Pencil Tapping Transformed',\n",
    "'Digit Span Transformed','Picture Puzzle Transformed','Cognition & Executive Functioning','Empathy Transformed','Self-Awareness Transformed',\n",
    "'Expressive Language Transformed','Expressive Vocabulary Transformed','Oral Comprehension Transformed','Sound Discrimination Transformed',\n",
    "'Emergent Literacy & Language','ELOM Total Score','Paid Attention','Stayed Concentrated','Careful and Diligent','Interested and Curious',\n",
    "'Child Observation Total','Self-Care','Social Relations','Emotional Readiness for School']})\n",
    "display(dfLabel)"
   ]
  },
  {
   "cell_type": "markdown",
   "metadata": {},
   "source": [
    "Both our datasets contain socio-economic and behavioural factors as well as the ELOM score. These variables will make up our models for the different questions. We will be able to use these models with Least-squares Regression and Hypothesis Testing in order to gain inferences regarding the relationships between the independent variables (socio-economic and behavioural factors) and the dependent variable (ELOM score).\n",
    "\n",
    "These inferences will allow us to adequately answer each of our questions."
   ]
  },
  {
   "cell_type": "markdown",
   "metadata": {},
   "source": [
    "## Data Wrangling\n",
    "\n",
    "For both datasets, we noted the following:\n",
    "\n",
    "It is clear from below that every column header is a variable name and not a value.\n",
    "We can also see that each variable corresponds to a single column.\n",
    "Variables are stored in columns whereas observations are in rows.\n",
    "Every observational unit is stored in a single table.\n",
    "\n",
    "### *A step-by-step overview of the data wrangling process is displayed below*"
   ]
  },
  {
   "cell_type": "markdown",
   "metadata": {},
   "source": [
    "Using the evidence below we can conclude that the data is indeed tidy and ready to use for modelling and answering our questions."
   ]
  },
  {
   "cell_type": "markdown",
   "metadata": {},
   "source": [
    "Checks in order to identify any null and duplicate values"
   ]
  },
  {
   "cell_type": "code",
   "execution_count": 7,
   "metadata": {
    "tags": []
   },
   "outputs": [
    {
     "name": "stdout",
     "output_type": "stream",
     "text": [
      "<class 'pandas.core.frame.DataFrame'>\n",
      "Int64Index: 1331 entries, 0 to 1330\n",
      "Data columns (total 50 columns):\n",
      " #   Column                  Non-Null Count  Dtype   \n",
      "---  ------                  --------------  -----   \n",
      " 0   csid                    1331 non-null   object  \n",
      " 1   Assessor                1331 non-null   int8    \n",
      " 2   Province                1331 non-null   category\n",
      " 3   School                  1331 non-null   category\n",
      " 4   RuralOrUrban            1331 non-null   category\n",
      " 5   Traditional             1331 non-null   category\n",
      " 6   Quintile                1331 non-null   category\n",
      " 7   CompositeQuintileGroup  1331 non-null   category\n",
      " 8   Gender                  1331 non-null   category\n",
      " 9   Age                     1331 non-null   float64 \n",
      " 10  AgeGroup                1331 non-null   category\n",
      " 11  HomeLanguage            1331 non-null   category\n",
      " 12  AssesLanguage           1331 non-null   category\n",
      " 13  WHOScreen               1331 non-null   int8    \n",
      " 14  Height                  1331 non-null   float64 \n",
      " 15  hfa                     1331 non-null   float64 \n",
      " 16  Item1                   1331 non-null   float64 \n",
      " 17  Item2                   1331 non-null   float64 \n",
      " 18  Item3                   1331 non-null   float64 \n",
      " 19  Item4                   1331 non-null   float64 \n",
      " 20  gmd                     1331 non-null   float64 \n",
      " 21  Item5                   1331 non-null   float64 \n",
      " 22  Item6                   1331 non-null   float64 \n",
      " 23  Item7                   1331 non-null   float64 \n",
      " 24  Item8                   1331 non-null   float64 \n",
      " 25  fmcvmi                  1331 non-null   float64 \n",
      " 26  Item9                   1331 non-null   float64 \n",
      " 27  Item10                  1331 non-null   float64 \n",
      " 28  Item11                  1331 non-null   float64 \n",
      " 29  Item12                  1331 non-null   float64 \n",
      " 30  Item13                  1331 non-null   float64 \n",
      " 31  enm                     1331 non-null   float64 \n",
      " 32  Item14                  1331 non-null   float64 \n",
      " 33  Item15                  1331 non-null   float64 \n",
      " 34  Item16                  1331 non-null   float64 \n",
      " 35  Item17                  1331 non-null   float64 \n",
      " 36  cef                     1331 non-null   float64 \n",
      " 37  Item18                  1331 non-null   float64 \n",
      " 38  Item19                  1331 non-null   float64 \n",
      " 39  Item20                  1331 non-null   float64 \n",
      " 40  Item21                  1331 non-null   float64 \n",
      " 41  Item22                  1331 non-null   float64 \n",
      " 42  Item23                  1331 non-null   float64 \n",
      " 43  ell                     1331 non-null   float64 \n",
      " 44  Total                   1331 non-null   float64 \n",
      " 45  ChildObs1               1331 non-null   category\n",
      " 46  ChildObs2               1331 non-null   category\n",
      " 47  ChildObs3               1331 non-null   category\n",
      " 48  ChildObs4               1331 non-null   category\n",
      " 49  ChildObsTotal           1331 non-null   int8    \n",
      "dtypes: category(14), float64(32), int8(3), object(1)\n",
      "memory usage: 380.9+ KB\n",
      "None \n",
      "___________duplicated()___________\n",
      " False \n",
      "_____________isnull()_____________\n",
      " csid                      0\n",
      "Assessor                  0\n",
      "Province                  0\n",
      "School                    0\n",
      "RuralOrUrban              0\n",
      "Traditional               0\n",
      "Quintile                  0\n",
      "CompositeQuintileGroup    0\n",
      "Gender                    0\n",
      "Age                       0\n",
      "AgeGroup                  0\n",
      "HomeLanguage              0\n",
      "AssesLanguage             0\n",
      "WHOScreen                 0\n",
      "Height                    0\n",
      "hfa                       0\n",
      "Item1                     0\n",
      "Item2                     0\n",
      "Item3                     0\n",
      "Item4                     0\n",
      "gmd                       0\n",
      "Item5                     0\n",
      "Item6                     0\n",
      "Item7                     0\n",
      "Item8                     0\n",
      "fmcvmi                    0\n",
      "Item9                     0\n",
      "Item10                    0\n",
      "Item11                    0\n",
      "Item12                    0\n",
      "Item13                    0\n",
      "enm                       0\n",
      "Item14                    0\n",
      "Item15                    0\n",
      "Item16                    0\n",
      "Item17                    0\n",
      "cef                       0\n",
      "Item18                    0\n",
      "Item19                    0\n",
      "Item20                    0\n",
      "Item21                    0\n",
      "Item22                    0\n",
      "Item23                    0\n",
      "ell                       0\n",
      "Total                     0\n",
      "ChildObs1                 0\n",
      "ChildObs2                 0\n",
      "ChildObs3                 0\n",
      "ChildObs4                 0\n",
      "ChildObsTotal             0\n",
      "dtype: int64\n",
      "<class 'pandas.core.frame.DataFrame'>\n",
      "Int64Index: 2055 entries, 0 to 2054\n",
      "Data columns (total 54 columns):\n",
      " #   Column                  Non-Null Count  Dtype   \n",
      "---  ------                  --------------  -----   \n",
      " 0   csid                    2055 non-null   object  \n",
      " 1   Province                2055 non-null   category\n",
      " 2   SchoolID                2055 non-null   int16   \n",
      " 3   RuralOrUrbanDistance    2055 non-null   category\n",
      " 4   RuralOrUrbanCensus      2055 non-null   category\n",
      " 5   Quintile                2055 non-null   int8    \n",
      " 6   CompositeQuintileGroup  2055 non-null   category\n",
      " 7   District                2055 non-null   category\n",
      " 8   Gender                  2055 non-null   category\n",
      " 9   Age                     2055 non-null   float64 \n",
      " 10  AgeGroup                2055 non-null   category\n",
      " 11  HomeLanguage            2055 non-null   category\n",
      " 12  AssesLanguage           2055 non-null   category\n",
      " 13  Height                  2055 non-null   float64 \n",
      " 14  hfa                     1679 non-null   float64 \n",
      " 15  ChildSupportGrant       2055 non-null   category\n",
      " 16  ProgrammeYear           2055 non-null   category\n",
      " 17  Item1                   2055 non-null   float64 \n",
      " 18  Item2                   2055 non-null   float64 \n",
      " 19  Item3                   2055 non-null   float64 \n",
      " 20  Item4                   2055 non-null   float64 \n",
      " 21  gmd                     2055 non-null   float64 \n",
      " 22  Item5                   2055 non-null   float64 \n",
      " 23  Item6                   2055 non-null   float64 \n",
      " 24  Item7                   2055 non-null   float64 \n",
      " 25  Item8                   2055 non-null   float64 \n",
      " 26  fmcvmi                  2055 non-null   float64 \n",
      " 27  Item9                   2055 non-null   float64 \n",
      " 28  Item10                  2055 non-null   float64 \n",
      " 29  Item11                  2055 non-null   float64 \n",
      " 30  Item12                  2055 non-null   float64 \n",
      " 31  Item13                  2055 non-null   float64 \n",
      " 32  enm                     2055 non-null   float64 \n",
      " 33  Item14                  2055 non-null   float64 \n",
      " 34  Item15                  2055 non-null   float64 \n",
      " 35  Item16                  2055 non-null   float64 \n",
      " 36  Item17                  2055 non-null   float64 \n",
      " 37  cef                     2055 non-null   float64 \n",
      " 38  Item18                  2055 non-null   float64 \n",
      " 39  Item19                  2055 non-null   float64 \n",
      " 40  Item20                  2055 non-null   float64 \n",
      " 41  Item21                  2055 non-null   float64 \n",
      " 42  Item22                  2055 non-null   float64 \n",
      " 43  Item23                  2055 non-null   float64 \n",
      " 44  ell                     2055 non-null   float64 \n",
      " 45  total                   2055 non-null   float64 \n",
      " 46  ChildObs1               2055 non-null   category\n",
      " 47  ChildObs2               2055 non-null   category\n",
      " 48  ChildObs3               2055 non-null   category\n",
      " 49  ChildObs4               2055 non-null   category\n",
      " 50  ChildObs                2055 non-null   int8    \n",
      " 51  SelfCare                2055 non-null   int8    \n",
      " 52  SocialRelations         2055 non-null   int8    \n",
      " 53  EmotionalReadiness      2055 non-null   int8    \n",
      "dtypes: category(15), float64(32), int16(1), int8(5), object(1)\n",
      "memory usage: 592.4+ KB\n",
      "None \n",
      "___________duplicated()___________\n",
      " False \n",
      "_____________isnull()_____________\n",
      " csid                        0\n",
      "Province                    0\n",
      "SchoolID                    0\n",
      "RuralOrUrbanDistance        0\n",
      "RuralOrUrbanCensus          0\n",
      "Quintile                    0\n",
      "CompositeQuintileGroup      0\n",
      "District                    0\n",
      "Gender                      0\n",
      "Age                         0\n",
      "AgeGroup                    0\n",
      "HomeLanguage                0\n",
      "AssesLanguage               0\n",
      "Height                      0\n",
      "hfa                       376\n",
      "ChildSupportGrant           0\n",
      "ProgrammeYear               0\n",
      "Item1                       0\n",
      "Item2                       0\n",
      "Item3                       0\n",
      "Item4                       0\n",
      "gmd                         0\n",
      "Item5                       0\n",
      "Item6                       0\n",
      "Item7                       0\n",
      "Item8                       0\n",
      "fmcvmi                      0\n",
      "Item9                       0\n",
      "Item10                      0\n",
      "Item11                      0\n",
      "Item12                      0\n",
      "Item13                      0\n",
      "enm                         0\n",
      "Item14                      0\n",
      "Item15                      0\n",
      "Item16                      0\n",
      "Item17                      0\n",
      "cef                         0\n",
      "Item18                      0\n",
      "Item19                      0\n",
      "Item20                      0\n",
      "Item21                      0\n",
      "Item22                      0\n",
      "Item23                      0\n",
      "ell                         0\n",
      "total                       0\n",
      "ChildObs1                   0\n",
      "ChildObs2                   0\n",
      "ChildObs3                   0\n",
      "ChildObs4                   0\n",
      "ChildObs                    0\n",
      "SelfCare                    0\n",
      "SocialRelations             0\n",
      "EmotionalReadiness          0\n",
      "dtype: int64\n"
     ]
    }
   ],
   "source": [
    "print(df2016.info(),\n",
    "     '\\n___________duplicated()___________\\n', df2016.duplicated().any(),\n",
    "     '\\n_____________isnull()_____________\\n', df2016.isnull().sum()\n",
    "     )\n",
    "\n",
    "print(df2019.info(),\n",
    "     '\\n___________duplicated()___________\\n', df2019.duplicated().any(),\n",
    "     '\\n_____________isnull()_____________\\n', df2019.isnull().sum()\n",
    "     )"
   ]
  },
  {
   "cell_type": "markdown",
   "metadata": {},
   "source": [
    "We determined that the `hfa` column would not be necessary to answer any of the questions we posed. As such, and due to the fact that it contained `null` values, we decided to drop it.\n",
    "We also dropped the `Assessor`, `Traditional` and `WHOScreen` columns from the 2016 dataset in order to remain consistent as they did not appear in the 2019 dataset."
   ]
  },
  {
   "cell_type": "code",
   "execution_count": 8,
   "metadata": {
    "collapsed": false,
    "jupyter": {
     "outputs_hidden": false
    }
   },
   "outputs": [],
   "source": [
    "df2019 = df2019.drop(['hfa'],axis=1)\n",
    "df2016 = df2016.drop(['Assessor','Traditional','WHOScreen','hfa'],axis=1)"
   ]
  },
  {
   "cell_type": "markdown",
   "metadata": {},
   "source": [
    "For the next part of the data cleaning process, we examined each categorical variable in our DataFrame and ensured that order was present in only the variables where applicable."
   ]
  },
  {
   "cell_type": "code",
   "execution_count": 9,
   "metadata": {},
   "outputs": [],
   "source": [
    "# Removing order between catgreories which was not applicable\n",
    "df2019.Province = pd.Categorical(df2019.Province,ordered = False)\n",
    "df2019.RuralOrUrbanDistance = pd.Categorical(df2019.RuralOrUrbanDistance,ordered = False)\n",
    "df2019.RuralOrUrbanCensus = pd.Categorical(df2019.RuralOrUrbanCensus,ordered = False)\n",
    "df2019.District = pd.Categorical(df2019.District,ordered = False)\n",
    "df2019.Gender = pd.Categorical(df2019.Gender,ordered = False)\n",
    "df2019.HomeLanguage = pd.Categorical(df2019.HomeLanguage,ordered = False)\n",
    "df2019.AssesLanguage = pd.Categorical(df2019.AssesLanguage,ordered = False)\n",
    "df2019.ChildSupportGrant = pd.Categorical(df2019.ChildSupportGrant,ordered = False)\n",
    "\n",
    "df2016.Province = pd.Categorical(df2016.Province,ordered = False)\n",
    "df2016.Gender = pd.Categorical(df2016.Gender,ordered = False)\n",
    "df2016.HomeLanguage = pd.Categorical(df2016.HomeLanguage,ordered = False)\n",
    "df2016.AssesLanguage = pd.Categorical(df2016.AssesLanguage,ordered = False)\n",
    "\n",
    "# Renamed category\n",
    "df2019['District'] = df2019['District'].replace('CAPE WINELANDS', 'cape winelands')\n",
    "\n",
    "#Replace '1' with 1 in Quintile variable for 2016 dataset\n",
    "df2016['Quintile'] = df2016['Quintile'].replace('1',1)\n",
    "df2016 = df2016[df2016.HomeLanguage!=\"Other\"]\n",
    "df2016 = df2016[df2016.HomeLanguage!=\"Missing\"]\n",
    "df2016.HomeLanguage = df2016.HomeLanguage.cat.remove_categories(['Missing','Other'])"
   ]
  },
  {
   "cell_type": "markdown",
   "metadata": {},
   "source": [
    "As seen below, the DataFrame is now clear of duplicates and `null` values and is able to be used to generate our models. The below code just makes sure that our data conforms to the attributes of good data quality and in turn also serves as a sense check between our now clean data and our raw data above."
   ]
  },
  {
   "cell_type": "markdown",
   "metadata": {},
   "source": [
    "Due to a delay in data collection, most children fell into the older age band of 60 to 69 months.\n",
    "In order to reach the target required to conduct the study (2000 children), the age range was expanded to include children up to age of 72 months. This falls outside of\n",
    "the age validation range for ELOM and therefore we have removed these records from the datasets."
   ]
  },
  {
   "cell_type": "code",
   "execution_count": 10,
   "metadata": {},
   "outputs": [],
   "source": [
    "df2019 = df2019[df2019.Age<69]\n",
    "df2016 = df2016[df2016.Age<69]"
   ]
  },
  {
   "cell_type": "code",
   "execution_count": 11,
   "metadata": {},
   "outputs": [
    {
     "data": {
      "text/markdown": [
       "#### 2019 Dataset - Before cleaning"
      ],
      "text/plain": [
       "<IPython.core.display.Markdown object>"
      ]
     },
     "metadata": {},
     "output_type": "display_data"
    },
    {
     "data": {
      "text/html": [
       "<div>\n",
       "<style scoped>\n",
       "    .dataframe tbody tr th:only-of-type {\n",
       "        vertical-align: middle;\n",
       "    }\n",
       "\n",
       "    .dataframe tbody tr th {\n",
       "        vertical-align: top;\n",
       "    }\n",
       "\n",
       "    .dataframe thead th {\n",
       "        text-align: right;\n",
       "    }\n",
       "</style>\n",
       "<table border=\"1\" class=\"dataframe\">\n",
       "  <thead>\n",
       "    <tr style=\"text-align: right;\">\n",
       "      <th></th>\n",
       "      <th>SchoolID</th>\n",
       "      <th>Quintile</th>\n",
       "      <th>Age</th>\n",
       "      <th>Height</th>\n",
       "      <th>hfa</th>\n",
       "      <th>Item1</th>\n",
       "      <th>Item2</th>\n",
       "      <th>Item3</th>\n",
       "      <th>Item4</th>\n",
       "      <th>gmd</th>\n",
       "      <th>Item5</th>\n",
       "      <th>Item6</th>\n",
       "      <th>Item7</th>\n",
       "      <th>Item8</th>\n",
       "      <th>fmcvmi</th>\n",
       "      <th>Item9</th>\n",
       "      <th>Item10</th>\n",
       "      <th>Item11</th>\n",
       "      <th>Item12</th>\n",
       "      <th>Item13</th>\n",
       "      <th>enm</th>\n",
       "      <th>Item14</th>\n",
       "      <th>Item15</th>\n",
       "      <th>Item16</th>\n",
       "      <th>Item17</th>\n",
       "      <th>cef</th>\n",
       "      <th>Item18</th>\n",
       "      <th>Item19</th>\n",
       "      <th>Item20</th>\n",
       "      <th>Item21</th>\n",
       "      <th>Item22</th>\n",
       "      <th>Item23</th>\n",
       "      <th>ell</th>\n",
       "      <th>total</th>\n",
       "      <th>ChildObs</th>\n",
       "      <th>SelfCare</th>\n",
       "      <th>SocialRelations</th>\n",
       "      <th>EmotionalReadiness</th>\n",
       "    </tr>\n",
       "  </thead>\n",
       "  <tbody>\n",
       "    <tr>\n",
       "      <th>count</th>\n",
       "      <td>2055.000000</td>\n",
       "      <td>2055.000000</td>\n",
       "      <td>2055.000000</td>\n",
       "      <td>2055.000000</td>\n",
       "      <td>1679.000000</td>\n",
       "      <td>2055.000000</td>\n",
       "      <td>2055.000000</td>\n",
       "      <td>2055.000000</td>\n",
       "      <td>2055.000000</td>\n",
       "      <td>2055.000000</td>\n",
       "      <td>2055.000000</td>\n",
       "      <td>2055.000000</td>\n",
       "      <td>2055.000000</td>\n",
       "      <td>2055.000000</td>\n",
       "      <td>2055.000000</td>\n",
       "      <td>2055.000000</td>\n",
       "      <td>2055.000000</td>\n",
       "      <td>2055.000000</td>\n",
       "      <td>2055.000000</td>\n",
       "      <td>2055.000000</td>\n",
       "      <td>2055.000000</td>\n",
       "      <td>2055.000000</td>\n",
       "      <td>2055.000000</td>\n",
       "      <td>2055.000000</td>\n",
       "      <td>2055.000000</td>\n",
       "      <td>2055.000000</td>\n",
       "      <td>2055.000000</td>\n",
       "      <td>2055.000000</td>\n",
       "      <td>2055.000000</td>\n",
       "      <td>2055.000000</td>\n",
       "      <td>2055.000000</td>\n",
       "      <td>2055.000000</td>\n",
       "      <td>2055.000000</td>\n",
       "      <td>2055.000000</td>\n",
       "      <td>2055.000000</td>\n",
       "      <td>2055.000000</td>\n",
       "      <td>2055.000000</td>\n",
       "      <td>2055.000000</td>\n",
       "    </tr>\n",
       "    <tr>\n",
       "      <th>mean</th>\n",
       "      <td>402.864234</td>\n",
       "      <td>2.608273</td>\n",
       "      <td>65.011416</td>\n",
       "      <td>110.007932</td>\n",
       "      <td>-0.425825</td>\n",
       "      <td>2.466195</td>\n",
       "      <td>2.611523</td>\n",
       "      <td>2.690715</td>\n",
       "      <td>2.557567</td>\n",
       "      <td>10.326000</td>\n",
       "      <td>3.901917</td>\n",
       "      <td>2.819319</td>\n",
       "      <td>3.890769</td>\n",
       "      <td>4.272453</td>\n",
       "      <td>14.884457</td>\n",
       "      <td>2.762959</td>\n",
       "      <td>1.823280</td>\n",
       "      <td>2.015255</td>\n",
       "      <td>2.316175</td>\n",
       "      <td>2.257981</td>\n",
       "      <td>11.175650</td>\n",
       "      <td>2.212959</td>\n",
       "      <td>2.821543</td>\n",
       "      <td>2.244740</td>\n",
       "      <td>2.304720</td>\n",
       "      <td>9.583961</td>\n",
       "      <td>1.482380</td>\n",
       "      <td>2.213898</td>\n",
       "      <td>2.247859</td>\n",
       "      <td>2.309859</td>\n",
       "      <td>2.206117</td>\n",
       "      <td>1.393912</td>\n",
       "      <td>11.854024</td>\n",
       "      <td>57.824092</td>\n",
       "      <td>7.172263</td>\n",
       "      <td>3.714842</td>\n",
       "      <td>17.745012</td>\n",
       "      <td>8.243796</td>\n",
       "    </tr>\n",
       "    <tr>\n",
       "      <th>std</th>\n",
       "      <td>548.131064</td>\n",
       "      <td>1.385286</td>\n",
       "      <td>4.054256</td>\n",
       "      <td>5.378171</td>\n",
       "      <td>1.028447</td>\n",
       "      <td>0.781431</td>\n",
       "      <td>1.065725</td>\n",
       "      <td>1.890654</td>\n",
       "      <td>2.164374</td>\n",
       "      <td>4.114416</td>\n",
       "      <td>0.704913</td>\n",
       "      <td>2.228528</td>\n",
       "      <td>1.031007</td>\n",
       "      <td>1.165593</td>\n",
       "      <td>3.481067</td>\n",
       "      <td>1.930683</td>\n",
       "      <td>1.912787</td>\n",
       "      <td>1.261084</td>\n",
       "      <td>0.800803</td>\n",
       "      <td>0.708819</td>\n",
       "      <td>4.275962</td>\n",
       "      <td>1.119662</td>\n",
       "      <td>2.492492</td>\n",
       "      <td>1.510503</td>\n",
       "      <td>1.636031</td>\n",
       "      <td>4.443745</td>\n",
       "      <td>1.600699</td>\n",
       "      <td>1.412721</td>\n",
       "      <td>0.823815</td>\n",
       "      <td>0.783484</td>\n",
       "      <td>1.068178</td>\n",
       "      <td>1.611348</td>\n",
       "      <td>4.575578</td>\n",
       "      <td>14.530255</td>\n",
       "      <td>3.177714</td>\n",
       "      <td>0.598968</td>\n",
       "      <td>3.755450</td>\n",
       "      <td>2.969404</td>\n",
       "    </tr>\n",
       "    <tr>\n",
       "      <th>min</th>\n",
       "      <td>1.000000</td>\n",
       "      <td>1.000000</td>\n",
       "      <td>49.803280</td>\n",
       "      <td>92.000000</td>\n",
       "      <td>-4.120000</td>\n",
       "      <td>0.000000</td>\n",
       "      <td>0.000000</td>\n",
       "      <td>0.000000</td>\n",
       "      <td>0.000000</td>\n",
       "      <td>0.000000</td>\n",
       "      <td>0.000000</td>\n",
       "      <td>0.000000</td>\n",
       "      <td>0.000000</td>\n",
       "      <td>1.000000</td>\n",
       "      <td>2.750000</td>\n",
       "      <td>0.000000</td>\n",
       "      <td>0.000000</td>\n",
       "      <td>0.000000</td>\n",
       "      <td>0.000000</td>\n",
       "      <td>0.000000</td>\n",
       "      <td>1.000000</td>\n",
       "      <td>0.000000</td>\n",
       "      <td>0.000000</td>\n",
       "      <td>0.000000</td>\n",
       "      <td>0.000000</td>\n",
       "      <td>0.000000</td>\n",
       "      <td>0.000000</td>\n",
       "      <td>0.000000</td>\n",
       "      <td>0.000000</td>\n",
       "      <td>0.000000</td>\n",
       "      <td>0.000000</td>\n",
       "      <td>0.000000</td>\n",
       "      <td>0.000000</td>\n",
       "      <td>8.600000</td>\n",
       "      <td>0.000000</td>\n",
       "      <td>1.000000</td>\n",
       "      <td>6.000000</td>\n",
       "      <td>0.000000</td>\n",
       "    </tr>\n",
       "    <tr>\n",
       "      <th>25%</th>\n",
       "      <td>33.000000</td>\n",
       "      <td>1.000000</td>\n",
       "      <td>62.016393</td>\n",
       "      <td>106.300000</td>\n",
       "      <td>-1.100000</td>\n",
       "      <td>1.360000</td>\n",
       "      <td>2.070000</td>\n",
       "      <td>2.220000</td>\n",
       "      <td>0.000000</td>\n",
       "      <td>7.200000</td>\n",
       "      <td>4.200000</td>\n",
       "      <td>0.000000</td>\n",
       "      <td>3.770000</td>\n",
       "      <td>3.410000</td>\n",
       "      <td>11.920000</td>\n",
       "      <td>0.000000</td>\n",
       "      <td>0.000000</td>\n",
       "      <td>0.000000</td>\n",
       "      <td>1.380000</td>\n",
       "      <td>2.650000</td>\n",
       "      <td>7.920000</td>\n",
       "      <td>1.000000</td>\n",
       "      <td>0.000000</td>\n",
       "      <td>2.110000</td>\n",
       "      <td>1.260000</td>\n",
       "      <td>6.290000</td>\n",
       "      <td>0.000000</td>\n",
       "      <td>0.000000</td>\n",
       "      <td>2.470000</td>\n",
       "      <td>2.400000</td>\n",
       "      <td>2.190000</td>\n",
       "      <td>0.000000</td>\n",
       "      <td>8.560000</td>\n",
       "      <td>48.090000</td>\n",
       "      <td>5.000000</td>\n",
       "      <td>4.000000</td>\n",
       "      <td>15.000000</td>\n",
       "      <td>6.000000</td>\n",
       "    </tr>\n",
       "    <tr>\n",
       "      <th>50%</th>\n",
       "      <td>60.000000</td>\n",
       "      <td>3.000000</td>\n",
       "      <td>65.475410</td>\n",
       "      <td>110.000000</td>\n",
       "      <td>-0.470000</td>\n",
       "      <td>2.910000</td>\n",
       "      <td>2.070000</td>\n",
       "      <td>2.220000</td>\n",
       "      <td>2.620000</td>\n",
       "      <td>10.190000</td>\n",
       "      <td>4.200000</td>\n",
       "      <td>4.580000</td>\n",
       "      <td>3.770000</td>\n",
       "      <td>3.950000</td>\n",
       "      <td>15.960000</td>\n",
       "      <td>2.810000</td>\n",
       "      <td>2.840000</td>\n",
       "      <td>2.470000</td>\n",
       "      <td>2.800000</td>\n",
       "      <td>2.650000</td>\n",
       "      <td>10.760000</td>\n",
       "      <td>3.110000</td>\n",
       "      <td>2.680000</td>\n",
       "      <td>2.110000</td>\n",
       "      <td>3.020000</td>\n",
       "      <td>9.250000</td>\n",
       "      <td>0.000000</td>\n",
       "      <td>2.640000</td>\n",
       "      <td>2.470000</td>\n",
       "      <td>2.400000</td>\n",
       "      <td>2.190000</td>\n",
       "      <td>0.000000</td>\n",
       "      <td>12.270000</td>\n",
       "      <td>58.820000</td>\n",
       "      <td>7.000000</td>\n",
       "      <td>4.000000</td>\n",
       "      <td>18.000000</td>\n",
       "      <td>8.000000</td>\n",
       "    </tr>\n",
       "    <tr>\n",
       "      <th>75%</th>\n",
       "      <td>1008.000000</td>\n",
       "      <td>4.000000</td>\n",
       "      <td>68.295082</td>\n",
       "      <td>113.010000</td>\n",
       "      <td>0.190000</td>\n",
       "      <td>2.910000</td>\n",
       "      <td>3.590000</td>\n",
       "      <td>3.690000</td>\n",
       "      <td>4.250000</td>\n",
       "      <td>12.920000</td>\n",
       "      <td>4.200000</td>\n",
       "      <td>4.580000</td>\n",
       "      <td>4.740000</td>\n",
       "      <td>5.330000</td>\n",
       "      <td>17.469999</td>\n",
       "      <td>4.050000</td>\n",
       "      <td>2.840000</td>\n",
       "      <td>2.470000</td>\n",
       "      <td>2.800000</td>\n",
       "      <td>2.650000</td>\n",
       "      <td>14.810000</td>\n",
       "      <td>3.110000</td>\n",
       "      <td>4.370000</td>\n",
       "      <td>4.030000</td>\n",
       "      <td>3.020000</td>\n",
       "      <td>12.840000</td>\n",
       "      <td>3.210000</td>\n",
       "      <td>3.420000</td>\n",
       "      <td>2.470000</td>\n",
       "      <td>3.170000</td>\n",
       "      <td>3.090000</td>\n",
       "      <td>2.970000</td>\n",
       "      <td>15.290000</td>\n",
       "      <td>68.290001</td>\n",
       "      <td>10.000000</td>\n",
       "      <td>4.000000</td>\n",
       "      <td>21.000000</td>\n",
       "      <td>11.000000</td>\n",
       "    </tr>\n",
       "    <tr>\n",
       "      <th>max</th>\n",
       "      <td>1474.000000</td>\n",
       "      <td>5.000000</td>\n",
       "      <td>71.934425</td>\n",
       "      <td>137.000000</td>\n",
       "      <td>4.830000</td>\n",
       "      <td>2.910000</td>\n",
       "      <td>3.590000</td>\n",
       "      <td>6.300000</td>\n",
       "      <td>7.200000</td>\n",
       "      <td>20.000000</td>\n",
       "      <td>4.200000</td>\n",
       "      <td>4.580000</td>\n",
       "      <td>4.740000</td>\n",
       "      <td>6.480000</td>\n",
       "      <td>20.000000</td>\n",
       "      <td>6.030000</td>\n",
       "      <td>4.510000</td>\n",
       "      <td>4.010000</td>\n",
       "      <td>2.800000</td>\n",
       "      <td>2.650000</td>\n",
       "      <td>20.000000</td>\n",
       "      <td>3.110000</td>\n",
       "      <td>6.720000</td>\n",
       "      <td>4.030000</td>\n",
       "      <td>6.140000</td>\n",
       "      <td>20.000000</td>\n",
       "      <td>3.210000</td>\n",
       "      <td>3.420000</td>\n",
       "      <td>3.410000</td>\n",
       "      <td>3.170000</td>\n",
       "      <td>3.090000</td>\n",
       "      <td>3.700000</td>\n",
       "      <td>20.000000</td>\n",
       "      <td>94.910004</td>\n",
       "      <td>12.000000</td>\n",
       "      <td>4.000000</td>\n",
       "      <td>24.000000</td>\n",
       "      <td>12.000000</td>\n",
       "    </tr>\n",
       "  </tbody>\n",
       "</table>\n",
       "</div>"
      ],
      "text/plain": [
       "          SchoolID     Quintile          Age       Height          hfa  \\\n",
       "count  2055.000000  2055.000000  2055.000000  2055.000000  1679.000000   \n",
       "mean    402.864234     2.608273    65.011416   110.007932    -0.425825   \n",
       "std     548.131064     1.385286     4.054256     5.378171     1.028447   \n",
       "min       1.000000     1.000000    49.803280    92.000000    -4.120000   \n",
       "25%      33.000000     1.000000    62.016393   106.300000    -1.100000   \n",
       "50%      60.000000     3.000000    65.475410   110.000000    -0.470000   \n",
       "75%    1008.000000     4.000000    68.295082   113.010000     0.190000   \n",
       "max    1474.000000     5.000000    71.934425   137.000000     4.830000   \n",
       "\n",
       "             Item1        Item2        Item3        Item4          gmd  \\\n",
       "count  2055.000000  2055.000000  2055.000000  2055.000000  2055.000000   \n",
       "mean      2.466195     2.611523     2.690715     2.557567    10.326000   \n",
       "std       0.781431     1.065725     1.890654     2.164374     4.114416   \n",
       "min       0.000000     0.000000     0.000000     0.000000     0.000000   \n",
       "25%       1.360000     2.070000     2.220000     0.000000     7.200000   \n",
       "50%       2.910000     2.070000     2.220000     2.620000    10.190000   \n",
       "75%       2.910000     3.590000     3.690000     4.250000    12.920000   \n",
       "max       2.910000     3.590000     6.300000     7.200000    20.000000   \n",
       "\n",
       "             Item5        Item6        Item7        Item8       fmcvmi  \\\n",
       "count  2055.000000  2055.000000  2055.000000  2055.000000  2055.000000   \n",
       "mean      3.901917     2.819319     3.890769     4.272453    14.884457   \n",
       "std       0.704913     2.228528     1.031007     1.165593     3.481067   \n",
       "min       0.000000     0.000000     0.000000     1.000000     2.750000   \n",
       "25%       4.200000     0.000000     3.770000     3.410000    11.920000   \n",
       "50%       4.200000     4.580000     3.770000     3.950000    15.960000   \n",
       "75%       4.200000     4.580000     4.740000     5.330000    17.469999   \n",
       "max       4.200000     4.580000     4.740000     6.480000    20.000000   \n",
       "\n",
       "             Item9       Item10       Item11       Item12       Item13  \\\n",
       "count  2055.000000  2055.000000  2055.000000  2055.000000  2055.000000   \n",
       "mean      2.762959     1.823280     2.015255     2.316175     2.257981   \n",
       "std       1.930683     1.912787     1.261084     0.800803     0.708819   \n",
       "min       0.000000     0.000000     0.000000     0.000000     0.000000   \n",
       "25%       0.000000     0.000000     0.000000     1.380000     2.650000   \n",
       "50%       2.810000     2.840000     2.470000     2.800000     2.650000   \n",
       "75%       4.050000     2.840000     2.470000     2.800000     2.650000   \n",
       "max       6.030000     4.510000     4.010000     2.800000     2.650000   \n",
       "\n",
       "               enm       Item14       Item15       Item16       Item17  \\\n",
       "count  2055.000000  2055.000000  2055.000000  2055.000000  2055.000000   \n",
       "mean     11.175650     2.212959     2.821543     2.244740     2.304720   \n",
       "std       4.275962     1.119662     2.492492     1.510503     1.636031   \n",
       "min       1.000000     0.000000     0.000000     0.000000     0.000000   \n",
       "25%       7.920000     1.000000     0.000000     2.110000     1.260000   \n",
       "50%      10.760000     3.110000     2.680000     2.110000     3.020000   \n",
       "75%      14.810000     3.110000     4.370000     4.030000     3.020000   \n",
       "max      20.000000     3.110000     6.720000     4.030000     6.140000   \n",
       "\n",
       "               cef       Item18       Item19       Item20       Item21  \\\n",
       "count  2055.000000  2055.000000  2055.000000  2055.000000  2055.000000   \n",
       "mean      9.583961     1.482380     2.213898     2.247859     2.309859   \n",
       "std       4.443745     1.600699     1.412721     0.823815     0.783484   \n",
       "min       0.000000     0.000000     0.000000     0.000000     0.000000   \n",
       "25%       6.290000     0.000000     0.000000     2.470000     2.400000   \n",
       "50%       9.250000     0.000000     2.640000     2.470000     2.400000   \n",
       "75%      12.840000     3.210000     3.420000     2.470000     3.170000   \n",
       "max      20.000000     3.210000     3.420000     3.410000     3.170000   \n",
       "\n",
       "            Item22       Item23          ell        total     ChildObs  \\\n",
       "count  2055.000000  2055.000000  2055.000000  2055.000000  2055.000000   \n",
       "mean      2.206117     1.393912    11.854024    57.824092     7.172263   \n",
       "std       1.068178     1.611348     4.575578    14.530255     3.177714   \n",
       "min       0.000000     0.000000     0.000000     8.600000     0.000000   \n",
       "25%       2.190000     0.000000     8.560000    48.090000     5.000000   \n",
       "50%       2.190000     0.000000    12.270000    58.820000     7.000000   \n",
       "75%       3.090000     2.970000    15.290000    68.290001    10.000000   \n",
       "max       3.090000     3.700000    20.000000    94.910004    12.000000   \n",
       "\n",
       "          SelfCare  SocialRelations  EmotionalReadiness  \n",
       "count  2055.000000      2055.000000         2055.000000  \n",
       "mean      3.714842        17.745012            8.243796  \n",
       "std       0.598968         3.755450            2.969404  \n",
       "min       1.000000         6.000000            0.000000  \n",
       "25%       4.000000        15.000000            6.000000  \n",
       "50%       4.000000        18.000000            8.000000  \n",
       "75%       4.000000        21.000000           11.000000  \n",
       "max       4.000000        24.000000           12.000000  "
      ]
     },
     "metadata": {},
     "output_type": "display_data"
    },
    {
     "data": {
      "text/markdown": [
       "#### 2019 Dataset - After cleaning"
      ],
      "text/plain": [
       "<IPython.core.display.Markdown object>"
      ]
     },
     "metadata": {},
     "output_type": "display_data"
    },
    {
     "data": {
      "text/html": [
       "<div>\n",
       "<style scoped>\n",
       "    .dataframe tbody tr th:only-of-type {\n",
       "        vertical-align: middle;\n",
       "    }\n",
       "\n",
       "    .dataframe tbody tr th {\n",
       "        vertical-align: top;\n",
       "    }\n",
       "\n",
       "    .dataframe thead th {\n",
       "        text-align: right;\n",
       "    }\n",
       "</style>\n",
       "<table border=\"1\" class=\"dataframe\">\n",
       "  <thead>\n",
       "    <tr style=\"text-align: right;\">\n",
       "      <th></th>\n",
       "      <th>SchoolID</th>\n",
       "      <th>Quintile</th>\n",
       "      <th>Age</th>\n",
       "      <th>Height</th>\n",
       "      <th>Item1</th>\n",
       "      <th>Item2</th>\n",
       "      <th>Item3</th>\n",
       "      <th>Item4</th>\n",
       "      <th>gmd</th>\n",
       "      <th>Item5</th>\n",
       "      <th>Item6</th>\n",
       "      <th>Item7</th>\n",
       "      <th>Item8</th>\n",
       "      <th>fmcvmi</th>\n",
       "      <th>Item9</th>\n",
       "      <th>Item10</th>\n",
       "      <th>Item11</th>\n",
       "      <th>Item12</th>\n",
       "      <th>Item13</th>\n",
       "      <th>enm</th>\n",
       "      <th>Item14</th>\n",
       "      <th>Item15</th>\n",
       "      <th>Item16</th>\n",
       "      <th>Item17</th>\n",
       "      <th>cef</th>\n",
       "      <th>Item18</th>\n",
       "      <th>Item19</th>\n",
       "      <th>Item20</th>\n",
       "      <th>Item21</th>\n",
       "      <th>Item22</th>\n",
       "      <th>Item23</th>\n",
       "      <th>ell</th>\n",
       "      <th>total</th>\n",
       "      <th>ChildObs</th>\n",
       "      <th>SelfCare</th>\n",
       "      <th>SocialRelations</th>\n",
       "      <th>EmotionalReadiness</th>\n",
       "    </tr>\n",
       "  </thead>\n",
       "  <tbody>\n",
       "    <tr>\n",
       "      <th>count</th>\n",
       "      <td>1679.000000</td>\n",
       "      <td>1679.000000</td>\n",
       "      <td>1679.000000</td>\n",
       "      <td>1679.000000</td>\n",
       "      <td>1679.000000</td>\n",
       "      <td>1679.000000</td>\n",
       "      <td>1679.000000</td>\n",
       "      <td>1679.000000</td>\n",
       "      <td>1679.000000</td>\n",
       "      <td>1679.000000</td>\n",
       "      <td>1679.000000</td>\n",
       "      <td>1679.000000</td>\n",
       "      <td>1679.000000</td>\n",
       "      <td>1679.000000</td>\n",
       "      <td>1679.000000</td>\n",
       "      <td>1679.000000</td>\n",
       "      <td>1679.000000</td>\n",
       "      <td>1679.000000</td>\n",
       "      <td>1679.000000</td>\n",
       "      <td>1679.000000</td>\n",
       "      <td>1679.000000</td>\n",
       "      <td>1679.000000</td>\n",
       "      <td>1679.000000</td>\n",
       "      <td>1679.000000</td>\n",
       "      <td>1679.000000</td>\n",
       "      <td>1679.000000</td>\n",
       "      <td>1679.000000</td>\n",
       "      <td>1679.000000</td>\n",
       "      <td>1679.000000</td>\n",
       "      <td>1679.000000</td>\n",
       "      <td>1679.000000</td>\n",
       "      <td>1679.000000</td>\n",
       "      <td>1679.000000</td>\n",
       "      <td>1679.000000</td>\n",
       "      <td>1679.00000</td>\n",
       "      <td>1679.000000</td>\n",
       "      <td>1679.000000</td>\n",
       "    </tr>\n",
       "    <tr>\n",
       "      <th>mean</th>\n",
       "      <td>388.169744</td>\n",
       "      <td>2.553901</td>\n",
       "      <td>63.870356</td>\n",
       "      <td>109.462912</td>\n",
       "      <td>2.454979</td>\n",
       "      <td>2.572484</td>\n",
       "      <td>2.625098</td>\n",
       "      <td>2.492847</td>\n",
       "      <td>10.145408</td>\n",
       "      <td>3.882632</td>\n",
       "      <td>2.686897</td>\n",
       "      <td>3.826843</td>\n",
       "      <td>4.191161</td>\n",
       "      <td>14.587534</td>\n",
       "      <td>2.628493</td>\n",
       "      <td>1.690661</td>\n",
       "      <td>1.993329</td>\n",
       "      <td>2.311423</td>\n",
       "      <td>2.260602</td>\n",
       "      <td>10.884509</td>\n",
       "      <td>2.176504</td>\n",
       "      <td>2.687528</td>\n",
       "      <td>2.237647</td>\n",
       "      <td>2.148183</td>\n",
       "      <td>9.249863</td>\n",
       "      <td>1.437713</td>\n",
       "      <td>2.169077</td>\n",
       "      <td>2.228124</td>\n",
       "      <td>2.275503</td>\n",
       "      <td>2.196790</td>\n",
       "      <td>1.317969</td>\n",
       "      <td>11.625176</td>\n",
       "      <td>56.492490</td>\n",
       "      <td>7.020250</td>\n",
       "      <td>3.69863</td>\n",
       "      <td>17.764741</td>\n",
       "      <td>8.138773</td>\n",
       "    </tr>\n",
       "    <tr>\n",
       "      <th>std</th>\n",
       "      <td>537.014162</td>\n",
       "      <td>1.374654</td>\n",
       "      <td>3.586628</td>\n",
       "      <td>5.271203</td>\n",
       "      <td>0.797076</td>\n",
       "      <td>1.078710</td>\n",
       "      <td>1.877041</td>\n",
       "      <td>2.135327</td>\n",
       "      <td>4.110971</td>\n",
       "      <td>0.719586</td>\n",
       "      <td>2.256015</td>\n",
       "      <td>1.059349</td>\n",
       "      <td>1.131424</td>\n",
       "      <td>3.486136</td>\n",
       "      <td>1.925064</td>\n",
       "      <td>1.884458</td>\n",
       "      <td>1.267204</td>\n",
       "      <td>0.802601</td>\n",
       "      <td>0.708677</td>\n",
       "      <td>4.235020</td>\n",
       "      <td>1.135701</td>\n",
       "      <td>2.476568</td>\n",
       "      <td>1.515412</td>\n",
       "      <td>1.588566</td>\n",
       "      <td>4.386015</td>\n",
       "      <td>1.596734</td>\n",
       "      <td>1.427003</td>\n",
       "      <td>0.829446</td>\n",
       "      <td>0.787391</td>\n",
       "      <td>1.065487</td>\n",
       "      <td>1.591461</td>\n",
       "      <td>4.582169</td>\n",
       "      <td>14.406673</td>\n",
       "      <td>3.193904</td>\n",
       "      <td>0.61347</td>\n",
       "      <td>3.677726</td>\n",
       "      <td>2.979335</td>\n",
       "    </tr>\n",
       "    <tr>\n",
       "      <th>min</th>\n",
       "      <td>1.000000</td>\n",
       "      <td>1.000000</td>\n",
       "      <td>49.803280</td>\n",
       "      <td>92.000000</td>\n",
       "      <td>0.000000</td>\n",
       "      <td>0.000000</td>\n",
       "      <td>0.000000</td>\n",
       "      <td>0.000000</td>\n",
       "      <td>0.000000</td>\n",
       "      <td>0.000000</td>\n",
       "      <td>0.000000</td>\n",
       "      <td>0.000000</td>\n",
       "      <td>1.000000</td>\n",
       "      <td>2.750000</td>\n",
       "      <td>0.000000</td>\n",
       "      <td>0.000000</td>\n",
       "      <td>0.000000</td>\n",
       "      <td>0.000000</td>\n",
       "      <td>0.000000</td>\n",
       "      <td>1.000000</td>\n",
       "      <td>0.000000</td>\n",
       "      <td>0.000000</td>\n",
       "      <td>0.000000</td>\n",
       "      <td>0.000000</td>\n",
       "      <td>0.000000</td>\n",
       "      <td>0.000000</td>\n",
       "      <td>0.000000</td>\n",
       "      <td>0.000000</td>\n",
       "      <td>0.000000</td>\n",
       "      <td>0.000000</td>\n",
       "      <td>0.000000</td>\n",
       "      <td>0.000000</td>\n",
       "      <td>8.600000</td>\n",
       "      <td>0.000000</td>\n",
       "      <td>1.00000</td>\n",
       "      <td>6.000000</td>\n",
       "      <td>0.000000</td>\n",
       "    </tr>\n",
       "    <tr>\n",
       "      <th>25%</th>\n",
       "      <td>32.000000</td>\n",
       "      <td>1.000000</td>\n",
       "      <td>61.180328</td>\n",
       "      <td>106.000000</td>\n",
       "      <td>1.360000</td>\n",
       "      <td>2.070000</td>\n",
       "      <td>2.220000</td>\n",
       "      <td>0.000000</td>\n",
       "      <td>7.200000</td>\n",
       "      <td>4.200000</td>\n",
       "      <td>0.000000</td>\n",
       "      <td>3.770000</td>\n",
       "      <td>3.410000</td>\n",
       "      <td>11.690000</td>\n",
       "      <td>0.000000</td>\n",
       "      <td>0.000000</td>\n",
       "      <td>0.000000</td>\n",
       "      <td>1.380000</td>\n",
       "      <td>2.650000</td>\n",
       "      <td>7.920000</td>\n",
       "      <td>1.000000</td>\n",
       "      <td>0.000000</td>\n",
       "      <td>2.110000</td>\n",
       "      <td>1.260000</td>\n",
       "      <td>6.130000</td>\n",
       "      <td>0.000000</td>\n",
       "      <td>0.000000</td>\n",
       "      <td>2.470000</td>\n",
       "      <td>2.400000</td>\n",
       "      <td>2.190000</td>\n",
       "      <td>0.000000</td>\n",
       "      <td>8.290000</td>\n",
       "      <td>46.419998</td>\n",
       "      <td>5.000000</td>\n",
       "      <td>4.00000</td>\n",
       "      <td>15.000000</td>\n",
       "      <td>6.000000</td>\n",
       "    </tr>\n",
       "    <tr>\n",
       "      <th>50%</th>\n",
       "      <td>57.000000</td>\n",
       "      <td>3.000000</td>\n",
       "      <td>64.459015</td>\n",
       "      <td>109.500000</td>\n",
       "      <td>2.910000</td>\n",
       "      <td>2.070000</td>\n",
       "      <td>2.220000</td>\n",
       "      <td>2.620000</td>\n",
       "      <td>9.820000</td>\n",
       "      <td>4.200000</td>\n",
       "      <td>4.580000</td>\n",
       "      <td>3.770000</td>\n",
       "      <td>3.950000</td>\n",
       "      <td>15.550000</td>\n",
       "      <td>2.810000</td>\n",
       "      <td>0.000000</td>\n",
       "      <td>2.470000</td>\n",
       "      <td>2.800000</td>\n",
       "      <td>2.650000</td>\n",
       "      <td>10.730000</td>\n",
       "      <td>3.110000</td>\n",
       "      <td>2.680000</td>\n",
       "      <td>2.110000</td>\n",
       "      <td>1.260000</td>\n",
       "      <td>8.970000</td>\n",
       "      <td>0.000000</td>\n",
       "      <td>2.640000</td>\n",
       "      <td>2.470000</td>\n",
       "      <td>2.400000</td>\n",
       "      <td>2.190000</td>\n",
       "      <td>0.000000</td>\n",
       "      <td>11.970000</td>\n",
       "      <td>57.189999</td>\n",
       "      <td>7.000000</td>\n",
       "      <td>4.00000</td>\n",
       "      <td>18.000000</td>\n",
       "      <td>8.000000</td>\n",
       "    </tr>\n",
       "    <tr>\n",
       "      <th>75%</th>\n",
       "      <td>874.000000</td>\n",
       "      <td>4.000000</td>\n",
       "      <td>66.934426</td>\n",
       "      <td>112.500000</td>\n",
       "      <td>2.910000</td>\n",
       "      <td>3.590000</td>\n",
       "      <td>3.690000</td>\n",
       "      <td>4.250000</td>\n",
       "      <td>12.890000</td>\n",
       "      <td>4.200000</td>\n",
       "      <td>4.580000</td>\n",
       "      <td>4.740000</td>\n",
       "      <td>4.510000</td>\n",
       "      <td>17.469999</td>\n",
       "      <td>4.050000</td>\n",
       "      <td>2.840000</td>\n",
       "      <td>2.470000</td>\n",
       "      <td>2.800000</td>\n",
       "      <td>2.650000</td>\n",
       "      <td>13.950000</td>\n",
       "      <td>3.110000</td>\n",
       "      <td>4.370000</td>\n",
       "      <td>4.030000</td>\n",
       "      <td>3.020000</td>\n",
       "      <td>12.610000</td>\n",
       "      <td>3.210000</td>\n",
       "      <td>3.420000</td>\n",
       "      <td>2.470000</td>\n",
       "      <td>3.170000</td>\n",
       "      <td>3.090000</td>\n",
       "      <td>2.970000</td>\n",
       "      <td>15.120000</td>\n",
       "      <td>66.944999</td>\n",
       "      <td>10.000000</td>\n",
       "      <td>4.00000</td>\n",
       "      <td>20.000000</td>\n",
       "      <td>11.000000</td>\n",
       "    </tr>\n",
       "    <tr>\n",
       "      <th>max</th>\n",
       "      <td>1474.000000</td>\n",
       "      <td>5.000000</td>\n",
       "      <td>68.983604</td>\n",
       "      <td>137.000000</td>\n",
       "      <td>2.910000</td>\n",
       "      <td>3.590000</td>\n",
       "      <td>6.300000</td>\n",
       "      <td>7.200000</td>\n",
       "      <td>20.000000</td>\n",
       "      <td>4.200000</td>\n",
       "      <td>4.580000</td>\n",
       "      <td>4.740000</td>\n",
       "      <td>6.480000</td>\n",
       "      <td>20.000000</td>\n",
       "      <td>6.030000</td>\n",
       "      <td>4.510000</td>\n",
       "      <td>4.010000</td>\n",
       "      <td>2.800000</td>\n",
       "      <td>2.650000</td>\n",
       "      <td>20.000000</td>\n",
       "      <td>3.110000</td>\n",
       "      <td>6.720000</td>\n",
       "      <td>4.030000</td>\n",
       "      <td>6.140000</td>\n",
       "      <td>20.000000</td>\n",
       "      <td>3.210000</td>\n",
       "      <td>3.420000</td>\n",
       "      <td>3.410000</td>\n",
       "      <td>3.170000</td>\n",
       "      <td>3.090000</td>\n",
       "      <td>3.700000</td>\n",
       "      <td>20.000000</td>\n",
       "      <td>94.910004</td>\n",
       "      <td>12.000000</td>\n",
       "      <td>4.00000</td>\n",
       "      <td>24.000000</td>\n",
       "      <td>12.000000</td>\n",
       "    </tr>\n",
       "  </tbody>\n",
       "</table>\n",
       "</div>"
      ],
      "text/plain": [
       "          SchoolID     Quintile          Age       Height        Item1  \\\n",
       "count  1679.000000  1679.000000  1679.000000  1679.000000  1679.000000   \n",
       "mean    388.169744     2.553901    63.870356   109.462912     2.454979   \n",
       "std     537.014162     1.374654     3.586628     5.271203     0.797076   \n",
       "min       1.000000     1.000000    49.803280    92.000000     0.000000   \n",
       "25%      32.000000     1.000000    61.180328   106.000000     1.360000   \n",
       "50%      57.000000     3.000000    64.459015   109.500000     2.910000   \n",
       "75%     874.000000     4.000000    66.934426   112.500000     2.910000   \n",
       "max    1474.000000     5.000000    68.983604   137.000000     2.910000   \n",
       "\n",
       "             Item2        Item3        Item4          gmd        Item5  \\\n",
       "count  1679.000000  1679.000000  1679.000000  1679.000000  1679.000000   \n",
       "mean      2.572484     2.625098     2.492847    10.145408     3.882632   \n",
       "std       1.078710     1.877041     2.135327     4.110971     0.719586   \n",
       "min       0.000000     0.000000     0.000000     0.000000     0.000000   \n",
       "25%       2.070000     2.220000     0.000000     7.200000     4.200000   \n",
       "50%       2.070000     2.220000     2.620000     9.820000     4.200000   \n",
       "75%       3.590000     3.690000     4.250000    12.890000     4.200000   \n",
       "max       3.590000     6.300000     7.200000    20.000000     4.200000   \n",
       "\n",
       "             Item6        Item7        Item8       fmcvmi        Item9  \\\n",
       "count  1679.000000  1679.000000  1679.000000  1679.000000  1679.000000   \n",
       "mean      2.686897     3.826843     4.191161    14.587534     2.628493   \n",
       "std       2.256015     1.059349     1.131424     3.486136     1.925064   \n",
       "min       0.000000     0.000000     1.000000     2.750000     0.000000   \n",
       "25%       0.000000     3.770000     3.410000    11.690000     0.000000   \n",
       "50%       4.580000     3.770000     3.950000    15.550000     2.810000   \n",
       "75%       4.580000     4.740000     4.510000    17.469999     4.050000   \n",
       "max       4.580000     4.740000     6.480000    20.000000     6.030000   \n",
       "\n",
       "            Item10       Item11       Item12       Item13          enm  \\\n",
       "count  1679.000000  1679.000000  1679.000000  1679.000000  1679.000000   \n",
       "mean      1.690661     1.993329     2.311423     2.260602    10.884509   \n",
       "std       1.884458     1.267204     0.802601     0.708677     4.235020   \n",
       "min       0.000000     0.000000     0.000000     0.000000     1.000000   \n",
       "25%       0.000000     0.000000     1.380000     2.650000     7.920000   \n",
       "50%       0.000000     2.470000     2.800000     2.650000    10.730000   \n",
       "75%       2.840000     2.470000     2.800000     2.650000    13.950000   \n",
       "max       4.510000     4.010000     2.800000     2.650000    20.000000   \n",
       "\n",
       "            Item14       Item15       Item16       Item17          cef  \\\n",
       "count  1679.000000  1679.000000  1679.000000  1679.000000  1679.000000   \n",
       "mean      2.176504     2.687528     2.237647     2.148183     9.249863   \n",
       "std       1.135701     2.476568     1.515412     1.588566     4.386015   \n",
       "min       0.000000     0.000000     0.000000     0.000000     0.000000   \n",
       "25%       1.000000     0.000000     2.110000     1.260000     6.130000   \n",
       "50%       3.110000     2.680000     2.110000     1.260000     8.970000   \n",
       "75%       3.110000     4.370000     4.030000     3.020000    12.610000   \n",
       "max       3.110000     6.720000     4.030000     6.140000    20.000000   \n",
       "\n",
       "            Item18       Item19       Item20       Item21       Item22  \\\n",
       "count  1679.000000  1679.000000  1679.000000  1679.000000  1679.000000   \n",
       "mean      1.437713     2.169077     2.228124     2.275503     2.196790   \n",
       "std       1.596734     1.427003     0.829446     0.787391     1.065487   \n",
       "min       0.000000     0.000000     0.000000     0.000000     0.000000   \n",
       "25%       0.000000     0.000000     2.470000     2.400000     2.190000   \n",
       "50%       0.000000     2.640000     2.470000     2.400000     2.190000   \n",
       "75%       3.210000     3.420000     2.470000     3.170000     3.090000   \n",
       "max       3.210000     3.420000     3.410000     3.170000     3.090000   \n",
       "\n",
       "            Item23          ell        total     ChildObs    SelfCare  \\\n",
       "count  1679.000000  1679.000000  1679.000000  1679.000000  1679.00000   \n",
       "mean      1.317969    11.625176    56.492490     7.020250     3.69863   \n",
       "std       1.591461     4.582169    14.406673     3.193904     0.61347   \n",
       "min       0.000000     0.000000     8.600000     0.000000     1.00000   \n",
       "25%       0.000000     8.290000    46.419998     5.000000     4.00000   \n",
       "50%       0.000000    11.970000    57.189999     7.000000     4.00000   \n",
       "75%       2.970000    15.120000    66.944999    10.000000     4.00000   \n",
       "max       3.700000    20.000000    94.910004    12.000000     4.00000   \n",
       "\n",
       "       SocialRelations  EmotionalReadiness  \n",
       "count      1679.000000         1679.000000  \n",
       "mean         17.764741            8.138773  \n",
       "std           3.677726            2.979335  \n",
       "min           6.000000            0.000000  \n",
       "25%          15.000000            6.000000  \n",
       "50%          18.000000            8.000000  \n",
       "75%          20.000000           11.000000  \n",
       "max          24.000000           12.000000  "
      ]
     },
     "metadata": {},
     "output_type": "display_data"
    }
   ],
   "source": [
    "display(Markdown(\"#### 2019 Dataset - Before cleaning\"))\n",
    "display(df2019Original.describe())\n",
    "display(Markdown(\"#### 2019 Dataset - After cleaning\"))\n",
    "display(df2019.describe())"
   ]
  },
  {
   "cell_type": "markdown",
   "metadata": {
    "jupyter": {
     "outputs_hidden": false
    }
   },
   "source": [
    "The tables above show the statistics on the dataset, before and after the the cleaning of the data, which was the removal of the `hfa` column. This confirms that the removal of this column did not have a big impact on the data."
   ]
  },
  {
   "cell_type": "markdown",
   "metadata": {
    "jupyter": {
     "outputs_hidden": false
    }
   },
   "source": [
    "## Exploratory Analyses"
   ]
  },
  {
   "cell_type": "markdown",
   "metadata": {},
   "source": [
    "In order to answer our main question, we create a DataFrame consisting of the variables which relate to the socio-economic factors of the learners. \n",
    "\n",
    "Quintiles indicate the economic status of the learners at each school, with Quintile 1 being the poorest quintile and Quintile 5 being the least poor quintile. Each quintile encompasses 20% of the learners in each province.\n",
    "\n",
    "The grouping of district by quintile will allow us to roughly see the economic of each district.\n",
    "\n",
    "Child support grant is another indictaion of the families financial standing.\n",
    "\n",
    "Lastly, ELOM score captures various social factors of the learners."
   ]
  },
  {
   "cell_type": "markdown",
   "metadata": {},
   "source": [
    "In order to perform sufficient exploratory analysis we will divide our exploratory analysis into 4 sections coinciding to our four research questions"
   ]
  },
  {
   "cell_type": "markdown",
   "metadata": {},
   "source": [
    "### 1 - Does the socio-economic background of a child influence their ELOM score and, if so, to what extent?"
   ]
  },
  {
   "cell_type": "markdown",
   "metadata": {},
   "source": [
    "According to https://www.pdhpe.net/better-health-for-individuals/what-influences-the-health-of-individuals/the-determinants-of-health/socioeconomic-factors/, socio-economic refers to society related economic factors. These factors relate to and influence one another. After assessing our dataset,  we established the following variables to be socio-economic factors:\n",
    "* `Quintile`\n",
    "* `Age`\n",
    "* `HomeLanguage`\n",
    "* `AssessLanguage`"
   ]
  },
  {
   "cell_type": "code",
   "execution_count": 1,
   "metadata": {},
   "outputs": [
    {
     "ename": "NameError",
     "evalue": "name 'Markdown' is not defined",
     "output_type": "error",
     "traceback": [
      "\u001b[0;31m---------------------------------------------------------------------------\u001b[0m",
      "\u001b[0;31mNameError\u001b[0m                                 Traceback (most recent call last)",
      "\u001b[0;32m<ipython-input-1-ba2dc9dba47b>\u001b[0m in \u001b[0;36m<module>\u001b[0;34m\u001b[0m\n\u001b[0;32m----> 1\u001b[0;31m \u001b[0mdisplay\u001b[0m\u001b[0;34m(\u001b[0m\u001b[0mMarkdown\u001b[0m\u001b[0;34m(\u001b[0m\u001b[0;34m\"#### Correlation Matrix of Socio-Economic Factors and ELOM Score\"\u001b[0m\u001b[0;34m)\u001b[0m\u001b[0;34m)\u001b[0m\u001b[0;34m\u001b[0m\u001b[0;34m\u001b[0m\u001b[0m\n\u001b[0m\u001b[1;32m      2\u001b[0m \u001b[0mdfSocioEconomic\u001b[0m \u001b[0;34m=\u001b[0m \u001b[0mdf2019\u001b[0m\u001b[0;34m[\u001b[0m\u001b[0;34m[\u001b[0m\u001b[0;34m'Quintile'\u001b[0m\u001b[0;34m,\u001b[0m \u001b[0;34m'Age'\u001b[0m\u001b[0;34m,\u001b[0m\u001b[0;34m'HomeLanguage'\u001b[0m\u001b[0;34m,\u001b[0m\u001b[0;34m'AssesLanguage'\u001b[0m\u001b[0;34m,\u001b[0m\u001b[0;34m'total'\u001b[0m\u001b[0;34m]\u001b[0m\u001b[0;34m]\u001b[0m\u001b[0;34m\u001b[0m\u001b[0;34m\u001b[0m\u001b[0m\n\u001b[1;32m      3\u001b[0m \u001b[0mdisplay\u001b[0m\u001b[0;34m(\u001b[0m\u001b[0mdfSocioEconomic\u001b[0m\u001b[0;34m.\u001b[0m\u001b[0mcorr\u001b[0m\u001b[0;34m(\u001b[0m\u001b[0;34m)\u001b[0m\u001b[0;34m)\u001b[0m\u001b[0;34m\u001b[0m\u001b[0;34m\u001b[0m\u001b[0m\n",
      "\u001b[0;31mNameError\u001b[0m: name 'Markdown' is not defined"
     ]
    }
   ],
   "source": [
    "display(Markdown(\"#### Correlation Matrix of Socio-Economic Factors and ELOM Score\"))\n",
    "dfSocioEconomic = df2019[['Quintile', 'Age','HomeLanguage','AssesLanguage','total']]\n",
    "display(dfSocioEconomic.corr())"
   ]
  },
  {
   "cell_type": "markdown",
   "metadata": {},
   "source": [
    "We can see above that there is a weak positive correlation between each of the respective variables listed above. In order to visualise the individual relationships between the socio-economic variables we will plot graphs of these relationships. "
   ]
  },
  {
   "cell_type": "code",
   "execution_count": 13,
   "metadata": {},
   "outputs": [
    {
     "data": {
      "image/png": "[encoded data removed]",
      "text/plain": [
       "<Figure size 432x432 with 1 Axes>"
      ]
     },
     "metadata": {
      "needs_background": "light"
     },
     "output_type": "display_data"
    }
   ],
   "source": [
    "plt.figure(figsize=(6,6))\n",
    "plt.hist([dfSocioEconomic.total[dfSocioEconomic.Quintile==1], dfSocioEconomic.total[dfSocioEconomic.Quintile==2], dfSocioEconomic.total[dfSocioEconomic.Quintile==3], dfSocioEconomic.total[dfSocioEconomic.Quintile==4], dfSocioEconomic.total[dfSocioEconomic.Quintile==5]], label=['Quintile 1', 'Quintile 2', 'Quintile 3', 'Quintile 4', 'Quintile 5'],density=True)\n",
    "plt.legend(loc='upper left')\n",
    "plt.title(\"PDF of ELOM Score per Quintile\")\n",
    "plt.xlabel('ELOM Score')\n",
    "plt.ylabel('Probability')\n",
    "plt.show()"
   ]
  },
  {
   "cell_type": "markdown",
   "metadata": {},
   "source": [
    "We first look at the relationship between each quintile and ELOM score. It can be deduced from the probability density function above that the poorer quintiles have lower ELOM scores on average whereas the less poor quintiles have higher ELOM scores on average. This indicates that ELOM score and quintile have a positive correlation."
   ]
  },
  {
   "cell_type": "code",
   "execution_count": 14,
   "metadata": {},
   "outputs": [
    {
     "data": {
      "image/png": "[encoded data removed]",
      "text/plain": [
       "<Figure size 432x432 with 1 Axes>"
      ]
     },
     "metadata": {
      "needs_background": "light"
     },
     "output_type": "display_data"
    }
   ],
   "source": [
    "plt.figure(figsize=(6,6))\n",
    "plt.title(\"Scatterplot representing Age vs ELOM Score\")\n",
    "plt.ylabel('ELOM Score')\n",
    "plt.xlabel('Age(Months)')\n",
    "plt.scatter(df2019.Age,df2019.total,alpha=0.3)\n",
    "plt.show()"
   ]
  },
  {
   "cell_type": "markdown",
   "metadata": {},
   "source": [
    "We can see from the above graph that there is a weak positive correlation between `Age` and ELOM score."
   ]
  },
  {
   "cell_type": "code",
   "execution_count": 15,
   "metadata": {},
   "outputs": [
    {
     "data": {
      "text/plain": [
       "True"
      ]
     },
     "execution_count": 15,
     "metadata": {},
     "output_type": "execute_result"
    }
   ],
   "source": [
    "df2019[\"HomeLanguage\"].equals(df2019[\"AssesLanguage\"])"
   ]
  },
  {
   "cell_type": "markdown",
   "metadata": {},
   "source": [
    "Here we show that the `HomeLanguage` and `AssessLanguage` variables are exactly the same for every student and as such we will only look at `HomeLanguage` in the modelling phase."
   ]
  },
  {
   "cell_type": "code",
   "execution_count": 16,
   "metadata": {},
   "outputs": [
    {
     "data": {
      "text/html": [
       "<div>\n",
       "<style scoped>\n",
       "    .dataframe tbody tr th:only-of-type {\n",
       "        vertical-align: middle;\n",
       "    }\n",
       "\n",
       "    .dataframe tbody tr th {\n",
       "        vertical-align: top;\n",
       "    }\n",
       "\n",
       "    .dataframe thead th {\n",
       "        text-align: right;\n",
       "    }\n",
       "</style>\n",
       "<table border=\"1\" class=\"dataframe\">\n",
       "  <thead>\n",
       "    <tr style=\"text-align: right;\">\n",
       "      <th></th>\n",
       "      <th>total</th>\n",
       "    </tr>\n",
       "    <tr>\n",
       "      <th>HomeLanguage</th>\n",
       "      <th></th>\n",
       "    </tr>\n",
       "  </thead>\n",
       "  <tbody>\n",
       "    <tr>\n",
       "      <th>Setswana</th>\n",
       "      <td>55.223690</td>\n",
       "    </tr>\n",
       "    <tr>\n",
       "      <th>Afrikaans</th>\n",
       "      <td>56.210110</td>\n",
       "    </tr>\n",
       "    <tr>\n",
       "      <th>isiXhosa</th>\n",
       "      <td>56.830852</td>\n",
       "    </tr>\n",
       "    <tr>\n",
       "      <th>isiZulu</th>\n",
       "      <td>56.868176</td>\n",
       "    </tr>\n",
       "    <tr>\n",
       "      <th>English</th>\n",
       "      <td>63.568140</td>\n",
       "    </tr>\n",
       "  </tbody>\n",
       "</table>\n",
       "</div>"
      ],
      "text/plain": [
       "                  total\n",
       "HomeLanguage           \n",
       "Setswana      55.223690\n",
       "Afrikaans     56.210110\n",
       "isiXhosa      56.830852\n",
       "isiZulu       56.868176\n",
       "English       63.568140"
      ]
     },
     "metadata": {},
     "output_type": "display_data"
    }
   ],
   "source": [
    "dfLanguages = df2019[[\"HomeLanguage\",\"total\"]].groupby([\"HomeLanguage\"]).mean()\n",
    "display(dfLanguages.sort_values(by='total'))"
   ]
  },
  {
   "cell_type": "markdown",
   "metadata": {},
   "source": [
    "From the above table we can deduce that on average learners who are English speaking had a higher ELOM score than students who speak other languages. Setswana speaking students had the lowest ELOM score on average."
   ]
  },
  {
   "cell_type": "code",
   "execution_count": 18,
   "metadata": {},
   "outputs": [
    {
     "data": {
      "text/html": [
       "<style  type=\"text/css\" >\n",
       "</style><table id=\"T_696af270_bef9_11eb_b450_f21898351dfc\" style='display:inline'><caption>Age 50 to 59 months</caption><thead>    <tr>        <th class=\"blank level0\" ></th>        <th class=\"col_heading level0 col0\" >total</th>    </tr>    <tr>        <th class=\"blank level1\" ></th>        <th class=\"col_heading level1 col0\" >mean</th>    </tr>    <tr>        <th class=\"index_name level0\" >Quintile</th>        <th class=\"blank\" ></th>    </tr></thead><tbody>\n",
       "                <tr>\n",
       "                        <th id=\"T_696af270_bef9_11eb_b450_f21898351dfclevel0_row0\" class=\"row_heading level0 row0\" >1</th>\n",
       "                        <td id=\"T_696af270_bef9_11eb_b450_f21898351dfcrow0_col0\" class=\"data row0 col0\" >45.778899</td>\n",
       "            </tr>\n",
       "            <tr>\n",
       "                        <th id=\"T_696af270_bef9_11eb_b450_f21898351dfclevel0_row1\" class=\"row_heading level0 row1\" >2</th>\n",
       "                        <td id=\"T_696af270_bef9_11eb_b450_f21898351dfcrow1_col0\" class=\"data row1 col0\" >49.693421</td>\n",
       "            </tr>\n",
       "            <tr>\n",
       "                        <th id=\"T_696af270_bef9_11eb_b450_f21898351dfclevel0_row2\" class=\"row_heading level0 row2\" >3</th>\n",
       "                        <td id=\"T_696af270_bef9_11eb_b450_f21898351dfcrow2_col0\" class=\"data row2 col0\" >46.400685</td>\n",
       "            </tr>\n",
       "            <tr>\n",
       "                        <th id=\"T_696af270_bef9_11eb_b450_f21898351dfclevel0_row3\" class=\"row_heading level0 row3\" >4</th>\n",
       "                        <td id=\"T_696af270_bef9_11eb_b450_f21898351dfcrow3_col0\" class=\"data row3 col0\" >57.192500</td>\n",
       "            </tr>\n",
       "            <tr>\n",
       "                        <th id=\"T_696af270_bef9_11eb_b450_f21898351dfclevel0_row4\" class=\"row_heading level0 row4\" >5</th>\n",
       "                        <td id=\"T_696af270_bef9_11eb_b450_f21898351dfcrow4_col0\" class=\"data row4 col0\" >59.052105</td>\n",
       "            </tr>\n",
       "    </tbody></table>          <style  type=\"text/css\" >\n",
       "</style><table id=\"T_696b281c_bef9_11eb_b450_f21898351dfc\" style='display:inline'><caption>Age 60 to 69 months</caption><thead>    <tr>        <th class=\"blank level0\" ></th>        <th class=\"col_heading level0 col0\" >total</th>    </tr>    <tr>        <th class=\"blank level1\" ></th>        <th class=\"col_heading level1 col0\" >mean</th>    </tr>    <tr>        <th class=\"index_name level0\" >Quintile</th>        <th class=\"blank\" ></th>    </tr></thead><tbody>\n",
       "                <tr>\n",
       "                        <th id=\"T_696b281c_bef9_11eb_b450_f21898351dfclevel0_row0\" class=\"row_heading level0 row0\" >1</th>\n",
       "                        <td id=\"T_696b281c_bef9_11eb_b450_f21898351dfcrow0_col0\" class=\"data row0 col0\" >55.716433</td>\n",
       "            </tr>\n",
       "            <tr>\n",
       "                        <th id=\"T_696b281c_bef9_11eb_b450_f21898351dfclevel0_row1\" class=\"row_heading level0 row1\" >2</th>\n",
       "                        <td id=\"T_696b281c_bef9_11eb_b450_f21898351dfcrow1_col0\" class=\"data row1 col0\" >55.528333</td>\n",
       "            </tr>\n",
       "            <tr>\n",
       "                        <th id=\"T_696b281c_bef9_11eb_b450_f21898351dfclevel0_row2\" class=\"row_heading level0 row2\" >3</th>\n",
       "                        <td id=\"T_696b281c_bef9_11eb_b450_f21898351dfcrow2_col0\" class=\"data row2 col0\" >55.953423</td>\n",
       "            </tr>\n",
       "            <tr>\n",
       "                        <th id=\"T_696b281c_bef9_11eb_b450_f21898351dfclevel0_row3\" class=\"row_heading level0 row3\" >4</th>\n",
       "                        <td id=\"T_696b281c_bef9_11eb_b450_f21898351dfcrow3_col0\" class=\"data row3 col0\" >63.187698</td>\n",
       "            </tr>\n",
       "            <tr>\n",
       "                        <th id=\"T_696b281c_bef9_11eb_b450_f21898351dfclevel0_row4\" class=\"row_heading level0 row4\" >5</th>\n",
       "                        <td id=\"T_696b281c_bef9_11eb_b450_f21898351dfcrow4_col0\" class=\"data row4 col0\" >62.900303</td>\n",
       "            </tr>\n",
       "    </tbody></table>"
      ]
     },
     "metadata": {},
     "output_type": "display_data"
    }
   ],
   "source": [
    "dfAgeGroup1 = df2019[df2019.AgeGroup == '50 to 59']\n",
    "dfAgeGroup2 = df2019[df2019.AgeGroup == '60 to 69']\n",
    "df1 = pd.DataFrame(dfAgeGroup1.groupby('Quintile').agg({'total':['mean']}))\n",
    "df2 = pd.DataFrame(dfAgeGroup2.groupby('Quintile').agg({'total':['mean']}))\n",
    "df1_styler = df1.style.set_table_attributes(\"style='display:inline'\").set_caption('Age 50 to 59 months')\n",
    "df2_styler = df2.style.set_table_attributes(\"style='display:inline'\").set_caption('Age 60 to 69 months')\n",
    "space = \"\\xa0\" * 10\n",
    "display_html(df1_styler._repr_html_()+space+df2_styler._repr_html_(), raw=True)"
   ]
  },
  {
   "cell_type": "markdown",
   "metadata": {},
   "source": [
    "Interpreting this we can infer that students that belong to less poor quintiles and fall into a higher age group have higher ELOM scores on average compared to other students."
   ]
  },
  {
   "cell_type": "markdown",
   "metadata": {},
   "source": [
    "### 2 - In the absence of the socio-economic factors, to what extent do the behavioural tendencies of a child influence ELOM score and whether or not the child is at risk?"
   ]
  },
  {
   "cell_type": "markdown",
   "metadata": {},
   "source": [
    "Investigating the dataset we can determine that the behavioural tendencies of a student are highlighted by the following variables:\n",
    "* `ChildObs1`                  \n",
    "* `ChildObs2`                   \n",
    "* `ChildObs3`                   \n",
    "* `ChildObs4`                   \n",
    "* `ChildObs`                    \n",
    "* `SelfCare`                    \n",
    "* `SocialRelations`             \n",
    "* `EmotionalReadiness`\n",
    "* `Gender`\n",
    "\n",
    "`ChildObs` is the sum of `ChildObs1`, `ChildObs2`, `ChildObs3` and `ChildObs4`. As such we will only consider `ChildObs` in the analysis and modelling phases."
   ]
  },
  {
   "cell_type": "code",
   "execution_count": 19,
   "metadata": {},
   "outputs": [
    {
     "data": {
      "text/markdown": [
       "#### Correlation Matrix of Behavioural Factors and ELOM Score"
      ],
      "text/plain": [
       "<IPython.core.display.Markdown object>"
      ]
     },
     "metadata": {},
     "output_type": "display_data"
    },
    {
     "data": {
      "text/html": [
       "<div>\n",
       "<style scoped>\n",
       "    .dataframe tbody tr th:only-of-type {\n",
       "        vertical-align: middle;\n",
       "    }\n",
       "\n",
       "    .dataframe tbody tr th {\n",
       "        vertical-align: top;\n",
       "    }\n",
       "\n",
       "    .dataframe thead th {\n",
       "        text-align: right;\n",
       "    }\n",
       "</style>\n",
       "<table border=\"1\" class=\"dataframe\">\n",
       "  <thead>\n",
       "    <tr style=\"text-align: right;\">\n",
       "      <th></th>\n",
       "      <th>ChildObs</th>\n",
       "      <th>SelfCare</th>\n",
       "      <th>SocialRelations</th>\n",
       "      <th>EmotionalReadiness</th>\n",
       "      <th>total</th>\n",
       "    </tr>\n",
       "  </thead>\n",
       "  <tbody>\n",
       "    <tr>\n",
       "      <th>ChildObs</th>\n",
       "      <td>1.000000</td>\n",
       "      <td>0.136640</td>\n",
       "      <td>0.285232</td>\n",
       "      <td>0.373216</td>\n",
       "      <td>0.574458</td>\n",
       "    </tr>\n",
       "    <tr>\n",
       "      <th>SelfCare</th>\n",
       "      <td>0.136640</td>\n",
       "      <td>1.000000</td>\n",
       "      <td>0.201793</td>\n",
       "      <td>0.205488</td>\n",
       "      <td>0.170603</td>\n",
       "    </tr>\n",
       "    <tr>\n",
       "      <th>SocialRelations</th>\n",
       "      <td>0.285232</td>\n",
       "      <td>0.201793</td>\n",
       "      <td>1.000000</td>\n",
       "      <td>0.595601</td>\n",
       "      <td>0.265162</td>\n",
       "    </tr>\n",
       "    <tr>\n",
       "      <th>EmotionalReadiness</th>\n",
       "      <td>0.373216</td>\n",
       "      <td>0.205488</td>\n",
       "      <td>0.595601</td>\n",
       "      <td>1.000000</td>\n",
       "      <td>0.447987</td>\n",
       "    </tr>\n",
       "    <tr>\n",
       "      <th>total</th>\n",
       "      <td>0.574458</td>\n",
       "      <td>0.170603</td>\n",
       "      <td>0.265162</td>\n",
       "      <td>0.447987</td>\n",
       "      <td>1.000000</td>\n",
       "    </tr>\n",
       "  </tbody>\n",
       "</table>\n",
       "</div>"
      ],
      "text/plain": [
       "                    ChildObs  SelfCare  SocialRelations  EmotionalReadiness  \\\n",
       "ChildObs            1.000000  0.136640         0.285232            0.373216   \n",
       "SelfCare            0.136640  1.000000         0.201793            0.205488   \n",
       "SocialRelations     0.285232  0.201793         1.000000            0.595601   \n",
       "EmotionalReadiness  0.373216  0.205488         0.595601            1.000000   \n",
       "total               0.574458  0.170603         0.265162            0.447987   \n",
       "\n",
       "                       total  \n",
       "ChildObs            0.574458  \n",
       "SelfCare            0.170603  \n",
       "SocialRelations     0.265162  \n",
       "EmotionalReadiness  0.447987  \n",
       "total               1.000000  "
      ]
     },
     "metadata": {},
     "output_type": "display_data"
    }
   ],
   "source": [
    "display(Markdown(\"#### Correlation Matrix of Behavioural Factors and ELOM Score\"))\n",
    "dfBehavioural = df2019[['ChildObs', 'SelfCare','SocialRelations','EmotionalReadiness','Gender','total']]\n",
    "display(dfBehavioural.corr())"
   ]
  },
  {
   "cell_type": "markdown",
   "metadata": {},
   "source": [
    "`ChildObs` has a strong correlation with the ELOM score according to the correlation matrix above, whereas the other dependent variables have a weak correlation with ELOM score. It is also important to note that `SocialRelations` has a strong correlation with `EmotionalReadiness`. This could be due to the fact that children who are more emotionally ready for school would also be more likely to try to form social relations/connections."
   ]
  },
  {
   "cell_type": "markdown",
   "metadata": {},
   "source": [
    "We will now be looking at how `Gender` influences ELOM score "
   ]
  },
  {
   "cell_type": "code",
   "execution_count": 20,
   "metadata": {},
   "outputs": [
    {
     "data": {
      "text/html": [
       "<div>\n",
       "<style scoped>\n",
       "    .dataframe tbody tr th:only-of-type {\n",
       "        vertical-align: middle;\n",
       "    }\n",
       "\n",
       "    .dataframe tbody tr th {\n",
       "        vertical-align: top;\n",
       "    }\n",
       "\n",
       "    .dataframe thead th {\n",
       "        text-align: right;\n",
       "    }\n",
       "</style>\n",
       "<table border=\"1\" class=\"dataframe\">\n",
       "  <thead>\n",
       "    <tr style=\"text-align: right;\">\n",
       "      <th></th>\n",
       "      <th>total</th>\n",
       "    </tr>\n",
       "    <tr>\n",
       "      <th>Gender</th>\n",
       "      <th></th>\n",
       "    </tr>\n",
       "  </thead>\n",
       "  <tbody>\n",
       "    <tr>\n",
       "      <th>Male</th>\n",
       "      <td>54.750473</td>\n",
       "    </tr>\n",
       "    <tr>\n",
       "      <th>Female</th>\n",
       "      <td>58.261693</td>\n",
       "    </tr>\n",
       "  </tbody>\n",
       "</table>\n",
       "</div>"
      ],
      "text/plain": [
       "            total\n",
       "Gender           \n",
       "Male    54.750473\n",
       "Female  58.261693"
      ]
     },
     "metadata": {},
     "output_type": "display_data"
    }
   ],
   "source": [
    "dfGender = df2019[[\"Gender\",\"total\"]].groupby([\"Gender\"]).mean()\n",
    "display(dfGender.sort_values(by='total'))"
   ]
  },
  {
   "cell_type": "markdown",
   "metadata": {},
   "source": [
    "We grouped the students based on their gender and calculated the respective average means. From this calculation it seems that female students have a higher average ELOM score relative to male students."
   ]
  },
  {
   "cell_type": "markdown",
   "metadata": {},
   "source": [
    "We now want to assess if there is any relationship between the behavioural tendencies of males vs females."
   ]
  },
  {
   "cell_type": "code",
   "execution_count": 21,
   "metadata": {},
   "outputs": [
    {
     "data": {
      "image/png": "[encoded data removed]",
      "text/plain": [
       "<Figure size 936x432 with 2 Axes>"
      ]
     },
     "metadata": {
      "needs_background": "light"
     },
     "output_type": "display_data"
    }
   ],
   "source": [
    "dfMaleObs = df2019[df2019.Gender==\"Male\"]\n",
    "dfFemaleObs = df2019[df2019.Gender==\"Female\"]\n",
    "\n",
    "plt.figure(figsize=(13,6))\n",
    "plt.subplot(121)\n",
    "plt.title('Bar Graph of Male ChildObs vs ELOM Score')\n",
    "plt.xlabel('ChildObs')\n",
    "plt.ylabel('ELOM Score')\n",
    "plt.bar(dfMaleObs.ChildObs,dfMaleObs.total)\n",
    "plt.subplot(122)\n",
    "plt.title('Bar Graph of Female ChildObs vs ELOM Score')\n",
    "plt.xlabel('ChildObs')\n",
    "plt.ylabel('ELOM Score')\n",
    "plt.bar(dfFemaleObs.ChildObs,dfFemaleObs.total)\n",
    "plt.show()"
   ]
  },
  {
   "cell_type": "markdown",
   "metadata": {},
   "source": [
    "We can see that on average female students, who achieved a total of 12 for their child observation total, had high ELOM scores relative to male students who also achieved a total of 12 for their child observation total. Both male and female students seem to have a linear increase in their ELOM score as their childObs total increases, however with female students there are some fluctuations."
   ]
  },
  {
   "cell_type": "markdown",
   "metadata": {},
   "source": [
    "### 3 - In conjunction with the socio-economic background of a child, do the behavioural tendencies of the child have an influence on the ELOM score?"
   ]
  },
  {
   "cell_type": "code",
   "execution_count": 22,
   "metadata": {},
   "outputs": [],
   "source": [
    "dfCombined = df2019[['Quintile', 'Age','AgeGroup','HomeLanguage','ChildObs','SelfCare','SocialRelations','EmotionalReadiness','total']]"
   ]
  },
  {
   "cell_type": "markdown",
   "metadata": {},
   "source": [
    "We have excluded `AssessLanguage` and `ChildSupportGrant` in this analysis due to our findings above highlighting that these 2 variables are not necessary for analysis. In the below analysis we will look at relationships between the socio-economic factors and different behavioural tendencies as we have already established the relationship between these factors and the ELOM Score."
   ]
  },
  {
   "cell_type": "code",
   "execution_count": 23,
   "metadata": {},
   "outputs": [
    {
     "data": {
      "text/html": [
       "<div>\n",
       "<style scoped>\n",
       "    .dataframe tbody tr th:only-of-type {\n",
       "        vertical-align: middle;\n",
       "    }\n",
       "\n",
       "    .dataframe tbody tr th {\n",
       "        vertical-align: top;\n",
       "    }\n",
       "\n",
       "    .dataframe thead th {\n",
       "        text-align: right;\n",
       "    }\n",
       "</style>\n",
       "<table border=\"1\" class=\"dataframe\">\n",
       "  <thead>\n",
       "    <tr style=\"text-align: right;\">\n",
       "      <th></th>\n",
       "      <th>ChildObs</th>\n",
       "    </tr>\n",
       "    <tr>\n",
       "      <th>Quintile</th>\n",
       "      <th></th>\n",
       "    </tr>\n",
       "  </thead>\n",
       "  <tbody>\n",
       "    <tr>\n",
       "      <th>1</th>\n",
       "      <td>6.962963</td>\n",
       "    </tr>\n",
       "    <tr>\n",
       "      <th>2</th>\n",
       "      <td>6.953608</td>\n",
       "    </tr>\n",
       "    <tr>\n",
       "      <th>3</th>\n",
       "      <td>6.430318</td>\n",
       "    </tr>\n",
       "    <tr>\n",
       "      <th>4</th>\n",
       "      <td>7.483384</td>\n",
       "    </tr>\n",
       "    <tr>\n",
       "      <th>5</th>\n",
       "      <td>7.913907</td>\n",
       "    </tr>\n",
       "  </tbody>\n",
       "</table>\n",
       "</div>"
      ],
      "text/plain": [
       "          ChildObs\n",
       "Quintile          \n",
       "1         6.962963\n",
       "2         6.953608\n",
       "3         6.430318\n",
       "4         7.483384\n",
       "5         7.913907"
      ]
     },
     "metadata": {},
     "output_type": "display_data"
    }
   ],
   "source": [
    "dfQuintile = df2019[[\"Quintile\",\"ChildObs\"]].groupby([\"Quintile\"]).mean()\n",
    "display(dfQuintile)"
   ]
  },
  {
   "cell_type": "markdown",
   "metadata": {},
   "source": [
    "It is clear from above that on average less poor quintiles have a higher `ChildObs` score. This indicates that less poor quintiles have students who paid more attention, stayed concentrated, were careful and diligent, and more interested and curious."
   ]
  },
  {
   "cell_type": "markdown",
   "metadata": {},
   "source": [
    "We will now take a look at whether age and emotional readiness of a student are associated with one another."
   ]
  },
  {
   "cell_type": "code",
   "execution_count": 24,
   "metadata": {},
   "outputs": [
    {
     "data": {
      "text/html": [
       "<div>\n",
       "<style scoped>\n",
       "    .dataframe tbody tr th:only-of-type {\n",
       "        vertical-align: middle;\n",
       "    }\n",
       "\n",
       "    .dataframe tbody tr th {\n",
       "        vertical-align: top;\n",
       "    }\n",
       "\n",
       "    .dataframe thead th {\n",
       "        text-align: right;\n",
       "    }\n",
       "</style>\n",
       "<table border=\"1\" class=\"dataframe\">\n",
       "  <thead>\n",
       "    <tr style=\"text-align: right;\">\n",
       "      <th></th>\n",
       "      <th>EmotionalReadiness</th>\n",
       "    </tr>\n",
       "    <tr>\n",
       "      <th>AgeGroup</th>\n",
       "      <th></th>\n",
       "    </tr>\n",
       "  </thead>\n",
       "  <tbody>\n",
       "    <tr>\n",
       "      <th>50 to 59</th>\n",
       "      <td>7.623656</td>\n",
       "    </tr>\n",
       "    <tr>\n",
       "      <th>60 to 69</th>\n",
       "      <td>8.241429</td>\n",
       "    </tr>\n",
       "  </tbody>\n",
       "</table>\n",
       "</div>"
      ],
      "text/plain": [
       "          EmotionalReadiness\n",
       "AgeGroup                    \n",
       "50 to 59            7.623656\n",
       "60 to 69            8.241429"
      ]
     },
     "metadata": {},
     "output_type": "display_data"
    }
   ],
   "source": [
    "dfER = df2019[[\"AgeGroup\",\"EmotionalReadiness\"]].groupby([\"AgeGroup\"]).mean()\n",
    "display(dfER.iloc[:2])"
   ]
  },
  {
   "cell_type": "markdown",
   "metadata": {},
   "source": [
    "It is quite clear from the table above that students who belong to the higher age group are more emotionally ready for Grade 1 as opposed to students who belong to the lower age group"
   ]
  },
  {
   "cell_type": "code",
   "execution_count": 25,
   "metadata": {},
   "outputs": [
    {
     "data": {
      "image/png": "[encoded data removed]",
      "text/plain": [
       "<Figure size 1728x1008 with 5 Axes>"
      ]
     },
     "metadata": {
      "needs_background": "light"
     },
     "output_type": "display_data"
    }
   ],
   "source": [
    "dfEnglish = dfCombined[dfCombined.HomeLanguage==\"English\"]\n",
    "dfAfrikaans = dfCombined[dfCombined.HomeLanguage==\"Afrikaans\"]\n",
    "dfisiXhosa = dfCombined[dfCombined.HomeLanguage==\"isiXhosa\"]\n",
    "dfisiZulu = dfCombined[dfCombined.HomeLanguage==\"isiZulu\"]\n",
    "dfSetswana = dfCombined[dfCombined.HomeLanguage==\"Setswana\"]\n",
    "\n",
    "plt.figure(figsize=(24,14))\n",
    "plt.subplot(231)\n",
    "plt.title('English Speaking Students vs Their Respective Social Relations')\n",
    "plt.xlabel('Index of Students')\n",
    "plt.ylabel('Social Relations')\n",
    "plt.scatter(dfEnglish.index,dfEnglish.SocialRelations)\n",
    "plt.subplot(232)\n",
    "plt.title('Afrikaans Speaking Students vs Their Respective Social Relations')\n",
    "plt.xlabel('Index of Students')\n",
    "plt.ylabel('Social Relations')\n",
    "plt.scatter(dfAfrikaans.index,dfAfrikaans.SocialRelations)\n",
    "plt.subplot(233)\n",
    "plt.title('isiXhosa Speaking Students vs Their Respective Social Relations')\n",
    "plt.xlabel('Index of Students')\n",
    "plt.ylabel('Social Relations')\n",
    "plt.scatter(dfisiXhosa.index,dfisiXhosa.SocialRelations)\n",
    "plt.subplot(234)\n",
    "plt.title('isiZulu Speaking Students vs Their Respective Social Relations')\n",
    "plt.xlabel('Index of Students')\n",
    "plt.ylabel('Social Relations')\n",
    "plt.scatter(dfisiZulu.index,dfisiZulu.SocialRelations)\n",
    "plt.subplot(235)\n",
    "plt.title('Setswana Speaking Students vs Their Respective Social Relations')\n",
    "plt.xlabel('Index of Students')\n",
    "plt.ylabel('Social Relations')\n",
    "plt.scatter(dfSetswana.index,dfSetswana.SocialRelations)\n",
    "plt.show()"
   ]
  },
  {
   "cell_type": "markdown",
   "metadata": {},
   "source": [
    "We have investigated the relationship between the various home languages of the students and whether or not it influenced their social relations score. It is clear from above that there is no clear relationship between `HomeLanguage` and `SocialRelations` score. We will calculate the mean of the `SocialRelations` score per `HomeLanguage` to further investigate this relationship."
   ]
  },
  {
   "cell_type": "code",
   "execution_count": 26,
   "metadata": {},
   "outputs": [
    {
     "data": {
      "text/html": [
       "<div>\n",
       "<style scoped>\n",
       "    .dataframe tbody tr th:only-of-type {\n",
       "        vertical-align: middle;\n",
       "    }\n",
       "\n",
       "    .dataframe tbody tr th {\n",
       "        vertical-align: top;\n",
       "    }\n",
       "\n",
       "    .dataframe thead th {\n",
       "        text-align: right;\n",
       "    }\n",
       "</style>\n",
       "<table border=\"1\" class=\"dataframe\">\n",
       "  <thead>\n",
       "    <tr style=\"text-align: right;\">\n",
       "      <th></th>\n",
       "      <th>SocialRelations</th>\n",
       "    </tr>\n",
       "    <tr>\n",
       "      <th>HomeLanguage</th>\n",
       "      <th></th>\n",
       "    </tr>\n",
       "  </thead>\n",
       "  <tbody>\n",
       "    <tr>\n",
       "      <th>English</th>\n",
       "      <td>17.627907</td>\n",
       "    </tr>\n",
       "    <tr>\n",
       "      <th>Afrikaans</th>\n",
       "      <td>15.750000</td>\n",
       "    </tr>\n",
       "    <tr>\n",
       "      <th>Setswana</th>\n",
       "      <td>18.111617</td>\n",
       "    </tr>\n",
       "    <tr>\n",
       "      <th>isiZulu</th>\n",
       "      <td>18.355856</td>\n",
       "    </tr>\n",
       "    <tr>\n",
       "      <th>isiXhosa</th>\n",
       "      <td>18.054054</td>\n",
       "    </tr>\n",
       "  </tbody>\n",
       "</table>\n",
       "</div>"
      ],
      "text/plain": [
       "              SocialRelations\n",
       "HomeLanguage                 \n",
       "English             17.627907\n",
       "Afrikaans           15.750000\n",
       "Setswana            18.111617\n",
       "isiZulu             18.355856\n",
       "isiXhosa            18.054054"
      ]
     },
     "metadata": {},
     "output_type": "display_data"
    },
    {
     "name": "stdout",
     "output_type": "stream",
     "text": [
      "Max Social Relations score is 24\n"
     ]
    }
   ],
   "source": [
    "dfHL = df2019[[\"HomeLanguage\",\"SocialRelations\"]].groupby([\"HomeLanguage\"]).mean()\n",
    "display(dfHL)\n",
    "print(\"Max Social Relations score is\",df2019.SocialRelations.max())"
   ]
  },
  {
   "cell_type": "markdown",
   "metadata": {},
   "source": [
    "It is clear from above that the social relations score per home language is above average and all quite similar. This indicates that the language that a child speaks has no impact on their social relations score."
   ]
  },
  {
   "cell_type": "markdown",
   "metadata": {},
   "source": [
    "### 4 - Considering the 2016 dataset, to what extent do the socio-economic factors influence ELOM score and how does this compare to 2019?"
   ]
  },
  {
   "cell_type": "markdown",
   "metadata": {},
   "source": [
    "Based on the above definition of socio-economic factors, these are the following variables which we established to be socio-economic factors from the 2016 dataset:\n",
    "\n",
    "- `Quintile`\n",
    "- `Age`\n",
    "- `HomeLanguage`\n",
    "- `AssessLanguage`\n",
    "\n",
    "Unlike the 2019 dataset, this dataset did not include the `ChildSupportGrant` variable"
   ]
  },
  {
   "cell_type": "code",
   "execution_count": 27,
   "metadata": {},
   "outputs": [
    {
     "data": {
      "text/markdown": [
       "#### Correlation Matrix of Socio-Economic Factors and ELOM Score"
      ],
      "text/plain": [
       "<IPython.core.display.Markdown object>"
      ]
     },
     "metadata": {},
     "output_type": "display_data"
    },
    {
     "data": {
      "text/html": [
       "<div>\n",
       "<style scoped>\n",
       "    .dataframe tbody tr th:only-of-type {\n",
       "        vertical-align: middle;\n",
       "    }\n",
       "\n",
       "    .dataframe tbody tr th {\n",
       "        vertical-align: top;\n",
       "    }\n",
       "\n",
       "    .dataframe thead th {\n",
       "        text-align: right;\n",
       "    }\n",
       "</style>\n",
       "<table border=\"1\" class=\"dataframe\">\n",
       "  <thead>\n",
       "    <tr style=\"text-align: right;\">\n",
       "      <th></th>\n",
       "      <th>Age</th>\n",
       "      <th>Total</th>\n",
       "    </tr>\n",
       "  </thead>\n",
       "  <tbody>\n",
       "    <tr>\n",
       "      <th>Age</th>\n",
       "      <td>1.00000</td>\n",
       "      <td>0.28793</td>\n",
       "    </tr>\n",
       "    <tr>\n",
       "      <th>Total</th>\n",
       "      <td>0.28793</td>\n",
       "      <td>1.00000</td>\n",
       "    </tr>\n",
       "  </tbody>\n",
       "</table>\n",
       "</div>"
      ],
      "text/plain": [
       "           Age    Total\n",
       "Age    1.00000  0.28793\n",
       "Total  0.28793  1.00000"
      ]
     },
     "metadata": {},
     "output_type": "display_data"
    }
   ],
   "source": [
    "display(Markdown(\"#### Correlation Matrix of Socio-Economic Factors and ELOM Score\"))\n",
    "dfSocioEconomic2016 = df2016[['Quintile', 'Age','HomeLanguage','AssesLanguage','Total']]\n",
    "display(dfSocioEconomic2016.corr())"
   ]
  },
  {
   "cell_type": "markdown",
   "metadata": {},
   "source": [
    "We can see above that there is an extremely weak positive correlation between the variables  listed above. In order to visualise the individual relationships between the socio-economic variables we will plot graphs of these relationships."
   ]
  },
  {
   "cell_type": "code",
   "execution_count": 28,
   "metadata": {},
   "outputs": [
    {
     "data": {
      "image/png": "[encoded data removed]",
      "text/plain": [
       "<Figure size 432x432 with 1 Axes>"
      ]
     },
     "metadata": {
      "needs_background": "light"
     },
     "output_type": "display_data"
    }
   ],
   "source": [
    "plt.figure(figsize=(6,6))\n",
    "plt.hist([dfSocioEconomic2016.Total[dfSocioEconomic2016.Quintile==1], dfSocioEconomic2016.Total[dfSocioEconomic2016.Quintile==2], dfSocioEconomic2016.Total[dfSocioEconomic2016.Quintile==3], dfSocioEconomic2016.Total[dfSocioEconomic2016.Quintile==4], dfSocioEconomic2016.Total[dfSocioEconomic2016.Quintile==5]], label=['Quintile 1', 'Quintile 2', 'Quintile 3', 'Quintile 4', 'Quintile 5'],density=True)\n",
    "plt.legend(loc='upper left')\n",
    "plt.title(\"PDF of ELOM Score per Quintile\")\n",
    "plt.xlabel('ELOM Score')\n",
    "plt.ylabel('Probability')\n",
    "plt.show()"
   ]
  },
  {
   "cell_type": "markdown",
   "metadata": {},
   "source": [
    "Based on the above figure, it is very clear that the poorer quintiles have lower ELOM scores on average, than the less poor quintiles.\n",
    "\n",
    "In comparison to 2019, the 2016 results present a very similar positive relationship between these variables."
   ]
  },
  {
   "cell_type": "code",
   "execution_count": 29,
   "metadata": {},
   "outputs": [
    {
     "data": {
      "image/png": "[encoded data removed]",
      "text/plain": [
       "<Figure size 432x432 with 1 Axes>"
      ]
     },
     "metadata": {
      "needs_background": "light"
     },
     "output_type": "display_data"
    }
   ],
   "source": [
    "plt.figure(figsize=(6,6))\n",
    "plt.title(\"Scatterplot representing Age vs ELOM Score\")\n",
    "plt.ylabel('ELOM Score')\n",
    "plt.xlabel('Age (Months)')\n",
    "plt.scatter(df2016.Age,df2016.Total,alpha=0.3)\n",
    "plt.show()"
   ]
  },
  {
   "cell_type": "markdown",
   "metadata": {},
   "source": [
    "We can see from the above graph that there is a weak positive correlation between `Age` and ELOM score. This visual representation is logically sound due to it coinciding with the value of the correlation coefficient calculated above. This presents similar results to that of the 2019 dataset."
   ]
  },
  {
   "cell_type": "code",
   "execution_count": 30,
   "metadata": {},
   "outputs": [
    {
     "data": {
      "text/plain": [
       "False"
      ]
     },
     "execution_count": 30,
     "metadata": {},
     "output_type": "execute_result"
    }
   ],
   "source": [
    "df2016[\"HomeLanguage\"].equals(df2016[\"AssesLanguage\"])"
   ]
  },
  {
   "cell_type": "markdown",
   "metadata": {},
   "source": [
    "Here we can see that the `HomeLanguage` and `AssessLanguage` variables differ. We have chosen to exlude this variable from the model in order to remain consistent with the model for the 2019 dataset and allow for them to be directly compared."
   ]
  },
  {
   "cell_type": "code",
   "execution_count": 31,
   "metadata": {},
   "outputs": [
    {
     "data": {
      "text/html": [
       "<style  type=\"text/css\" >\n",
       "</style><table id=\"T_6b70d742_bef9_11eb_b450_f21898351dfc\" style='display:inline'><thead>    <tr>        <th class=\"blank level0\" ></th>        <th class=\"col_heading level0 col0\" >Total</th>    </tr>    <tr>        <th class=\"index_name level0\" >HomeLanguage</th>        <th class=\"blank\" ></th>    </tr></thead><tbody>\n",
       "                <tr>\n",
       "                        <th id=\"T_6b70d742_bef9_11eb_b450_f21898351dfclevel0_row0\" class=\"row_heading level0 row0\" >Sesotho</th>\n",
       "                        <td id=\"T_6b70d742_bef9_11eb_b450_f21898351dfcrow0_col0\" class=\"data row0 col0\" >40.868000</td>\n",
       "            </tr>\n",
       "            <tr>\n",
       "                        <th id=\"T_6b70d742_bef9_11eb_b450_f21898351dfclevel0_row1\" class=\"row_heading level0 row1\" >Setswana</th>\n",
       "                        <td id=\"T_6b70d742_bef9_11eb_b450_f21898351dfcrow1_col0\" class=\"data row1 col0\" >43.725253</td>\n",
       "            </tr>\n",
       "            <tr>\n",
       "                        <th id=\"T_6b70d742_bef9_11eb_b450_f21898351dfclevel0_row2\" class=\"row_heading level0 row2\" >Afrikaans</th>\n",
       "                        <td id=\"T_6b70d742_bef9_11eb_b450_f21898351dfcrow2_col0\" class=\"data row2 col0\" >48.059429</td>\n",
       "            </tr>\n",
       "            <tr>\n",
       "                        <th id=\"T_6b70d742_bef9_11eb_b450_f21898351dfclevel0_row3\" class=\"row_heading level0 row3\" >isiZulu</th>\n",
       "                        <td id=\"T_6b70d742_bef9_11eb_b450_f21898351dfcrow3_col0\" class=\"data row3 col0\" >50.217526</td>\n",
       "            </tr>\n",
       "            <tr>\n",
       "                        <th id=\"T_6b70d742_bef9_11eb_b450_f21898351dfclevel0_row4\" class=\"row_heading level0 row4\" >English</th>\n",
       "                        <td id=\"T_6b70d742_bef9_11eb_b450_f21898351dfcrow4_col0\" class=\"data row4 col0\" >54.511463</td>\n",
       "            </tr>\n",
       "            <tr>\n",
       "                        <th id=\"T_6b70d742_bef9_11eb_b450_f21898351dfclevel0_row5\" class=\"row_heading level0 row5\" >isiXhosa</th>\n",
       "                        <td id=\"T_6b70d742_bef9_11eb_b450_f21898351dfcrow5_col0\" class=\"data row5 col0\" >55.941417</td>\n",
       "            </tr>\n",
       "    </tbody></table>          <style  type=\"text/css\" >\n",
       "</style><table id=\"T_6b70ff1a_bef9_11eb_b450_f21898351dfc\" style='display:inline'><thead>    <tr>        <th class=\"blank level0\" ></th>        <th class=\"col_heading level0 col0\" >Total</th>    </tr>    <tr>        <th class=\"index_name level0\" >AssesLanguage</th>        <th class=\"blank\" ></th>    </tr></thead><tbody>\n",
       "                <tr>\n",
       "                        <th id=\"T_6b70ff1a_bef9_11eb_b450_f21898351dfclevel0_row0\" class=\"row_heading level0 row0\" >Setswana</th>\n",
       "                        <td id=\"T_6b70ff1a_bef9_11eb_b450_f21898351dfcrow0_col0\" class=\"data row0 col0\" >43.501477</td>\n",
       "            </tr>\n",
       "            <tr>\n",
       "                        <th id=\"T_6b70ff1a_bef9_11eb_b450_f21898351dfclevel0_row1\" class=\"row_heading level0 row1\" >Afrikaans</th>\n",
       "                        <td id=\"T_6b70ff1a_bef9_11eb_b450_f21898351dfcrow1_col0\" class=\"data row1 col0\" >48.330667</td>\n",
       "            </tr>\n",
       "            <tr>\n",
       "                        <th id=\"T_6b70ff1a_bef9_11eb_b450_f21898351dfclevel0_row2\" class=\"row_heading level0 row2\" >isiZulu</th>\n",
       "                        <td id=\"T_6b70ff1a_bef9_11eb_b450_f21898351dfcrow2_col0\" class=\"data row2 col0\" >50.385000</td>\n",
       "            </tr>\n",
       "            <tr>\n",
       "                        <th id=\"T_6b70ff1a_bef9_11eb_b450_f21898351dfclevel0_row3\" class=\"row_heading level0 row3\" >English</th>\n",
       "                        <td id=\"T_6b70ff1a_bef9_11eb_b450_f21898351dfcrow3_col0\" class=\"data row3 col0\" >54.052267</td>\n",
       "            </tr>\n",
       "            <tr>\n",
       "                        <th id=\"T_6b70ff1a_bef9_11eb_b450_f21898351dfclevel0_row4\" class=\"row_heading level0 row4\" >isiXhosa</th>\n",
       "                        <td id=\"T_6b70ff1a_bef9_11eb_b450_f21898351dfcrow4_col0\" class=\"data row4 col0\" >55.672439</td>\n",
       "            </tr>\n",
       "    </tbody></table>"
      ]
     },
     "metadata": {},
     "output_type": "display_data"
    }
   ],
   "source": [
    "dfHomeLanguage2016 = df2016[[\"HomeLanguage\",\"Total\"]].groupby([\"HomeLanguage\"]).mean().sort_values(by='Total')\n",
    "\n",
    "dfAssessLanguage2016 = df2016[[\"AssesLanguage\",\"Total\"]].groupby([\"AssesLanguage\"]).mean().sort_values(by='Total')\n",
    "\n",
    "df1_styler = dfHomeLanguage2016.style.set_table_attributes(\"style='display:inline'\").set_caption('')\n",
    "df2_styler = dfAssessLanguage2016.style.set_table_attributes(\"style='display:inline'\").set_caption('')\n",
    "space = \"\\xa0\" * 10\n",
    "display_html(df1_styler._repr_html_()+space+df2_styler._repr_html_(), raw=True)"
   ]
  },
  {
   "cell_type": "markdown",
   "metadata": {},
   "source": [
    "From the above table we can deduce that on average learners who are isiXhosa speaking had a higher ELOM score than students who speak other languages. isiZulu speaking students had the lowest ELOM score on average.\n",
    "\n",
    "This differs from the 2019 dataset which exhibited English speaking students with the highest average ELOM Score and Setswana speaking student with the lowest. "
   ]
  },
  {
   "cell_type": "code",
   "execution_count": 32,
   "metadata": {},
   "outputs": [
    {
     "data": {
      "text/html": [
       "<style  type=\"text/css\" >\n",
       "</style><table id=\"T_6b7385e6_bef9_11eb_b450_f21898351dfc\" style='display:inline'><caption>Age 40 to 59 months</caption><thead>    <tr>        <th class=\"blank level0\" ></th>        <th class=\"col_heading level0 col0\" >Total</th>    </tr>    <tr>        <th class=\"blank level1\" ></th>        <th class=\"col_heading level1 col0\" >mean</th>    </tr>    <tr>        <th class=\"index_name level0\" >Quintile</th>        <th class=\"blank\" ></th>    </tr></thead><tbody>\n",
       "                <tr>\n",
       "                        <th id=\"T_6b7385e6_bef9_11eb_b450_f21898351dfclevel0_row0\" class=\"row_heading level0 row0\" >1</th>\n",
       "                        <td id=\"T_6b7385e6_bef9_11eb_b450_f21898351dfcrow0_col0\" class=\"data row0 col0\" >37.462600</td>\n",
       "            </tr>\n",
       "            <tr>\n",
       "                        <th id=\"T_6b7385e6_bef9_11eb_b450_f21898351dfclevel0_row1\" class=\"row_heading level0 row1\" >2</th>\n",
       "                        <td id=\"T_6b7385e6_bef9_11eb_b450_f21898351dfcrow1_col0\" class=\"data row1 col0\" >40.532353</td>\n",
       "            </tr>\n",
       "            <tr>\n",
       "                        <th id=\"T_6b7385e6_bef9_11eb_b450_f21898351dfclevel0_row2\" class=\"row_heading level0 row2\" >3</th>\n",
       "                        <td id=\"T_6b7385e6_bef9_11eb_b450_f21898351dfcrow2_col0\" class=\"data row2 col0\" >41.912375</td>\n",
       "            </tr>\n",
       "            <tr>\n",
       "                        <th id=\"T_6b7385e6_bef9_11eb_b450_f21898351dfclevel0_row3\" class=\"row_heading level0 row3\" >4</th>\n",
       "                        <td id=\"T_6b7385e6_bef9_11eb_b450_f21898351dfcrow3_col0\" class=\"data row3 col0\" >47.748983</td>\n",
       "            </tr>\n",
       "            <tr>\n",
       "                        <th id=\"T_6b7385e6_bef9_11eb_b450_f21898351dfclevel0_row4\" class=\"row_heading level0 row4\" >5</th>\n",
       "                        <td id=\"T_6b7385e6_bef9_11eb_b450_f21898351dfcrow4_col0\" class=\"data row4 col0\" >50.505806</td>\n",
       "            </tr>\n",
       "    </tbody></table>          <style  type=\"text/css\" >\n",
       "</style><table id=\"T_6b73bdea_bef9_11eb_b450_f21898351dfc\" style='display:inline'><caption>Age 60 to 69 months</caption><thead>    <tr>        <th class=\"blank level0\" ></th>        <th class=\"col_heading level0 col0\" >Total</th>    </tr>    <tr>        <th class=\"blank level1\" ></th>        <th class=\"col_heading level1 col0\" >mean</th>    </tr>    <tr>        <th class=\"index_name level0\" >Quintile</th>        <th class=\"blank\" ></th>    </tr></thead><tbody>\n",
       "                <tr>\n",
       "                        <th id=\"T_6b73bdea_bef9_11eb_b450_f21898351dfclevel0_row0\" class=\"row_heading level0 row0\" >1</th>\n",
       "                        <td id=\"T_6b73bdea_bef9_11eb_b450_f21898351dfcrow0_col0\" class=\"data row0 col0\" >41.572586</td>\n",
       "            </tr>\n",
       "            <tr>\n",
       "                        <th id=\"T_6b73bdea_bef9_11eb_b450_f21898351dfclevel0_row1\" class=\"row_heading level0 row1\" >2</th>\n",
       "                        <td id=\"T_6b73bdea_bef9_11eb_b450_f21898351dfcrow1_col0\" class=\"data row1 col0\" >51.972544</td>\n",
       "            </tr>\n",
       "            <tr>\n",
       "                        <th id=\"T_6b73bdea_bef9_11eb_b450_f21898351dfclevel0_row2\" class=\"row_heading level0 row2\" >3</th>\n",
       "                        <td id=\"T_6b73bdea_bef9_11eb_b450_f21898351dfcrow2_col0\" class=\"data row2 col0\" >48.870513</td>\n",
       "            </tr>\n",
       "            <tr>\n",
       "                        <th id=\"T_6b73bdea_bef9_11eb_b450_f21898351dfclevel0_row3\" class=\"row_heading level0 row3\" >4</th>\n",
       "                        <td id=\"T_6b73bdea_bef9_11eb_b450_f21898351dfcrow3_col0\" class=\"data row3 col0\" >54.418225</td>\n",
       "            </tr>\n",
       "            <tr>\n",
       "                        <th id=\"T_6b73bdea_bef9_11eb_b450_f21898351dfclevel0_row4\" class=\"row_heading level0 row4\" >5</th>\n",
       "                        <td id=\"T_6b73bdea_bef9_11eb_b450_f21898351dfcrow4_col0\" class=\"data row4 col0\" >54.435224</td>\n",
       "            </tr>\n",
       "    </tbody></table>"
      ]
     },
     "metadata": {},
     "output_type": "display_data"
    }
   ],
   "source": [
    "dfAgeGroup1_2016 = df2016[df2016.AgeGroup == '49 to 59 Months']\n",
    "dfAgeGroup2_2016 = df2016[df2016.AgeGroup == '60 to 69 Months']\n",
    "df1 = pd.DataFrame(dfAgeGroup1_2016.groupby('Quintile').agg({'Total':['mean']}))\n",
    "df2 = pd.DataFrame(dfAgeGroup2_2016.groupby('Quintile').agg({'Total':['mean']}))\n",
    "df1_styler = df1.style.set_table_attributes(\"style='display:inline'\").set_caption('Age 40 to 59 months')\n",
    "df2_styler = df2.style.set_table_attributes(\"style='display:inline'\").set_caption('Age 60 to 69 months')\n",
    "space = \"\\xa0\" * 10\n",
    "display_html(df1_styler._repr_html_()+space+df2_styler._repr_html_(), raw=True)"
   ]
  },
  {
   "cell_type": "markdown",
   "metadata": {},
   "source": [
    "As seen in the 2019 dataset, students that belong to less poor quintiles have higher ELOM scores on average compared to other students, also applies to students in the 40 to 59 months age group for 2016. However, the inverse applies to students which fall in the 60 to 69 month age category."
   ]
  },
  {
   "cell_type": "markdown",
   "metadata": {},
   "source": [
    "In order to perform model fitting, hypothesis testing and interpretation of results for every question in a structured manner, we will look at each of these sections per question. A 5% significance level will be used throughout the model fitting and hypothesis testing stages."
   ]
  },
  {
   "cell_type": "markdown",
   "metadata": {},
   "source": [
    "## Model Fitting"
   ]
  },
  {
   "cell_type": "markdown",
   "metadata": {},
   "source": [
    "\n",
    "### Methodology\n",
    "We will initially take our full dataset and split the dataset into a training dataset and a testing dataset. The training dataset will allow us to determine the various outputs from least squares regression for the different subsets of our eventual final model. These outputs include the regression coefficients per variable in the model, the standard error for each variables regression coefficient and the students t-distribution value for the respective regression coefficients. These are just a subset of the outputs in the model. \n",
    "\n",
    "We will then perform model selection which will provide us with the best model in terms of which variables should be included in our model. Residual analysis will then be performed which will allow us to identify outliers in our data as well as determining if the regression coefficients for certain explanatory variables in our model are biased or not. Finally, depending on the results from residual analysis, we could possibly need to refit the model on the data. \n",
    "\n",
    "We will then finally fit a least squares regression on our test data. The outputs of this regression together with the outputs of the final training data regression will allow us to determine if those outputs are by chance, sampling variation, or if these outputs are statistically signficant.\n",
    "\n",
    "We initially perform regression on each of the variables seperately with the dependent variable, ELOM score. We will look at which model produces the best $R^2$ which is a goodness-of-fit measure for linear regression models. This statistic indicates the percentage of the variance in the dependent variable that the independent variables explain collectively. R-squared measures the strength of the relationship between your model and the dependent variable on a convenient 0 – 100% scale (https://statisticsbyjim.com/regression/interpret-r-squared-regression/). Depending on which model produces the best $R^2$ value we will choose the variables associated with that model and add it to our final model. We stop this adding of variables when the $R^2$ value stops increasing when adding any of the variables not currently present in the model.\n",
    "\n",
    "Before diving into the code to implement the methodology mentioned above we need to list our assumptions regarding our data and model to be.\n",
    "* There is a linear relationship between the dependent variable(ELOM score) and the various independent variables in the model.\n",
    "* Each data observation is independent of the other data observations.\n",
    "* We assume Homoscedasticity for our residuals, meaning the variance of the residual is the same for any observation.\n",
    "* Lastly we assume the residuals are normally distributed."
   ]
  },
  {
   "cell_type": "markdown",
   "metadata": {},
   "source": [
    "### 1 - Does the socio-economic background of a child influence their ELOM score and, if so, to what extent?"
   ]
  },
  {
   "cell_type": "markdown",
   "metadata": {},
   "source": [
    "The model which will be constructed will contain only socio-economic variables from the 2019 dataset as well as our dependent variable - ELOM score of a student. The outputs from this model will allow us to make deductions as to whether the included socio-economic variables have an impact on the students ELOM score.\n"
   ]
  },
  {
   "cell_type": "code",
   "execution_count": 33,
   "metadata": {},
   "outputs": [
    {
     "data": {
      "text/html": [
       "<div>\n",
       "<style scoped>\n",
       "    .dataframe tbody tr th:only-of-type {\n",
       "        vertical-align: middle;\n",
       "    }\n",
       "\n",
       "    .dataframe tbody tr th {\n",
       "        vertical-align: top;\n",
       "    }\n",
       "\n",
       "    .dataframe thead th {\n",
       "        text-align: right;\n",
       "    }\n",
       "</style>\n",
       "<table border=\"1\" class=\"dataframe\">\n",
       "  <thead>\n",
       "    <tr style=\"text-align: right;\">\n",
       "      <th></th>\n",
       "      <th>csid</th>\n",
       "      <th>Province</th>\n",
       "      <th>SchoolID</th>\n",
       "      <th>RuralOrUrbanDistance</th>\n",
       "      <th>RuralOrUrbanCensus</th>\n",
       "      <th>Quintile</th>\n",
       "      <th>CompositeQuintileGroup</th>\n",
       "      <th>District</th>\n",
       "      <th>Gender</th>\n",
       "      <th>Age</th>\n",
       "      <th>AgeGroup</th>\n",
       "      <th>HomeLanguage</th>\n",
       "      <th>AssesLanguage</th>\n",
       "      <th>Height</th>\n",
       "      <th>ChildSupportGrant</th>\n",
       "      <th>ProgrammeYear</th>\n",
       "      <th>Item1</th>\n",
       "      <th>Item2</th>\n",
       "      <th>Item3</th>\n",
       "      <th>Item4</th>\n",
       "      <th>gmd</th>\n",
       "      <th>Item5</th>\n",
       "      <th>Item6</th>\n",
       "      <th>Item7</th>\n",
       "      <th>Item8</th>\n",
       "      <th>fmcvmi</th>\n",
       "      <th>Item9</th>\n",
       "      <th>Item10</th>\n",
       "      <th>Item11</th>\n",
       "      <th>Item12</th>\n",
       "      <th>Item13</th>\n",
       "      <th>enm</th>\n",
       "      <th>Item14</th>\n",
       "      <th>Item15</th>\n",
       "      <th>Item16</th>\n",
       "      <th>Item17</th>\n",
       "      <th>cef</th>\n",
       "      <th>Item18</th>\n",
       "      <th>Item19</th>\n",
       "      <th>Item20</th>\n",
       "      <th>Item21</th>\n",
       "      <th>Item22</th>\n",
       "      <th>Item23</th>\n",
       "      <th>ell</th>\n",
       "      <th>total</th>\n",
       "      <th>ChildObs1</th>\n",
       "      <th>ChildObs2</th>\n",
       "      <th>ChildObs3</th>\n",
       "      <th>ChildObs4</th>\n",
       "      <th>ChildObs</th>\n",
       "      <th>SelfCare</th>\n",
       "      <th>SocialRelations</th>\n",
       "      <th>EmotionalReadiness</th>\n",
       "    </tr>\n",
       "  </thead>\n",
       "  <tbody>\n",
       "    <tr>\n",
       "      <th>0</th>\n",
       "      <td>1_0_3</td>\n",
       "      <td>ec</td>\n",
       "      <td>1</td>\n",
       "      <td>Urban</td>\n",
       "      <td>Rural</td>\n",
       "      <td>3</td>\n",
       "      <td>Quintile 2 &amp; 3</td>\n",
       "      <td>mthata</td>\n",
       "      <td>Male</td>\n",
       "      <td>59.311474</td>\n",
       "      <td>50 to 59</td>\n",
       "      <td>isiXhosa</td>\n",
       "      <td>isiXhosa</td>\n",
       "      <td>107.5</td>\n",
       "      <td>Yes</td>\n",
       "      <td>1 Year in Programme</td>\n",
       "      <td>2.91</td>\n",
       "      <td>2.07</td>\n",
       "      <td>0.00</td>\n",
       "      <td>0.00</td>\n",
       "      <td>4.980000</td>\n",
       "      <td>4.20</td>\n",
       "      <td>0.0</td>\n",
       "      <td>3.12</td>\n",
       "      <td>2.03</td>\n",
       "      <td>9.35</td>\n",
       "      <td>0.00</td>\n",
       "      <td>0.0</td>\n",
       "      <td>4.01</td>\n",
       "      <td>1.38</td>\n",
       "      <td>2.65</td>\n",
       "      <td>8.04</td>\n",
       "      <td>1.00</td>\n",
       "      <td>0.00</td>\n",
       "      <td>4.03</td>\n",
       "      <td>3.02</td>\n",
       "      <td>8.05</td>\n",
       "      <td>0.00</td>\n",
       "      <td>0.0</td>\n",
       "      <td>1.00</td>\n",
       "      <td>1.25</td>\n",
       "      <td>2.19</td>\n",
       "      <td>0.0</td>\n",
       "      <td>4.44</td>\n",
       "      <td>34.860001</td>\n",
       "      <td>Sometimes</td>\n",
       "      <td>Sometimes</td>\n",
       "      <td>Sometimes</td>\n",
       "      <td>Almost never</td>\n",
       "      <td>3</td>\n",
       "      <td>3</td>\n",
       "      <td>16</td>\n",
       "      <td>8</td>\n",
       "    </tr>\n",
       "    <tr>\n",
       "      <th>1</th>\n",
       "      <td>1_1_2</td>\n",
       "      <td>ec</td>\n",
       "      <td>1</td>\n",
       "      <td>Urban</td>\n",
       "      <td>Rural</td>\n",
       "      <td>3</td>\n",
       "      <td>Quintile 2 &amp; 3</td>\n",
       "      <td>mthata</td>\n",
       "      <td>Female</td>\n",
       "      <td>58.950821</td>\n",
       "      <td>50 to 59</td>\n",
       "      <td>isiXhosa</td>\n",
       "      <td>isiXhosa</td>\n",
       "      <td>99.0</td>\n",
       "      <td>Yes</td>\n",
       "      <td>1 Year in Programme</td>\n",
       "      <td>1.36</td>\n",
       "      <td>2.07</td>\n",
       "      <td>2.22</td>\n",
       "      <td>2.62</td>\n",
       "      <td>8.270001</td>\n",
       "      <td>3.11</td>\n",
       "      <td>0.0</td>\n",
       "      <td>0.00</td>\n",
       "      <td>3.41</td>\n",
       "      <td>6.52</td>\n",
       "      <td>0.00</td>\n",
       "      <td>0.0</td>\n",
       "      <td>4.01</td>\n",
       "      <td>2.80</td>\n",
       "      <td>1.00</td>\n",
       "      <td>7.81</td>\n",
       "      <td>3.11</td>\n",
       "      <td>2.68</td>\n",
       "      <td>2.11</td>\n",
       "      <td>1.26</td>\n",
       "      <td>9.16</td>\n",
       "      <td>3.21</td>\n",
       "      <td>0.0</td>\n",
       "      <td>3.41</td>\n",
       "      <td>3.17</td>\n",
       "      <td>2.19</td>\n",
       "      <td>0.0</td>\n",
       "      <td>11.98</td>\n",
       "      <td>43.740002</td>\n",
       "      <td>Sometimes</td>\n",
       "      <td>Sometimes</td>\n",
       "      <td>Sometimes</td>\n",
       "      <td>Sometimes</td>\n",
       "      <td>4</td>\n",
       "      <td>2</td>\n",
       "      <td>19</td>\n",
       "      <td>7</td>\n",
       "    </tr>\n",
       "    <tr>\n",
       "      <th>2</th>\n",
       "      <td>1_0_4</td>\n",
       "      <td>ec</td>\n",
       "      <td>1</td>\n",
       "      <td>Urban</td>\n",
       "      <td>Rural</td>\n",
       "      <td>3</td>\n",
       "      <td>Quintile 2 &amp; 3</td>\n",
       "      <td>mthata</td>\n",
       "      <td>Male</td>\n",
       "      <td>58.688526</td>\n",
       "      <td>50 to 59</td>\n",
       "      <td>isiXhosa</td>\n",
       "      <td>isiXhosa</td>\n",
       "      <td>108.4</td>\n",
       "      <td>Yes</td>\n",
       "      <td>1 Year in Programme</td>\n",
       "      <td>1.36</td>\n",
       "      <td>2.07</td>\n",
       "      <td>2.22</td>\n",
       "      <td>0.00</td>\n",
       "      <td>5.650000</td>\n",
       "      <td>4.20</td>\n",
       "      <td>0.0</td>\n",
       "      <td>3.12</td>\n",
       "      <td>3.41</td>\n",
       "      <td>10.73</td>\n",
       "      <td>0.00</td>\n",
       "      <td>0.0</td>\n",
       "      <td>2.47</td>\n",
       "      <td>1.38</td>\n",
       "      <td>1.00</td>\n",
       "      <td>4.85</td>\n",
       "      <td>0.00</td>\n",
       "      <td>0.00</td>\n",
       "      <td>0.00</td>\n",
       "      <td>1.26</td>\n",
       "      <td>1.26</td>\n",
       "      <td>0.00</td>\n",
       "      <td>0.0</td>\n",
       "      <td>2.47</td>\n",
       "      <td>1.25</td>\n",
       "      <td>2.19</td>\n",
       "      <td>0.0</td>\n",
       "      <td>5.91</td>\n",
       "      <td>28.400000</td>\n",
       "      <td>Sometimes</td>\n",
       "      <td>Sometimes</td>\n",
       "      <td>Often</td>\n",
       "      <td>Sometimes</td>\n",
       "      <td>5</td>\n",
       "      <td>3</td>\n",
       "      <td>20</td>\n",
       "      <td>10</td>\n",
       "    </tr>\n",
       "    <tr>\n",
       "      <th>3</th>\n",
       "      <td>1_1_10</td>\n",
       "      <td>ec</td>\n",
       "      <td>1</td>\n",
       "      <td>Urban</td>\n",
       "      <td>Rural</td>\n",
       "      <td>3</td>\n",
       "      <td>Quintile 2 &amp; 3</td>\n",
       "      <td>mthata</td>\n",
       "      <td>Female</td>\n",
       "      <td>58.491802</td>\n",
       "      <td>50 to 59</td>\n",
       "      <td>isiXhosa</td>\n",
       "      <td>isiXhosa</td>\n",
       "      <td>102.1</td>\n",
       "      <td>Yes</td>\n",
       "      <td>1 Year in Programme</td>\n",
       "      <td>1.36</td>\n",
       "      <td>2.07</td>\n",
       "      <td>2.22</td>\n",
       "      <td>0.00</td>\n",
       "      <td>5.650000</td>\n",
       "      <td>3.11</td>\n",
       "      <td>0.0</td>\n",
       "      <td>3.77</td>\n",
       "      <td>3.41</td>\n",
       "      <td>10.29</td>\n",
       "      <td>2.81</td>\n",
       "      <td>0.0</td>\n",
       "      <td>0.00</td>\n",
       "      <td>1.38</td>\n",
       "      <td>2.65</td>\n",
       "      <td>6.84</td>\n",
       "      <td>1.00</td>\n",
       "      <td>1.34</td>\n",
       "      <td>0.00</td>\n",
       "      <td>3.02</td>\n",
       "      <td>5.36</td>\n",
       "      <td>0.00</td>\n",
       "      <td>0.0</td>\n",
       "      <td>2.47</td>\n",
       "      <td>1.25</td>\n",
       "      <td>2.19</td>\n",
       "      <td>0.0</td>\n",
       "      <td>5.91</td>\n",
       "      <td>34.049999</td>\n",
       "      <td>Sometimes</td>\n",
       "      <td>Sometimes</td>\n",
       "      <td>Almost never</td>\n",
       "      <td>Sometimes</td>\n",
       "      <td>3</td>\n",
       "      <td>3</td>\n",
       "      <td>20</td>\n",
       "      <td>11</td>\n",
       "    </tr>\n",
       "    <tr>\n",
       "      <th>4</th>\n",
       "      <td>1_0_11</td>\n",
       "      <td>ec</td>\n",
       "      <td>1</td>\n",
       "      <td>Urban</td>\n",
       "      <td>Rural</td>\n",
       "      <td>3</td>\n",
       "      <td>Quintile 2 &amp; 3</td>\n",
       "      <td>mthata</td>\n",
       "      <td>Male</td>\n",
       "      <td>57.934425</td>\n",
       "      <td>50 to 59</td>\n",
       "      <td>isiXhosa</td>\n",
       "      <td>isiXhosa</td>\n",
       "      <td>101.5</td>\n",
       "      <td>Yes</td>\n",
       "      <td>1 Year in Programme</td>\n",
       "      <td>0.00</td>\n",
       "      <td>1.00</td>\n",
       "      <td>2.22</td>\n",
       "      <td>0.00</td>\n",
       "      <td>3.220000</td>\n",
       "      <td>0.00</td>\n",
       "      <td>0.0</td>\n",
       "      <td>0.00</td>\n",
       "      <td>2.75</td>\n",
       "      <td>2.75</td>\n",
       "      <td>0.00</td>\n",
       "      <td>0.0</td>\n",
       "      <td>0.00</td>\n",
       "      <td>1.38</td>\n",
       "      <td>0.00</td>\n",
       "      <td>1.38</td>\n",
       "      <td>0.00</td>\n",
       "      <td>0.00</td>\n",
       "      <td>0.00</td>\n",
       "      <td>0.00</td>\n",
       "      <td>0.00</td>\n",
       "      <td>0.00</td>\n",
       "      <td>0.0</td>\n",
       "      <td>0.00</td>\n",
       "      <td>1.25</td>\n",
       "      <td>0.00</td>\n",
       "      <td>0.0</td>\n",
       "      <td>1.25</td>\n",
       "      <td>8.600000</td>\n",
       "      <td>Almost never</td>\n",
       "      <td>Almost never</td>\n",
       "      <td>Almost never</td>\n",
       "      <td>Almost always</td>\n",
       "      <td>3</td>\n",
       "      <td>3</td>\n",
       "      <td>10</td>\n",
       "      <td>2</td>\n",
       "    </tr>\n",
       "  </tbody>\n",
       "</table>\n",
       "</div>"
      ],
      "text/plain": [
       "     csid Province  SchoolID RuralOrUrbanDistance RuralOrUrbanCensus  \\\n",
       "0   1_0_3       ec         1                Urban              Rural   \n",
       "1   1_1_2       ec         1                Urban              Rural   \n",
       "2   1_0_4       ec         1                Urban              Rural   \n",
       "3  1_1_10       ec         1                Urban              Rural   \n",
       "4  1_0_11       ec         1                Urban              Rural   \n",
       "\n",
       "   Quintile CompositeQuintileGroup District  Gender        Age  AgeGroup  \\\n",
       "0         3         Quintile 2 & 3   mthata    Male  59.311474  50 to 59   \n",
       "1         3         Quintile 2 & 3   mthata  Female  58.950821  50 to 59   \n",
       "2         3         Quintile 2 & 3   mthata    Male  58.688526  50 to 59   \n",
       "3         3         Quintile 2 & 3   mthata  Female  58.491802  50 to 59   \n",
       "4         3         Quintile 2 & 3   mthata    Male  57.934425  50 to 59   \n",
       "\n",
       "  HomeLanguage AssesLanguage  Height ChildSupportGrant        ProgrammeYear  \\\n",
       "0     isiXhosa      isiXhosa   107.5               Yes  1 Year in Programme   \n",
       "1     isiXhosa      isiXhosa    99.0               Yes  1 Year in Programme   \n",
       "2     isiXhosa      isiXhosa   108.4               Yes  1 Year in Programme   \n",
       "3     isiXhosa      isiXhosa   102.1               Yes  1 Year in Programme   \n",
       "4     isiXhosa      isiXhosa   101.5               Yes  1 Year in Programme   \n",
       "\n",
       "   Item1  Item2  Item3  Item4       gmd  Item5  Item6  Item7  Item8  fmcvmi  \\\n",
       "0   2.91   2.07   0.00   0.00  4.980000   4.20    0.0   3.12   2.03    9.35   \n",
       "1   1.36   2.07   2.22   2.62  8.270001   3.11    0.0   0.00   3.41    6.52   \n",
       "2   1.36   2.07   2.22   0.00  5.650000   4.20    0.0   3.12   3.41   10.73   \n",
       "3   1.36   2.07   2.22   0.00  5.650000   3.11    0.0   3.77   3.41   10.29   \n",
       "4   0.00   1.00   2.22   0.00  3.220000   0.00    0.0   0.00   2.75    2.75   \n",
       "\n",
       "   Item9  Item10  Item11  Item12  Item13   enm  Item14  Item15  Item16  \\\n",
       "0   0.00     0.0    4.01    1.38    2.65  8.04    1.00    0.00    4.03   \n",
       "1   0.00     0.0    4.01    2.80    1.00  7.81    3.11    2.68    2.11   \n",
       "2   0.00     0.0    2.47    1.38    1.00  4.85    0.00    0.00    0.00   \n",
       "3   2.81     0.0    0.00    1.38    2.65  6.84    1.00    1.34    0.00   \n",
       "4   0.00     0.0    0.00    1.38    0.00  1.38    0.00    0.00    0.00   \n",
       "\n",
       "   Item17   cef  Item18  Item19  Item20  Item21  Item22  Item23    ell  \\\n",
       "0    3.02  8.05    0.00     0.0    1.00    1.25    2.19     0.0   4.44   \n",
       "1    1.26  9.16    3.21     0.0    3.41    3.17    2.19     0.0  11.98   \n",
       "2    1.26  1.26    0.00     0.0    2.47    1.25    2.19     0.0   5.91   \n",
       "3    3.02  5.36    0.00     0.0    2.47    1.25    2.19     0.0   5.91   \n",
       "4    0.00  0.00    0.00     0.0    0.00    1.25    0.00     0.0   1.25   \n",
       "\n",
       "       total     ChildObs1     ChildObs2     ChildObs3      ChildObs4  \\\n",
       "0  34.860001     Sometimes     Sometimes     Sometimes   Almost never   \n",
       "1  43.740002     Sometimes     Sometimes     Sometimes      Sometimes   \n",
       "2  28.400000     Sometimes     Sometimes         Often      Sometimes   \n",
       "3  34.049999     Sometimes     Sometimes  Almost never      Sometimes   \n",
       "4   8.600000  Almost never  Almost never  Almost never  Almost always   \n",
       "\n",
       "   ChildObs  SelfCare  SocialRelations  EmotionalReadiness  \n",
       "0         3         3               16                   8  \n",
       "1         4         2               19                   7  \n",
       "2         5         3               20                  10  \n",
       "3         3         3               20                  11  \n",
       "4         3         3               10                   2  "
      ]
     },
     "metadata": {},
     "output_type": "display_data"
    }
   ],
   "source": [
    "# Overview of the ELOM 2019 dataset before splitting\n",
    "display(df2019.head())"
   ]
  },
  {
   "cell_type": "code",
   "execution_count": 34,
   "metadata": {},
   "outputs": [
    {
     "name": "stdout",
     "output_type": "stream",
     "text": [
      "The training data has a shape of (1343, 53)\n",
      "The test data has a shape of (336, 53)\n"
     ]
    },
    {
     "data": {
      "text/html": [
       "<div>\n",
       "<style scoped>\n",
       "    .dataframe tbody tr th:only-of-type {\n",
       "        vertical-align: middle;\n",
       "    }\n",
       "\n",
       "    .dataframe tbody tr th {\n",
       "        vertical-align: top;\n",
       "    }\n",
       "\n",
       "    .dataframe thead th {\n",
       "        text-align: right;\n",
       "    }\n",
       "</style>\n",
       "<table border=\"1\" class=\"dataframe\">\n",
       "  <thead>\n",
       "    <tr style=\"text-align: right;\">\n",
       "      <th></th>\n",
       "      <th>csid</th>\n",
       "      <th>Province</th>\n",
       "      <th>SchoolID</th>\n",
       "      <th>RuralOrUrbanDistance</th>\n",
       "      <th>RuralOrUrbanCensus</th>\n",
       "      <th>Quintile</th>\n",
       "      <th>CompositeQuintileGroup</th>\n",
       "      <th>District</th>\n",
       "      <th>Gender</th>\n",
       "      <th>Age</th>\n",
       "      <th>AgeGroup</th>\n",
       "      <th>HomeLanguage</th>\n",
       "      <th>AssesLanguage</th>\n",
       "      <th>Height</th>\n",
       "      <th>ChildSupportGrant</th>\n",
       "      <th>ProgrammeYear</th>\n",
       "      <th>Item1</th>\n",
       "      <th>Item2</th>\n",
       "      <th>Item3</th>\n",
       "      <th>Item4</th>\n",
       "      <th>gmd</th>\n",
       "      <th>Item5</th>\n",
       "      <th>Item6</th>\n",
       "      <th>Item7</th>\n",
       "      <th>Item8</th>\n",
       "      <th>fmcvmi</th>\n",
       "      <th>Item9</th>\n",
       "      <th>Item10</th>\n",
       "      <th>Item11</th>\n",
       "      <th>Item12</th>\n",
       "      <th>Item13</th>\n",
       "      <th>enm</th>\n",
       "      <th>Item14</th>\n",
       "      <th>Item15</th>\n",
       "      <th>Item16</th>\n",
       "      <th>Item17</th>\n",
       "      <th>cef</th>\n",
       "      <th>Item18</th>\n",
       "      <th>Item19</th>\n",
       "      <th>Item20</th>\n",
       "      <th>Item21</th>\n",
       "      <th>Item22</th>\n",
       "      <th>Item23</th>\n",
       "      <th>ell</th>\n",
       "      <th>total</th>\n",
       "      <th>ChildObs1</th>\n",
       "      <th>ChildObs2</th>\n",
       "      <th>ChildObs3</th>\n",
       "      <th>ChildObs4</th>\n",
       "      <th>ChildObs</th>\n",
       "      <th>SelfCare</th>\n",
       "      <th>SocialRelations</th>\n",
       "      <th>EmotionalReadiness</th>\n",
       "    </tr>\n",
       "  </thead>\n",
       "  <tbody>\n",
       "    <tr>\n",
       "      <th>0</th>\n",
       "      <td>1083_0_9</td>\n",
       "      <td>kzn</td>\n",
       "      <td>1083</td>\n",
       "      <td>Rural</td>\n",
       "      <td>Urban</td>\n",
       "      <td>4</td>\n",
       "      <td>Quintile 4 &amp; 5</td>\n",
       "      <td>ilembe</td>\n",
       "      <td>Male</td>\n",
       "      <td>66.295082</td>\n",
       "      <td>60 to 69</td>\n",
       "      <td>isiZulu</td>\n",
       "      <td>isiZulu</td>\n",
       "      <td>106.0</td>\n",
       "      <td>Do Not Know</td>\n",
       "      <td>1 Year in Programme</td>\n",
       "      <td>2.91</td>\n",
       "      <td>2.07</td>\n",
       "      <td>3.69</td>\n",
       "      <td>0.00</td>\n",
       "      <td>8.67</td>\n",
       "      <td>3.11</td>\n",
       "      <td>4.58</td>\n",
       "      <td>3.77</td>\n",
       "      <td>3.95</td>\n",
       "      <td>15.410000</td>\n",
       "      <td>2.81</td>\n",
       "      <td>2.84</td>\n",
       "      <td>0.00</td>\n",
       "      <td>2.80</td>\n",
       "      <td>2.65</td>\n",
       "      <td>11.10</td>\n",
       "      <td>0.00</td>\n",
       "      <td>4.37</td>\n",
       "      <td>4.03</td>\n",
       "      <td>3.02</td>\n",
       "      <td>11.42</td>\n",
       "      <td>0.00</td>\n",
       "      <td>3.42</td>\n",
       "      <td>1.00</td>\n",
       "      <td>2.40</td>\n",
       "      <td>3.09</td>\n",
       "      <td>0.00</td>\n",
       "      <td>9.910000</td>\n",
       "      <td>56.509998</td>\n",
       "      <td>Often</td>\n",
       "      <td>Often</td>\n",
       "      <td>Often</td>\n",
       "      <td>Often</td>\n",
       "      <td>8</td>\n",
       "      <td>4</td>\n",
       "      <td>20</td>\n",
       "      <td>11</td>\n",
       "    </tr>\n",
       "    <tr>\n",
       "      <th>1</th>\n",
       "      <td>50_1_31</td>\n",
       "      <td>nw</td>\n",
       "      <td>50</td>\n",
       "      <td>Urban</td>\n",
       "      <td>Urban</td>\n",
       "      <td>3</td>\n",
       "      <td>Quintile 2 &amp; 3</td>\n",
       "      <td>rustenburg</td>\n",
       "      <td>Female</td>\n",
       "      <td>60.786884</td>\n",
       "      <td>60 to 69</td>\n",
       "      <td>Setswana</td>\n",
       "      <td>Setswana</td>\n",
       "      <td>108.5</td>\n",
       "      <td>Yes</td>\n",
       "      <td>1 Year in Programme</td>\n",
       "      <td>2.91</td>\n",
       "      <td>1.00</td>\n",
       "      <td>2.22</td>\n",
       "      <td>2.62</td>\n",
       "      <td>8.75</td>\n",
       "      <td>4.20</td>\n",
       "      <td>0.00</td>\n",
       "      <td>3.12</td>\n",
       "      <td>2.75</td>\n",
       "      <td>10.070000</td>\n",
       "      <td>0.00</td>\n",
       "      <td>0.00</td>\n",
       "      <td>0.00</td>\n",
       "      <td>1.38</td>\n",
       "      <td>2.65</td>\n",
       "      <td>4.03</td>\n",
       "      <td>1.00</td>\n",
       "      <td>2.68</td>\n",
       "      <td>0.00</td>\n",
       "      <td>1.26</td>\n",
       "      <td>4.94</td>\n",
       "      <td>0.00</td>\n",
       "      <td>0.00</td>\n",
       "      <td>1.00</td>\n",
       "      <td>1.25</td>\n",
       "      <td>2.19</td>\n",
       "      <td>0.00</td>\n",
       "      <td>4.440000</td>\n",
       "      <td>32.230000</td>\n",
       "      <td>Often</td>\n",
       "      <td>Often</td>\n",
       "      <td>Sometimes</td>\n",
       "      <td>Sometimes</td>\n",
       "      <td>6</td>\n",
       "      <td>3</td>\n",
       "      <td>19</td>\n",
       "      <td>3</td>\n",
       "    </tr>\n",
       "    <tr>\n",
       "      <th>2</th>\n",
       "      <td>15_0_39</td>\n",
       "      <td>ec</td>\n",
       "      <td>15</td>\n",
       "      <td>Urban</td>\n",
       "      <td>Rural</td>\n",
       "      <td>4</td>\n",
       "      <td>Quintile 4 &amp; 5</td>\n",
       "      <td>libode</td>\n",
       "      <td>Male</td>\n",
       "      <td>62.196720</td>\n",
       "      <td>60 to 69</td>\n",
       "      <td>isiXhosa</td>\n",
       "      <td>isiXhosa</td>\n",
       "      <td>105.4</td>\n",
       "      <td>Yes</td>\n",
       "      <td>1 Year in Programme</td>\n",
       "      <td>2.91</td>\n",
       "      <td>3.59</td>\n",
       "      <td>2.22</td>\n",
       "      <td>2.62</td>\n",
       "      <td>11.34</td>\n",
       "      <td>4.20</td>\n",
       "      <td>4.58</td>\n",
       "      <td>3.77</td>\n",
       "      <td>2.75</td>\n",
       "      <td>15.300000</td>\n",
       "      <td>6.03</td>\n",
       "      <td>0.00</td>\n",
       "      <td>2.47</td>\n",
       "      <td>2.80</td>\n",
       "      <td>2.65</td>\n",
       "      <td>13.95</td>\n",
       "      <td>1.00</td>\n",
       "      <td>6.72</td>\n",
       "      <td>4.03</td>\n",
       "      <td>3.02</td>\n",
       "      <td>14.77</td>\n",
       "      <td>3.21</td>\n",
       "      <td>3.42</td>\n",
       "      <td>2.47</td>\n",
       "      <td>2.40</td>\n",
       "      <td>3.09</td>\n",
       "      <td>0.00</td>\n",
       "      <td>14.590000</td>\n",
       "      <td>69.949997</td>\n",
       "      <td>Almost always</td>\n",
       "      <td>Almost always</td>\n",
       "      <td>Almost always</td>\n",
       "      <td>Almost always</td>\n",
       "      <td>12</td>\n",
       "      <td>4</td>\n",
       "      <td>24</td>\n",
       "      <td>12</td>\n",
       "    </tr>\n",
       "    <tr>\n",
       "      <th>3</th>\n",
       "      <td>469_1_5</td>\n",
       "      <td>ec</td>\n",
       "      <td>469</td>\n",
       "      <td>Rural</td>\n",
       "      <td>Rural</td>\n",
       "      <td>2</td>\n",
       "      <td>Quintile 2 &amp; 3</td>\n",
       "      <td>libode</td>\n",
       "      <td>Female</td>\n",
       "      <td>61.934425</td>\n",
       "      <td>60 to 69</td>\n",
       "      <td>isiXhosa</td>\n",
       "      <td>isiXhosa</td>\n",
       "      <td>107.0</td>\n",
       "      <td>Yes</td>\n",
       "      <td>1 Year in Programme</td>\n",
       "      <td>2.91</td>\n",
       "      <td>1.00</td>\n",
       "      <td>2.22</td>\n",
       "      <td>0.00</td>\n",
       "      <td>6.13</td>\n",
       "      <td>4.20</td>\n",
       "      <td>4.58</td>\n",
       "      <td>3.77</td>\n",
       "      <td>4.51</td>\n",
       "      <td>17.059999</td>\n",
       "      <td>2.81</td>\n",
       "      <td>4.51</td>\n",
       "      <td>2.47</td>\n",
       "      <td>2.80</td>\n",
       "      <td>1.00</td>\n",
       "      <td>13.59</td>\n",
       "      <td>3.11</td>\n",
       "      <td>2.68</td>\n",
       "      <td>2.11</td>\n",
       "      <td>1.26</td>\n",
       "      <td>9.16</td>\n",
       "      <td>3.21</td>\n",
       "      <td>3.42</td>\n",
       "      <td>2.47</td>\n",
       "      <td>1.25</td>\n",
       "      <td>2.19</td>\n",
       "      <td>0.00</td>\n",
       "      <td>12.540000</td>\n",
       "      <td>58.480000</td>\n",
       "      <td>Often</td>\n",
       "      <td>Often</td>\n",
       "      <td>Sometimes</td>\n",
       "      <td>Almost never</td>\n",
       "      <td>5</td>\n",
       "      <td>3</td>\n",
       "      <td>12</td>\n",
       "      <td>4</td>\n",
       "    </tr>\n",
       "    <tr>\n",
       "      <th>4</th>\n",
       "      <td>19_0_1</td>\n",
       "      <td>ec</td>\n",
       "      <td>19</td>\n",
       "      <td>Rural</td>\n",
       "      <td>Rural</td>\n",
       "      <td>2</td>\n",
       "      <td>Quintile 2 &amp; 3</td>\n",
       "      <td>libode</td>\n",
       "      <td>Male</td>\n",
       "      <td>62.065575</td>\n",
       "      <td>60 to 69</td>\n",
       "      <td>isiXhosa</td>\n",
       "      <td>isiXhosa</td>\n",
       "      <td>116.0</td>\n",
       "      <td>Yes</td>\n",
       "      <td>1 Year in Programme</td>\n",
       "      <td>1.36</td>\n",
       "      <td>2.07</td>\n",
       "      <td>3.69</td>\n",
       "      <td>2.62</td>\n",
       "      <td>9.74</td>\n",
       "      <td>4.20</td>\n",
       "      <td>4.58</td>\n",
       "      <td>4.74</td>\n",
       "      <td>5.33</td>\n",
       "      <td>18.850000</td>\n",
       "      <td>4.05</td>\n",
       "      <td>4.51</td>\n",
       "      <td>2.47</td>\n",
       "      <td>2.80</td>\n",
       "      <td>2.65</td>\n",
       "      <td>16.48</td>\n",
       "      <td>3.11</td>\n",
       "      <td>2.68</td>\n",
       "      <td>4.03</td>\n",
       "      <td>1.26</td>\n",
       "      <td>11.08</td>\n",
       "      <td>3.21</td>\n",
       "      <td>2.64</td>\n",
       "      <td>2.47</td>\n",
       "      <td>3.17</td>\n",
       "      <td>3.09</td>\n",
       "      <td>2.97</td>\n",
       "      <td>17.549999</td>\n",
       "      <td>73.699997</td>\n",
       "      <td>Almost always</td>\n",
       "      <td>Often</td>\n",
       "      <td>Almost always</td>\n",
       "      <td>Almost always</td>\n",
       "      <td>11</td>\n",
       "      <td>4</td>\n",
       "      <td>20</td>\n",
       "      <td>12</td>\n",
       "    </tr>\n",
       "    <tr>\n",
       "      <th>...</th>\n",
       "      <td>...</td>\n",
       "      <td>...</td>\n",
       "      <td>...</td>\n",
       "      <td>...</td>\n",
       "      <td>...</td>\n",
       "      <td>...</td>\n",
       "      <td>...</td>\n",
       "      <td>...</td>\n",
       "      <td>...</td>\n",
       "      <td>...</td>\n",
       "      <td>...</td>\n",
       "      <td>...</td>\n",
       "      <td>...</td>\n",
       "      <td>...</td>\n",
       "      <td>...</td>\n",
       "      <td>...</td>\n",
       "      <td>...</td>\n",
       "      <td>...</td>\n",
       "      <td>...</td>\n",
       "      <td>...</td>\n",
       "      <td>...</td>\n",
       "      <td>...</td>\n",
       "      <td>...</td>\n",
       "      <td>...</td>\n",
       "      <td>...</td>\n",
       "      <td>...</td>\n",
       "      <td>...</td>\n",
       "      <td>...</td>\n",
       "      <td>...</td>\n",
       "      <td>...</td>\n",
       "      <td>...</td>\n",
       "      <td>...</td>\n",
       "      <td>...</td>\n",
       "      <td>...</td>\n",
       "      <td>...</td>\n",
       "      <td>...</td>\n",
       "      <td>...</td>\n",
       "      <td>...</td>\n",
       "      <td>...</td>\n",
       "      <td>...</td>\n",
       "      <td>...</td>\n",
       "      <td>...</td>\n",
       "      <td>...</td>\n",
       "      <td>...</td>\n",
       "      <td>...</td>\n",
       "      <td>...</td>\n",
       "      <td>...</td>\n",
       "      <td>...</td>\n",
       "      <td>...</td>\n",
       "      <td>...</td>\n",
       "      <td>...</td>\n",
       "      <td>...</td>\n",
       "      <td>...</td>\n",
       "    </tr>\n",
       "    <tr>\n",
       "      <th>1338</th>\n",
       "      <td>1356_1_9</td>\n",
       "      <td>wc</td>\n",
       "      <td>1356</td>\n",
       "      <td>Rural</td>\n",
       "      <td>Urban</td>\n",
       "      <td>3</td>\n",
       "      <td>Quintile 2 &amp; 3</td>\n",
       "      <td>overberg</td>\n",
       "      <td>Female</td>\n",
       "      <td>66.163933</td>\n",
       "      <td>60 to 69</td>\n",
       "      <td>Afrikaans</td>\n",
       "      <td>Afrikaans</td>\n",
       "      <td>111.4</td>\n",
       "      <td>Yes</td>\n",
       "      <td>1 Year in Programme</td>\n",
       "      <td>2.91</td>\n",
       "      <td>2.07</td>\n",
       "      <td>0.00</td>\n",
       "      <td>0.00</td>\n",
       "      <td>4.98</td>\n",
       "      <td>4.20</td>\n",
       "      <td>4.58</td>\n",
       "      <td>4.74</td>\n",
       "      <td>3.95</td>\n",
       "      <td>17.469999</td>\n",
       "      <td>4.05</td>\n",
       "      <td>4.51</td>\n",
       "      <td>0.00</td>\n",
       "      <td>2.80</td>\n",
       "      <td>2.65</td>\n",
       "      <td>14.01</td>\n",
       "      <td>3.11</td>\n",
       "      <td>2.68</td>\n",
       "      <td>2.11</td>\n",
       "      <td>3.02</td>\n",
       "      <td>10.92</td>\n",
       "      <td>3.21</td>\n",
       "      <td>0.00</td>\n",
       "      <td>2.47</td>\n",
       "      <td>2.40</td>\n",
       "      <td>3.09</td>\n",
       "      <td>0.00</td>\n",
       "      <td>11.170000</td>\n",
       "      <td>58.549999</td>\n",
       "      <td>Often</td>\n",
       "      <td>Almost always</td>\n",
       "      <td>Sometimes</td>\n",
       "      <td>Often</td>\n",
       "      <td>8</td>\n",
       "      <td>3</td>\n",
       "      <td>14</td>\n",
       "      <td>7</td>\n",
       "    </tr>\n",
       "    <tr>\n",
       "      <th>1339</th>\n",
       "      <td>6_1_13</td>\n",
       "      <td>ec</td>\n",
       "      <td>6</td>\n",
       "      <td>Urban</td>\n",
       "      <td>Rural</td>\n",
       "      <td>2</td>\n",
       "      <td>Quintile 2 &amp; 3</td>\n",
       "      <td>libode</td>\n",
       "      <td>Female</td>\n",
       "      <td>66.721313</td>\n",
       "      <td>60 to 69</td>\n",
       "      <td>isiXhosa</td>\n",
       "      <td>isiXhosa</td>\n",
       "      <td>107.7</td>\n",
       "      <td>Yes</td>\n",
       "      <td>2 Years in Programme</td>\n",
       "      <td>2.91</td>\n",
       "      <td>3.59</td>\n",
       "      <td>3.69</td>\n",
       "      <td>0.00</td>\n",
       "      <td>10.19</td>\n",
       "      <td>4.20</td>\n",
       "      <td>4.58</td>\n",
       "      <td>4.74</td>\n",
       "      <td>3.95</td>\n",
       "      <td>17.469999</td>\n",
       "      <td>0.00</td>\n",
       "      <td>0.00</td>\n",
       "      <td>2.47</td>\n",
       "      <td>2.80</td>\n",
       "      <td>1.00</td>\n",
       "      <td>6.27</td>\n",
       "      <td>3.11</td>\n",
       "      <td>2.68</td>\n",
       "      <td>4.03</td>\n",
       "      <td>3.02</td>\n",
       "      <td>12.84</td>\n",
       "      <td>3.21</td>\n",
       "      <td>2.64</td>\n",
       "      <td>2.47</td>\n",
       "      <td>2.40</td>\n",
       "      <td>3.09</td>\n",
       "      <td>2.97</td>\n",
       "      <td>16.780001</td>\n",
       "      <td>63.549999</td>\n",
       "      <td>Almost always</td>\n",
       "      <td>Almost always</td>\n",
       "      <td>Almost always</td>\n",
       "      <td>Almost always</td>\n",
       "      <td>12</td>\n",
       "      <td>4</td>\n",
       "      <td>18</td>\n",
       "      <td>10</td>\n",
       "    </tr>\n",
       "    <tr>\n",
       "      <th>1340</th>\n",
       "      <td>20_0_7</td>\n",
       "      <td>ec</td>\n",
       "      <td>20</td>\n",
       "      <td>Urban</td>\n",
       "      <td>Rural</td>\n",
       "      <td>3</td>\n",
       "      <td>Quintile 2 &amp; 3</td>\n",
       "      <td>mthata</td>\n",
       "      <td>Male</td>\n",
       "      <td>64.819672</td>\n",
       "      <td>60 to 69</td>\n",
       "      <td>isiXhosa</td>\n",
       "      <td>isiXhosa</td>\n",
       "      <td>115.7</td>\n",
       "      <td>Yes</td>\n",
       "      <td>1 Year in Programme</td>\n",
       "      <td>2.91</td>\n",
       "      <td>2.07</td>\n",
       "      <td>3.69</td>\n",
       "      <td>0.00</td>\n",
       "      <td>8.67</td>\n",
       "      <td>4.20</td>\n",
       "      <td>4.58</td>\n",
       "      <td>3.77</td>\n",
       "      <td>3.95</td>\n",
       "      <td>16.500000</td>\n",
       "      <td>0.00</td>\n",
       "      <td>0.00</td>\n",
       "      <td>2.47</td>\n",
       "      <td>2.80</td>\n",
       "      <td>2.65</td>\n",
       "      <td>7.92</td>\n",
       "      <td>3.11</td>\n",
       "      <td>1.34</td>\n",
       "      <td>0.00</td>\n",
       "      <td>3.02</td>\n",
       "      <td>7.47</td>\n",
       "      <td>0.00</td>\n",
       "      <td>0.00</td>\n",
       "      <td>2.47</td>\n",
       "      <td>1.25</td>\n",
       "      <td>3.09</td>\n",
       "      <td>2.97</td>\n",
       "      <td>9.780000</td>\n",
       "      <td>50.340000</td>\n",
       "      <td>Sometimes</td>\n",
       "      <td>Often</td>\n",
       "      <td>Sometimes</td>\n",
       "      <td>Sometimes</td>\n",
       "      <td>5</td>\n",
       "      <td>3</td>\n",
       "      <td>17</td>\n",
       "      <td>8</td>\n",
       "    </tr>\n",
       "    <tr>\n",
       "      <th>1341</th>\n",
       "      <td>3_0_2</td>\n",
       "      <td>ec</td>\n",
       "      <td>3</td>\n",
       "      <td>Urban</td>\n",
       "      <td>Rural</td>\n",
       "      <td>2</td>\n",
       "      <td>Quintile 2 &amp; 3</td>\n",
       "      <td>mthata</td>\n",
       "      <td>Male</td>\n",
       "      <td>61.442623</td>\n",
       "      <td>60 to 69</td>\n",
       "      <td>isiXhosa</td>\n",
       "      <td>isiXhosa</td>\n",
       "      <td>123.4</td>\n",
       "      <td>Yes</td>\n",
       "      <td>1 Year in Programme</td>\n",
       "      <td>2.91</td>\n",
       "      <td>3.59</td>\n",
       "      <td>3.69</td>\n",
       "      <td>2.62</td>\n",
       "      <td>12.81</td>\n",
       "      <td>4.20</td>\n",
       "      <td>4.58</td>\n",
       "      <td>3.77</td>\n",
       "      <td>3.41</td>\n",
       "      <td>15.960000</td>\n",
       "      <td>2.81</td>\n",
       "      <td>0.00</td>\n",
       "      <td>2.47</td>\n",
       "      <td>2.80</td>\n",
       "      <td>2.65</td>\n",
       "      <td>10.73</td>\n",
       "      <td>3.11</td>\n",
       "      <td>2.68</td>\n",
       "      <td>4.03</td>\n",
       "      <td>3.02</td>\n",
       "      <td>12.84</td>\n",
       "      <td>0.00</td>\n",
       "      <td>2.64</td>\n",
       "      <td>2.47</td>\n",
       "      <td>2.40</td>\n",
       "      <td>3.09</td>\n",
       "      <td>0.00</td>\n",
       "      <td>10.600000</td>\n",
       "      <td>62.939999</td>\n",
       "      <td>Almost always</td>\n",
       "      <td>Almost always</td>\n",
       "      <td>Often</td>\n",
       "      <td>Often</td>\n",
       "      <td>10</td>\n",
       "      <td>4</td>\n",
       "      <td>20</td>\n",
       "      <td>10</td>\n",
       "    </tr>\n",
       "    <tr>\n",
       "      <th>1342</th>\n",
       "      <td>1441_1_35</td>\n",
       "      <td>wc</td>\n",
       "      <td>1441</td>\n",
       "      <td>Urban</td>\n",
       "      <td>Urban</td>\n",
       "      <td>5</td>\n",
       "      <td>Quintile 4 &amp; 5</td>\n",
       "      <td>cape winelands</td>\n",
       "      <td>Female</td>\n",
       "      <td>68.885246</td>\n",
       "      <td>60 to 69</td>\n",
       "      <td>Afrikaans</td>\n",
       "      <td>Afrikaans</td>\n",
       "      <td>108.1</td>\n",
       "      <td>Yes</td>\n",
       "      <td>1 Year in Programme</td>\n",
       "      <td>2.91</td>\n",
       "      <td>3.59</td>\n",
       "      <td>2.22</td>\n",
       "      <td>0.00</td>\n",
       "      <td>8.72</td>\n",
       "      <td>4.20</td>\n",
       "      <td>4.58</td>\n",
       "      <td>4.74</td>\n",
       "      <td>5.33</td>\n",
       "      <td>18.850000</td>\n",
       "      <td>2.81</td>\n",
       "      <td>0.00</td>\n",
       "      <td>2.47</td>\n",
       "      <td>1.38</td>\n",
       "      <td>2.65</td>\n",
       "      <td>9.31</td>\n",
       "      <td>1.00</td>\n",
       "      <td>1.34</td>\n",
       "      <td>0.00</td>\n",
       "      <td>3.02</td>\n",
       "      <td>5.36</td>\n",
       "      <td>3.21</td>\n",
       "      <td>2.64</td>\n",
       "      <td>2.47</td>\n",
       "      <td>3.17</td>\n",
       "      <td>2.19</td>\n",
       "      <td>2.97</td>\n",
       "      <td>16.650000</td>\n",
       "      <td>58.889999</td>\n",
       "      <td>Often</td>\n",
       "      <td>Often</td>\n",
       "      <td>Often</td>\n",
       "      <td>Almost always</td>\n",
       "      <td>9</td>\n",
       "      <td>4</td>\n",
       "      <td>17</td>\n",
       "      <td>8</td>\n",
       "    </tr>\n",
       "  </tbody>\n",
       "</table>\n",
       "<p>1343 rows × 53 columns</p>\n",
       "</div>"
      ],
      "text/plain": [
       "           csid Province  SchoolID RuralOrUrbanDistance RuralOrUrbanCensus  \\\n",
       "0      1083_0_9      kzn      1083                Rural              Urban   \n",
       "1       50_1_31       nw        50                Urban              Urban   \n",
       "2       15_0_39       ec        15                Urban              Rural   \n",
       "3       469_1_5       ec       469                Rural              Rural   \n",
       "4        19_0_1       ec        19                Rural              Rural   \n",
       "...         ...      ...       ...                  ...                ...   \n",
       "1338   1356_1_9       wc      1356                Rural              Urban   \n",
       "1339     6_1_13       ec         6                Urban              Rural   \n",
       "1340     20_0_7       ec        20                Urban              Rural   \n",
       "1341      3_0_2       ec         3                Urban              Rural   \n",
       "1342  1441_1_35       wc      1441                Urban              Urban   \n",
       "\n",
       "      Quintile CompositeQuintileGroup        District  Gender        Age  \\\n",
       "0            4         Quintile 4 & 5          ilembe    Male  66.295082   \n",
       "1            3         Quintile 2 & 3      rustenburg  Female  60.786884   \n",
       "2            4         Quintile 4 & 5          libode    Male  62.196720   \n",
       "3            2         Quintile 2 & 3          libode  Female  61.934425   \n",
       "4            2         Quintile 2 & 3          libode    Male  62.065575   \n",
       "...        ...                    ...             ...     ...        ...   \n",
       "1338         3         Quintile 2 & 3        overberg  Female  66.163933   \n",
       "1339         2         Quintile 2 & 3          libode  Female  66.721313   \n",
       "1340         3         Quintile 2 & 3          mthata    Male  64.819672   \n",
       "1341         2         Quintile 2 & 3          mthata    Male  61.442623   \n",
       "1342         5         Quintile 4 & 5  cape winelands  Female  68.885246   \n",
       "\n",
       "      AgeGroup HomeLanguage AssesLanguage  Height ChildSupportGrant  \\\n",
       "0     60 to 69      isiZulu       isiZulu   106.0       Do Not Know   \n",
       "1     60 to 69     Setswana      Setswana   108.5               Yes   \n",
       "2     60 to 69     isiXhosa      isiXhosa   105.4               Yes   \n",
       "3     60 to 69     isiXhosa      isiXhosa   107.0               Yes   \n",
       "4     60 to 69     isiXhosa      isiXhosa   116.0               Yes   \n",
       "...        ...          ...           ...     ...               ...   \n",
       "1338  60 to 69    Afrikaans     Afrikaans   111.4               Yes   \n",
       "1339  60 to 69     isiXhosa      isiXhosa   107.7               Yes   \n",
       "1340  60 to 69     isiXhosa      isiXhosa   115.7               Yes   \n",
       "1341  60 to 69     isiXhosa      isiXhosa   123.4               Yes   \n",
       "1342  60 to 69    Afrikaans     Afrikaans   108.1               Yes   \n",
       "\n",
       "             ProgrammeYear  Item1  Item2  Item3  Item4    gmd  Item5  Item6  \\\n",
       "0      1 Year in Programme   2.91   2.07   3.69   0.00   8.67   3.11   4.58   \n",
       "1      1 Year in Programme   2.91   1.00   2.22   2.62   8.75   4.20   0.00   \n",
       "2      1 Year in Programme   2.91   3.59   2.22   2.62  11.34   4.20   4.58   \n",
       "3      1 Year in Programme   2.91   1.00   2.22   0.00   6.13   4.20   4.58   \n",
       "4      1 Year in Programme   1.36   2.07   3.69   2.62   9.74   4.20   4.58   \n",
       "...                    ...    ...    ...    ...    ...    ...    ...    ...   \n",
       "1338   1 Year in Programme   2.91   2.07   0.00   0.00   4.98   4.20   4.58   \n",
       "1339  2 Years in Programme   2.91   3.59   3.69   0.00  10.19   4.20   4.58   \n",
       "1340   1 Year in Programme   2.91   2.07   3.69   0.00   8.67   4.20   4.58   \n",
       "1341   1 Year in Programme   2.91   3.59   3.69   2.62  12.81   4.20   4.58   \n",
       "1342   1 Year in Programme   2.91   3.59   2.22   0.00   8.72   4.20   4.58   \n",
       "\n",
       "      Item7  Item8     fmcvmi  Item9  Item10  Item11  Item12  Item13    enm  \\\n",
       "0      3.77   3.95  15.410000   2.81    2.84    0.00    2.80    2.65  11.10   \n",
       "1      3.12   2.75  10.070000   0.00    0.00    0.00    1.38    2.65   4.03   \n",
       "2      3.77   2.75  15.300000   6.03    0.00    2.47    2.80    2.65  13.95   \n",
       "3      3.77   4.51  17.059999   2.81    4.51    2.47    2.80    1.00  13.59   \n",
       "4      4.74   5.33  18.850000   4.05    4.51    2.47    2.80    2.65  16.48   \n",
       "...     ...    ...        ...    ...     ...     ...     ...     ...    ...   \n",
       "1338   4.74   3.95  17.469999   4.05    4.51    0.00    2.80    2.65  14.01   \n",
       "1339   4.74   3.95  17.469999   0.00    0.00    2.47    2.80    1.00   6.27   \n",
       "1340   3.77   3.95  16.500000   0.00    0.00    2.47    2.80    2.65   7.92   \n",
       "1341   3.77   3.41  15.960000   2.81    0.00    2.47    2.80    2.65  10.73   \n",
       "1342   4.74   5.33  18.850000   2.81    0.00    2.47    1.38    2.65   9.31   \n",
       "\n",
       "      Item14  Item15  Item16  Item17    cef  Item18  Item19  Item20  Item21  \\\n",
       "0       0.00    4.37    4.03    3.02  11.42    0.00    3.42    1.00    2.40   \n",
       "1       1.00    2.68    0.00    1.26   4.94    0.00    0.00    1.00    1.25   \n",
       "2       1.00    6.72    4.03    3.02  14.77    3.21    3.42    2.47    2.40   \n",
       "3       3.11    2.68    2.11    1.26   9.16    3.21    3.42    2.47    1.25   \n",
       "4       3.11    2.68    4.03    1.26  11.08    3.21    2.64    2.47    3.17   \n",
       "...      ...     ...     ...     ...    ...     ...     ...     ...     ...   \n",
       "1338    3.11    2.68    2.11    3.02  10.92    3.21    0.00    2.47    2.40   \n",
       "1339    3.11    2.68    4.03    3.02  12.84    3.21    2.64    2.47    2.40   \n",
       "1340    3.11    1.34    0.00    3.02   7.47    0.00    0.00    2.47    1.25   \n",
       "1341    3.11    2.68    4.03    3.02  12.84    0.00    2.64    2.47    2.40   \n",
       "1342    1.00    1.34    0.00    3.02   5.36    3.21    2.64    2.47    3.17   \n",
       "\n",
       "      Item22  Item23        ell      total      ChildObs1      ChildObs2  \\\n",
       "0       3.09    0.00   9.910000  56.509998          Often          Often   \n",
       "1       2.19    0.00   4.440000  32.230000          Often          Often   \n",
       "2       3.09    0.00  14.590000  69.949997  Almost always  Almost always   \n",
       "3       2.19    0.00  12.540000  58.480000          Often          Often   \n",
       "4       3.09    2.97  17.549999  73.699997  Almost always          Often   \n",
       "...      ...     ...        ...        ...            ...            ...   \n",
       "1338    3.09    0.00  11.170000  58.549999          Often  Almost always   \n",
       "1339    3.09    2.97  16.780001  63.549999  Almost always  Almost always   \n",
       "1340    3.09    2.97   9.780000  50.340000      Sometimes          Often   \n",
       "1341    3.09    0.00  10.600000  62.939999  Almost always  Almost always   \n",
       "1342    2.19    2.97  16.650000  58.889999          Often          Often   \n",
       "\n",
       "          ChildObs3      ChildObs4  ChildObs  SelfCare  SocialRelations  \\\n",
       "0             Often          Often         8         4               20   \n",
       "1         Sometimes      Sometimes         6         3               19   \n",
       "2     Almost always  Almost always        12         4               24   \n",
       "3         Sometimes   Almost never         5         3               12   \n",
       "4     Almost always  Almost always        11         4               20   \n",
       "...             ...            ...       ...       ...              ...   \n",
       "1338      Sometimes          Often         8         3               14   \n",
       "1339  Almost always  Almost always        12         4               18   \n",
       "1340      Sometimes      Sometimes         5         3               17   \n",
       "1341          Often          Often        10         4               20   \n",
       "1342          Often  Almost always         9         4               17   \n",
       "\n",
       "      EmotionalReadiness  \n",
       "0                     11  \n",
       "1                      3  \n",
       "2                     12  \n",
       "3                      4  \n",
       "4                     12  \n",
       "...                  ...  \n",
       "1338                   7  \n",
       "1339                  10  \n",
       "1340                   8  \n",
       "1341                  10  \n",
       "1342                   8  \n",
       "\n",
       "[1343 rows x 53 columns]"
      ]
     },
     "metadata": {},
     "output_type": "display_data"
    }
   ],
   "source": [
    "train_numberQ1 = int(df2019.shape[0]*(80/100)) # Calculate number of training examples\n",
    "dftempQ1 = df2019.sample(df2019.shape[0],replace=False,random_state=12)\n",
    "dftempQ1 = dftempQ1.reset_index(drop=True)\n",
    "df2019_trainQ1 = dftempQ1[:train_numberQ1]\n",
    "df2019_testQ1 = dftempQ1[train_numberQ1:]\n",
    "print(\"The training data has a shape of\",df2019_trainQ1.shape)\n",
    "print(\"The test data has a shape of\",df2019_testQ1.shape)\n",
    "display(df2019_trainQ1)"
   ]
  },
  {
   "cell_type": "markdown",
   "metadata": {},
   "source": [
    "From the above dataset, we will select the subset of variables that are socio-economic in nature. As mentioned previously, `AssessLanguage` is excluded from this model as it is equal to HomeLanguage. Adding AssessLanguage will be equivalent to adding HomeLanguage twice which will introduce a bias into our system.\n",
    "\n",
    "`AgeGroup` will be used in the model as Age results in numerical problems with our regression models. `Quintile` will be used over `CompositeQuintileGroup` as it specifies the `Quintile` per student and not a combination of other Quintiles."
   ]
  },
  {
   "cell_type": "markdown",
   "metadata": {},
   "source": [
    "The following code ensures that every variable is either continuous or encoded:"
   ]
  },
  {
   "cell_type": "code",
   "execution_count": 35,
   "metadata": {},
   "outputs": [
    {
     "name": "stdout",
     "output_type": "stream",
     "text": [
      "1    0.353782\n",
      "3    0.243597\n",
      "4    0.197141\n",
      "2    0.115545\n",
      "5    0.089934\n",
      "Name: Quintile, dtype: float64\n",
      "1    0.354430\n",
      "3    0.239017\n",
      "4    0.198809\n",
      "2    0.115413\n",
      "5    0.092331\n",
      "Name: Quintile, dtype: float64\n",
      "1    0.351190\n",
      "3    0.261905\n",
      "4    0.190476\n",
      "2    0.116071\n",
      "5    0.080357\n",
      "Name: Quintile, dtype: float64\n"
     ]
    }
   ],
   "source": [
    "df2019_trainQ1 = df2019_trainQ1[['Quintile','AgeGroup','HomeLanguage','total']]\n",
    "df2019_testQ1 = df2019_testQ1[['Quintile','AgeGroup','HomeLanguage','total']]\n",
    "df2019_HL = df2019_trainQ1.HomeLanguage\n",
    "\n",
    "print(df2019.Quintile.value_counts()/df2019.shape[0])\n",
    "print(df2019_trainQ1.Quintile.value_counts()/df2019_trainQ1.shape[0])\n",
    "print(df2019_testQ1.Quintile.value_counts()/df2019_testQ1.shape[0])"
   ]
  },
  {
   "cell_type": "code",
   "execution_count": 36,
   "metadata": {},
   "outputs": [],
   "source": [
    "LE = LabelEncoder()\n",
    "df2019_trainQ1['Quintile'] = LE.fit_transform(df2019_trainQ1['Quintile'])\n",
    "df2019_trainQ1['AgeGroup'] = LE.fit_transform(df2019_trainQ1['AgeGroup'])\n",
    "df2019_testQ1['Quintile'] = LE.fit_transform(df2019_testQ1['Quintile'])\n",
    "df2019_testQ1['AgeGroup'] = LE.fit_transform(df2019_testQ1['AgeGroup'])"
   ]
  },
  {
   "cell_type": "code",
   "execution_count": 37,
   "metadata": {},
   "outputs": [],
   "source": [
    "df2019_trainQ1 = pd.get_dummies(df2019_trainQ1,drop_first=True)\n",
    "df2019_testQ1 = pd.get_dummies(df2019_testQ1,drop_first=True)"
   ]
  },
  {
   "cell_type": "code",
   "execution_count": 38,
   "metadata": {},
   "outputs": [
    {
     "data": {
      "text/html": [
       "<div>\n",
       "<style scoped>\n",
       "    .dataframe tbody tr th:only-of-type {\n",
       "        vertical-align: middle;\n",
       "    }\n",
       "\n",
       "    .dataframe tbody tr th {\n",
       "        vertical-align: top;\n",
       "    }\n",
       "\n",
       "    .dataframe thead th {\n",
       "        text-align: right;\n",
       "    }\n",
       "</style>\n",
       "<table border=\"1\" class=\"dataframe\">\n",
       "  <thead>\n",
       "    <tr style=\"text-align: right;\">\n",
       "      <th></th>\n",
       "      <th>Quintile</th>\n",
       "      <th>AgeGroup</th>\n",
       "      <th>total</th>\n",
       "      <th>HomeLanguage_Afrikaans</th>\n",
       "      <th>HomeLanguage_Setswana</th>\n",
       "      <th>HomeLanguage_isiZulu</th>\n",
       "      <th>HomeLanguage_isiXhosa</th>\n",
       "    </tr>\n",
       "  </thead>\n",
       "  <tbody>\n",
       "    <tr>\n",
       "      <th>0</th>\n",
       "      <td>3</td>\n",
       "      <td>1</td>\n",
       "      <td>56.509998</td>\n",
       "      <td>0</td>\n",
       "      <td>0</td>\n",
       "      <td>1</td>\n",
       "      <td>0</td>\n",
       "    </tr>\n",
       "    <tr>\n",
       "      <th>1</th>\n",
       "      <td>2</td>\n",
       "      <td>1</td>\n",
       "      <td>32.230000</td>\n",
       "      <td>0</td>\n",
       "      <td>1</td>\n",
       "      <td>0</td>\n",
       "      <td>0</td>\n",
       "    </tr>\n",
       "    <tr>\n",
       "      <th>2</th>\n",
       "      <td>3</td>\n",
       "      <td>1</td>\n",
       "      <td>69.949997</td>\n",
       "      <td>0</td>\n",
       "      <td>0</td>\n",
       "      <td>0</td>\n",
       "      <td>1</td>\n",
       "    </tr>\n",
       "    <tr>\n",
       "      <th>3</th>\n",
       "      <td>1</td>\n",
       "      <td>1</td>\n",
       "      <td>58.480000</td>\n",
       "      <td>0</td>\n",
       "      <td>0</td>\n",
       "      <td>0</td>\n",
       "      <td>1</td>\n",
       "    </tr>\n",
       "    <tr>\n",
       "      <th>4</th>\n",
       "      <td>1</td>\n",
       "      <td>1</td>\n",
       "      <td>73.699997</td>\n",
       "      <td>0</td>\n",
       "      <td>0</td>\n",
       "      <td>0</td>\n",
       "      <td>1</td>\n",
       "    </tr>\n",
       "  </tbody>\n",
       "</table>\n",
       "</div>"
      ],
      "text/plain": [
       "   Quintile  AgeGroup      total  HomeLanguage_Afrikaans  \\\n",
       "0         3         1  56.509998                       0   \n",
       "1         2         1  32.230000                       0   \n",
       "2         3         1  69.949997                       0   \n",
       "3         1         1  58.480000                       0   \n",
       "4         1         1  73.699997                       0   \n",
       "\n",
       "   HomeLanguage_Setswana  HomeLanguage_isiZulu  HomeLanguage_isiXhosa  \n",
       "0                      0                     1                      0  \n",
       "1                      1                     0                      0  \n",
       "2                      0                     0                      1  \n",
       "3                      0                     0                      1  \n",
       "4                      0                     0                      1  "
      ]
     },
     "metadata": {},
     "output_type": "display_data"
    },
    {
     "data": {
      "text/html": [
       "<div>\n",
       "<style scoped>\n",
       "    .dataframe tbody tr th:only-of-type {\n",
       "        vertical-align: middle;\n",
       "    }\n",
       "\n",
       "    .dataframe tbody tr th {\n",
       "        vertical-align: top;\n",
       "    }\n",
       "\n",
       "    .dataframe thead th {\n",
       "        text-align: right;\n",
       "    }\n",
       "</style>\n",
       "<table border=\"1\" class=\"dataframe\">\n",
       "  <thead>\n",
       "    <tr style=\"text-align: right;\">\n",
       "      <th></th>\n",
       "      <th>Quintile</th>\n",
       "      <th>AgeGroup</th>\n",
       "      <th>total</th>\n",
       "      <th>HomeLanguage_Afrikaans</th>\n",
       "      <th>HomeLanguage_Setswana</th>\n",
       "      <th>HomeLanguage_isiZulu</th>\n",
       "      <th>HomeLanguage_isiXhosa</th>\n",
       "    </tr>\n",
       "  </thead>\n",
       "  <tbody>\n",
       "    <tr>\n",
       "      <th>0</th>\n",
       "      <td>0</td>\n",
       "      <td>1</td>\n",
       "      <td>71.199997</td>\n",
       "      <td>1</td>\n",
       "      <td>0</td>\n",
       "      <td>0</td>\n",
       "      <td>0</td>\n",
       "    </tr>\n",
       "    <tr>\n",
       "      <th>1</th>\n",
       "      <td>2</td>\n",
       "      <td>1</td>\n",
       "      <td>54.270000</td>\n",
       "      <td>0</td>\n",
       "      <td>1</td>\n",
       "      <td>0</td>\n",
       "      <td>0</td>\n",
       "    </tr>\n",
       "    <tr>\n",
       "      <th>2</th>\n",
       "      <td>0</td>\n",
       "      <td>1</td>\n",
       "      <td>46.500000</td>\n",
       "      <td>0</td>\n",
       "      <td>0</td>\n",
       "      <td>0</td>\n",
       "      <td>1</td>\n",
       "    </tr>\n",
       "    <tr>\n",
       "      <th>3</th>\n",
       "      <td>1</td>\n",
       "      <td>1</td>\n",
       "      <td>70.730003</td>\n",
       "      <td>0</td>\n",
       "      <td>0</td>\n",
       "      <td>0</td>\n",
       "      <td>1</td>\n",
       "    </tr>\n",
       "    <tr>\n",
       "      <th>4</th>\n",
       "      <td>3</td>\n",
       "      <td>1</td>\n",
       "      <td>46.930000</td>\n",
       "      <td>0</td>\n",
       "      <td>1</td>\n",
       "      <td>0</td>\n",
       "      <td>0</td>\n",
       "    </tr>\n",
       "  </tbody>\n",
       "</table>\n",
       "</div>"
      ],
      "text/plain": [
       "   Quintile  AgeGroup      total  HomeLanguage_Afrikaans  \\\n",
       "0         0         1  71.199997                       1   \n",
       "1         2         1  54.270000                       0   \n",
       "2         0         1  46.500000                       0   \n",
       "3         1         1  70.730003                       0   \n",
       "4         3         1  46.930000                       0   \n",
       "\n",
       "   HomeLanguage_Setswana  HomeLanguage_isiZulu  HomeLanguage_isiXhosa  \n",
       "0                      0                     0                      0  \n",
       "1                      1                     0                      0  \n",
       "2                      0                     0                      1  \n",
       "3                      0                     0                      1  \n",
       "4                      1                     0                      0  "
      ]
     },
     "metadata": {},
     "output_type": "display_data"
    }
   ],
   "source": [
    "df2019_trainQ1 = df2019_trainQ1.reset_index(drop=True)\n",
    "display(df2019_trainQ1.head())\n",
    "\n",
    "df2019_testQ1 = df2019_testQ1.reset_index(drop=True)\n",
    "display(df2019_testQ1.head())"
   ]
  },
  {
   "cell_type": "markdown",
   "metadata": {},
   "source": [
    "`Quintile` is an ordinal categorical variable so we label encode it so that it retains order in the variable. `HomeLanguage` and `ChildSupportGrant` are dummy encoded since they are nominal categorical variables. This allows us to use these variables in least squares regression."
   ]
  },
  {
   "cell_type": "code",
   "execution_count": 39,
   "metadata": {
    "tags": []
   },
   "outputs": [],
   "source": [
    "fitQuintileQ1 = smf.ols(formula=\"total~Quintile\",data=df2019_trainQ1).fit()\n",
    "fitAgeQ1 = smf.ols(formula=\"total~AgeGroup\",data=df2019_trainQ1).fit()\n",
    "fitHomeLanguageQ1 = smf.ols(formula=\"total~HomeLanguage_Afrikaans+HomeLanguage_Setswana+HomeLanguage_isiZulu+HomeLanguage_isiXhosa\",data=df2019_trainQ1).fit()"
   ]
  },
  {
   "cell_type": "code",
   "execution_count": 40,
   "metadata": {},
   "outputs": [
    {
     "data": {
      "text/html": [
       "<table class=\"simpletable\">\n",
       "<caption>OLS Regression Results</caption>\n",
       "<tr>\n",
       "  <th>Dep. Variable:</th>          <td>total</td>      <th>  R-squared:         </th> <td>   0.057</td> \n",
       "</tr>\n",
       "<tr>\n",
       "  <th>Model:</th>                   <td>OLS</td>       <th>  Adj. R-squared:    </th> <td>   0.056</td> \n",
       "</tr>\n",
       "<tr>\n",
       "  <th>Method:</th>             <td>Least Squares</td>  <th>  F-statistic:       </th> <td>   80.40</td> \n",
       "</tr>\n",
       "<tr>\n",
       "  <th>Date:</th>             <td>Thu, 27 May 2021</td> <th>  Prob (F-statistic):</th> <td>1.00e-18</td> \n",
       "</tr>\n",
       "<tr>\n",
       "  <th>Time:</th>                 <td>16:40:02</td>     <th>  Log-Likelihood:    </th> <td> -5461.9</td> \n",
       "</tr>\n",
       "<tr>\n",
       "  <th>No. Observations:</th>      <td>  1343</td>      <th>  AIC:               </th> <td>1.093e+04</td>\n",
       "</tr>\n",
       "<tr>\n",
       "  <th>Df Residuals:</th>          <td>  1341</td>      <th>  BIC:               </th> <td>1.094e+04</td>\n",
       "</tr>\n",
       "<tr>\n",
       "  <th>Df Model:</th>              <td>     1</td>      <th>                     </th>     <td> </td>    \n",
       "</tr>\n",
       "<tr>\n",
       "  <th>Covariance Type:</th>      <td>nonrobust</td>    <th>                     </th>     <td> </td>    \n",
       "</tr>\n",
       "</table>\n",
       "<table class=\"simpletable\">\n",
       "<tr>\n",
       "      <td></td>         <th>coef</th>     <th>std err</th>      <th>t</th>      <th>P>|t|</th>  <th>[0.025</th>    <th>0.975]</th>  \n",
       "</tr>\n",
       "<tr>\n",
       "  <th>Intercept</th> <td>   52.6050</td> <td>    0.582</td> <td>   90.420</td> <td> 0.000</td> <td>   51.464</td> <td>   53.746</td>\n",
       "</tr>\n",
       "<tr>\n",
       "  <th>Quintile</th>  <td>    2.5046</td> <td>    0.279</td> <td>    8.966</td> <td> 0.000</td> <td>    1.957</td> <td>    3.053</td>\n",
       "</tr>\n",
       "</table>\n",
       "<table class=\"simpletable\">\n",
       "<tr>\n",
       "  <th>Omnibus:</th>       <td>23.932</td> <th>  Durbin-Watson:     </th> <td>   2.020</td>\n",
       "</tr>\n",
       "<tr>\n",
       "  <th>Prob(Omnibus):</th> <td> 0.000</td> <th>  Jarque-Bera (JB):  </th> <td>  19.799</td>\n",
       "</tr>\n",
       "<tr>\n",
       "  <th>Skew:</th>          <td>-0.224</td> <th>  Prob(JB):          </th> <td>5.02e-05</td>\n",
       "</tr>\n",
       "<tr>\n",
       "  <th>Kurtosis:</th>      <td> 2.609</td> <th>  Cond. No.          </th> <td>    3.59</td>\n",
       "</tr>\n",
       "</table><br/><br/>Notes:<br/>[1] Standard Errors assume that the covariance matrix of the errors is correctly specified."
      ],
      "text/plain": [
       "<class 'statsmodels.iolib.summary.Summary'>\n",
       "\"\"\"\n",
       "                            OLS Regression Results                            \n",
       "==============================================================================\n",
       "Dep. Variable:                  total   R-squared:                       0.057\n",
       "Model:                            OLS   Adj. R-squared:                  0.056\n",
       "Method:                 Least Squares   F-statistic:                     80.40\n",
       "Date:                Thu, 27 May 2021   Prob (F-statistic):           1.00e-18\n",
       "Time:                        16:40:02   Log-Likelihood:                -5461.9\n",
       "No. Observations:                1343   AIC:                         1.093e+04\n",
       "Df Residuals:                    1341   BIC:                         1.094e+04\n",
       "Df Model:                           1                                         \n",
       "Covariance Type:            nonrobust                                         \n",
       "==============================================================================\n",
       "                 coef    std err          t      P>|t|      [0.025      0.975]\n",
       "------------------------------------------------------------------------------\n",
       "Intercept     52.6050      0.582     90.420      0.000      51.464      53.746\n",
       "Quintile       2.5046      0.279      8.966      0.000       1.957       3.053\n",
       "==============================================================================\n",
       "Omnibus:                       23.932   Durbin-Watson:                   2.020\n",
       "Prob(Omnibus):                  0.000   Jarque-Bera (JB):               19.799\n",
       "Skew:                          -0.224   Prob(JB):                     5.02e-05\n",
       "Kurtosis:                       2.609   Cond. No.                         3.59\n",
       "==============================================================================\n",
       "\n",
       "Notes:\n",
       "[1] Standard Errors assume that the covariance matrix of the errors is correctly specified.\n",
       "\"\"\""
      ]
     },
     "execution_count": 40,
     "metadata": {},
     "output_type": "execute_result"
    }
   ],
   "source": [
    "fitQuintileQ1.summary()"
   ]
  },
  {
   "cell_type": "code",
   "execution_count": 41,
   "metadata": {},
   "outputs": [
    {
     "data": {
      "text/html": [
       "<table class=\"simpletable\">\n",
       "<caption>OLS Regression Results</caption>\n",
       "<tr>\n",
       "  <th>Dep. Variable:</th>          <td>total</td>      <th>  R-squared:         </th> <td>   0.055</td> \n",
       "</tr>\n",
       "<tr>\n",
       "  <th>Model:</th>                   <td>OLS</td>       <th>  Adj. R-squared:    </th> <td>   0.054</td> \n",
       "</tr>\n",
       "<tr>\n",
       "  <th>Method:</th>             <td>Least Squares</td>  <th>  F-statistic:       </th> <td>   77.36</td> \n",
       "</tr>\n",
       "<tr>\n",
       "  <th>Date:</th>             <td>Thu, 27 May 2021</td> <th>  Prob (F-statistic):</th> <td>4.28e-18</td> \n",
       "</tr>\n",
       "<tr>\n",
       "  <th>Time:</th>                 <td>16:40:02</td>     <th>  Log-Likelihood:    </th> <td> -5463.3</td> \n",
       "</tr>\n",
       "<tr>\n",
       "  <th>No. Observations:</th>      <td>  1343</td>      <th>  AIC:               </th> <td>1.093e+04</td>\n",
       "</tr>\n",
       "<tr>\n",
       "  <th>Df Residuals:</th>          <td>  1341</td>      <th>  BIC:               </th> <td>1.094e+04</td>\n",
       "</tr>\n",
       "<tr>\n",
       "  <th>Df Model:</th>              <td>     1</td>      <th>                     </th>     <td> </td>    \n",
       "</tr>\n",
       "<tr>\n",
       "  <th>Covariance Type:</th>      <td>nonrobust</td>    <th>                     </th>     <td> </td>    \n",
       "</tr>\n",
       "</table>\n",
       "<table class=\"simpletable\">\n",
       "<tr>\n",
       "      <td></td>         <th>coef</th>     <th>std err</th>      <th>t</th>      <th>P>|t|</th>  <th>[0.025</th>    <th>0.975]</th>  \n",
       "</tr>\n",
       "<tr>\n",
       "  <th>Intercept</th> <td>   48.7735</td> <td>    0.961</td> <td>   50.772</td> <td> 0.000</td> <td>   46.889</td> <td>   50.658</td>\n",
       "</tr>\n",
       "<tr>\n",
       "  <th>AgeGroup</th>  <td>    9.2277</td> <td>    1.049</td> <td>    8.796</td> <td> 0.000</td> <td>    7.170</td> <td>   11.286</td>\n",
       "</tr>\n",
       "</table>\n",
       "<table class=\"simpletable\">\n",
       "<tr>\n",
       "  <th>Omnibus:</th>       <td>23.407</td> <th>  Durbin-Watson:     </th> <td>   2.011</td>\n",
       "</tr>\n",
       "<tr>\n",
       "  <th>Prob(Omnibus):</th> <td> 0.000</td> <th>  Jarque-Bera (JB):  </th> <td>  18.556</td>\n",
       "</tr>\n",
       "<tr>\n",
       "  <th>Skew:</th>          <td>-0.204</td> <th>  Prob(JB):          </th> <td>9.35e-05</td>\n",
       "</tr>\n",
       "<tr>\n",
       "  <th>Kurtosis:</th>      <td> 2.594</td> <th>  Cond. No.          </th> <td>    4.79</td>\n",
       "</tr>\n",
       "</table><br/><br/>Notes:<br/>[1] Standard Errors assume that the covariance matrix of the errors is correctly specified."
      ],
      "text/plain": [
       "<class 'statsmodels.iolib.summary.Summary'>\n",
       "\"\"\"\n",
       "                            OLS Regression Results                            \n",
       "==============================================================================\n",
       "Dep. Variable:                  total   R-squared:                       0.055\n",
       "Model:                            OLS   Adj. R-squared:                  0.054\n",
       "Method:                 Least Squares   F-statistic:                     77.36\n",
       "Date:                Thu, 27 May 2021   Prob (F-statistic):           4.28e-18\n",
       "Time:                        16:40:02   Log-Likelihood:                -5463.3\n",
       "No. Observations:                1343   AIC:                         1.093e+04\n",
       "Df Residuals:                    1341   BIC:                         1.094e+04\n",
       "Df Model:                           1                                         \n",
       "Covariance Type:            nonrobust                                         \n",
       "==============================================================================\n",
       "                 coef    std err          t      P>|t|      [0.025      0.975]\n",
       "------------------------------------------------------------------------------\n",
       "Intercept     48.7735      0.961     50.772      0.000      46.889      50.658\n",
       "AgeGroup       9.2277      1.049      8.796      0.000       7.170      11.286\n",
       "==============================================================================\n",
       "Omnibus:                       23.407   Durbin-Watson:                   2.011\n",
       "Prob(Omnibus):                  0.000   Jarque-Bera (JB):               18.556\n",
       "Skew:                          -0.204   Prob(JB):                     9.35e-05\n",
       "Kurtosis:                       2.594   Cond. No.                         4.79\n",
       "==============================================================================\n",
       "\n",
       "Notes:\n",
       "[1] Standard Errors assume that the covariance matrix of the errors is correctly specified.\n",
       "\"\"\""
      ]
     },
     "execution_count": 41,
     "metadata": {},
     "output_type": "execute_result"
    }
   ],
   "source": [
    "fitAgeQ1.summary()"
   ]
  },
  {
   "cell_type": "code",
   "execution_count": 42,
   "metadata": {},
   "outputs": [
    {
     "data": {
      "text/html": [
       "<table class=\"simpletable\">\n",
       "<caption>OLS Regression Results</caption>\n",
       "<tr>\n",
       "  <th>Dep. Variable:</th>          <td>total</td>      <th>  R-squared:         </th> <td>   0.008</td> \n",
       "</tr>\n",
       "<tr>\n",
       "  <th>Model:</th>                   <td>OLS</td>       <th>  Adj. R-squared:    </th> <td>   0.005</td> \n",
       "</tr>\n",
       "<tr>\n",
       "  <th>Method:</th>             <td>Least Squares</td>  <th>  F-statistic:       </th> <td>   2.582</td> \n",
       "</tr>\n",
       "<tr>\n",
       "  <th>Date:</th>             <td>Thu, 27 May 2021</td> <th>  Prob (F-statistic):</th>  <td>0.0357</td>  \n",
       "</tr>\n",
       "<tr>\n",
       "  <th>Time:</th>                 <td>16:40:02</td>     <th>  Log-Likelihood:    </th> <td> -5495.8</td> \n",
       "</tr>\n",
       "<tr>\n",
       "  <th>No. Observations:</th>      <td>  1343</td>      <th>  AIC:               </th> <td>1.100e+04</td>\n",
       "</tr>\n",
       "<tr>\n",
       "  <th>Df Residuals:</th>          <td>  1338</td>      <th>  BIC:               </th> <td>1.103e+04</td>\n",
       "</tr>\n",
       "<tr>\n",
       "  <th>Df Model:</th>              <td>     4</td>      <th>                     </th>     <td> </td>    \n",
       "</tr>\n",
       "<tr>\n",
       "  <th>Covariance Type:</th>      <td>nonrobust</td>    <th>                     </th>     <td> </td>    \n",
       "</tr>\n",
       "</table>\n",
       "<table class=\"simpletable\">\n",
       "<tr>\n",
       "             <td></td>               <th>coef</th>     <th>std err</th>      <th>t</th>      <th>P>|t|</th>  <th>[0.025</th>    <th>0.975]</th>  \n",
       "</tr>\n",
       "<tr>\n",
       "  <th>Intercept</th>              <td>   62.7839</td> <td>    2.419</td> <td>   25.955</td> <td> 0.000</td> <td>   58.038</td> <td>   67.529</td>\n",
       "</tr>\n",
       "<tr>\n",
       "  <th>HomeLanguage_Afrikaans</th> <td>   -6.8242</td> <td>    2.606</td> <td>   -2.619</td> <td> 0.009</td> <td>  -11.937</td> <td>   -1.712</td>\n",
       "</tr>\n",
       "<tr>\n",
       "  <th>HomeLanguage_Setswana</th>  <td>   -7.4979</td> <td>    2.540</td> <td>   -2.952</td> <td> 0.003</td> <td>  -12.481</td> <td>   -2.514</td>\n",
       "</tr>\n",
       "<tr>\n",
       "  <th>HomeLanguage_isiZulu</th>   <td>   -5.6499</td> <td>    2.540</td> <td>   -2.225</td> <td> 0.026</td> <td>  -10.632</td> <td>   -0.668</td>\n",
       "</tr>\n",
       "<tr>\n",
       "  <th>HomeLanguage_isiXhosa</th>  <td>   -5.9947</td> <td>    2.531</td> <td>   -2.369</td> <td> 0.018</td> <td>  -10.959</td> <td>   -1.030</td>\n",
       "</tr>\n",
       "</table>\n",
       "<table class=\"simpletable\">\n",
       "<tr>\n",
       "  <th>Omnibus:</th>       <td>27.951</td> <th>  Durbin-Watson:     </th> <td>   1.998</td>\n",
       "</tr>\n",
       "<tr>\n",
       "  <th>Prob(Omnibus):</th> <td> 0.000</td> <th>  Jarque-Bera (JB):  </th> <td>  19.425</td>\n",
       "</tr>\n",
       "<tr>\n",
       "  <th>Skew:</th>          <td>-0.178</td> <th>  Prob(JB):          </th> <td>6.05e-05</td>\n",
       "</tr>\n",
       "<tr>\n",
       "  <th>Kurtosis:</th>      <td> 2.530</td> <th>  Cond. No.          </th> <td>    15.4</td>\n",
       "</tr>\n",
       "</table><br/><br/>Notes:<br/>[1] Standard Errors assume that the covariance matrix of the errors is correctly specified."
      ],
      "text/plain": [
       "<class 'statsmodels.iolib.summary.Summary'>\n",
       "\"\"\"\n",
       "                            OLS Regression Results                            \n",
       "==============================================================================\n",
       "Dep. Variable:                  total   R-squared:                       0.008\n",
       "Model:                            OLS   Adj. R-squared:                  0.005\n",
       "Method:                 Least Squares   F-statistic:                     2.582\n",
       "Date:                Thu, 27 May 2021   Prob (F-statistic):             0.0357\n",
       "Time:                        16:40:02   Log-Likelihood:                -5495.8\n",
       "No. Observations:                1343   AIC:                         1.100e+04\n",
       "Df Residuals:                    1338   BIC:                         1.103e+04\n",
       "Df Model:                           4                                         \n",
       "Covariance Type:            nonrobust                                         \n",
       "==========================================================================================\n",
       "                             coef    std err          t      P>|t|      [0.025      0.975]\n",
       "------------------------------------------------------------------------------------------\n",
       "Intercept                 62.7839      2.419     25.955      0.000      58.038      67.529\n",
       "HomeLanguage_Afrikaans    -6.8242      2.606     -2.619      0.009     -11.937      -1.712\n",
       "HomeLanguage_Setswana     -7.4979      2.540     -2.952      0.003     -12.481      -2.514\n",
       "HomeLanguage_isiZulu      -5.6499      2.540     -2.225      0.026     -10.632      -0.668\n",
       "HomeLanguage_isiXhosa     -5.9947      2.531     -2.369      0.018     -10.959      -1.030\n",
       "==============================================================================\n",
       "Omnibus:                       27.951   Durbin-Watson:                   1.998\n",
       "Prob(Omnibus):                  0.000   Jarque-Bera (JB):               19.425\n",
       "Skew:                          -0.178   Prob(JB):                     6.05e-05\n",
       "Kurtosis:                       2.530   Cond. No.                         15.4\n",
       "==============================================================================\n",
       "\n",
       "Notes:\n",
       "[1] Standard Errors assume that the covariance matrix of the errors is correctly specified.\n",
       "\"\"\""
      ]
     },
     "execution_count": 42,
     "metadata": {},
     "output_type": "execute_result"
    }
   ],
   "source": [
    "fitHomeLanguageQ1.summary()"
   ]
  },
  {
   "cell_type": "markdown",
   "metadata": {},
   "source": [
    "By looking at the AIC statistic  for each of the above models, we can see that each of the values are very low, indicating that all these models have a good fit."
   ]
  },
  {
   "cell_type": "code",
   "execution_count": 2,
   "metadata": {},
   "outputs": [
    {
     "ename": "NameError",
     "evalue": "name 'smf' is not defined",
     "output_type": "error",
     "traceback": [
      "\u001b[0;31m---------------------------------------------------------------------------\u001b[0m",
      "\u001b[0;31mNameError\u001b[0m                                 Traceback (most recent call last)",
      "\u001b[0;32m<ipython-input-2-65f107779845>\u001b[0m in \u001b[0;36m<module>\u001b[0;34m\u001b[0m\n\u001b[0;32m----> 1\u001b[0;31m \u001b[0mfitFinalQ1\u001b[0m \u001b[0;34m=\u001b[0m \u001b[0msmf\u001b[0m\u001b[0;34m.\u001b[0m\u001b[0mols\u001b[0m\u001b[0;34m(\u001b[0m\u001b[0mformula\u001b[0m\u001b[0;34m=\u001b[0m\u001b[0;34m\"total~Quintile+AgeGroup+HomeLanguage_Afrikaans+HomeLanguage_Setswana+HomeLanguage_isiZulu+HomeLanguage_isiXhosa\"\u001b[0m\u001b[0;34m,\u001b[0m\u001b[0mdata\u001b[0m\u001b[0;34m=\u001b[0m\u001b[0mdf2019_trainQ1\u001b[0m\u001b[0;34m)\u001b[0m\u001b[0;34m.\u001b[0m\u001b[0mfit\u001b[0m\u001b[0;34m(\u001b[0m\u001b[0;34m)\u001b[0m\u001b[0;34m\u001b[0m\u001b[0;34m\u001b[0m\u001b[0m\n\u001b[0m",
      "\u001b[0;31mNameError\u001b[0m: name 'smf' is not defined"
     ]
    }
   ],
   "source": [
    "fitFinalQ1 = smf.ols(formula=\"total~Quintile+AgeGroup+HomeLanguage_Afrikaans+HomeLanguage_Setswana+HomeLanguage_isiZulu+HomeLanguage_isiXhosa\",data=df2019_trainQ1).fit()"
   ]
  },
  {
   "cell_type": "code",
   "execution_count": 3,
   "metadata": {},
   "outputs": [
    {
     "ename": "NameError",
     "evalue": "name 'fitFinalQ1' is not defined",
     "output_type": "error",
     "traceback": [
      "\u001b[0;31m---------------------------------------------------------------------------\u001b[0m",
      "\u001b[0;31mNameError\u001b[0m                                 Traceback (most recent call last)",
      "\u001b[0;32m<ipython-input-3-e90ff4f2fe38>\u001b[0m in \u001b[0;36m<module>\u001b[0;34m\u001b[0m\n\u001b[0;32m----> 1\u001b[0;31m \u001b[0mfitFinalQ1\u001b[0m\u001b[0;34m.\u001b[0m\u001b[0msummary\u001b[0m\u001b[0;34m(\u001b[0m\u001b[0;34m)\u001b[0m\u001b[0;34m\u001b[0m\u001b[0;34m\u001b[0m\u001b[0m\n\u001b[0m",
      "\u001b[0;31mNameError\u001b[0m: name 'fitFinalQ1' is not defined"
     ]
    }
   ],
   "source": [
    "fitFinalQ1.summary()"
   ]
  },
  {
   "cell_type": "markdown",
   "metadata": {},
   "source": [
    "#### Residual Analysis"
   ]
  },
  {
   "cell_type": "markdown",
   "metadata": {},
   "source": [
    "The final model which was calculated displayed skewness of -0.215 and kurtosis of 2.687. This indicated that the data is fairly symmetrical and indicates that the residuals are close to a normal distribution."
   ]
  },
  {
   "cell_type": "code",
   "execution_count": 47,
   "metadata": {},
   "outputs": [],
   "source": [
    "# Extracting residuals on our training set which will be used in the analysis below.\n",
    "residualsQ1 = fitFinalQ1.resid"
   ]
  },
  {
   "cell_type": "code",
   "execution_count": 53,
   "metadata": {},
   "outputs": [
    {
     "data": {
      "image/png": "[encoded data removed]",
      "text/plain": [
       "<Figure size 1728x504 with 3 Axes>"
      ]
     },
     "metadata": {
      "needs_background": "light"
     },
     "output_type": "display_data"
    },
    {
     "data": {
      "text/plain": [
       "0       0.002842\n",
       "1       0.002842\n",
       "2       0.002842\n",
       "3       0.002842\n",
       "4       0.002842\n",
       "          ...   \n",
       "1338    0.031992\n",
       "1339    0.032118\n",
       "1340    0.032118\n",
       "1341    0.032118\n",
       "1342    0.032118\n",
       "Name: hat_diag, Length: 1343, dtype: float64"
      ]
     },
     "metadata": {},
     "output_type": "display_data"
    }
   ],
   "source": [
    "# TODO: Plot residuals against dependent variables \n",
    "plt.figure(figsize=(24,7))\n",
    "plt.subplot(131)\n",
    "plt.title('Quintiles vs Residuals For Training Data')\n",
    "plt.xlabel('Quintiles')\n",
    "plt.ylabel('Residuals')\n",
    "plt.scatter(df2019_trainQ1.Quintile,residualsQ1)\n",
    "plt.subplot(132)\n",
    "plt.title('AgeGroups vs Residuals For Training Data')\n",
    "plt.xlabel('AgeGroups')\n",
    "plt.ylabel('Residuals')\n",
    "plt.scatter(df2019_trainQ1.AgeGroup,residualsQ1)\n",
    "plt.subplot(133)\n",
    "plt.title('HomeLanguages vs Residuals For Training Data')\n",
    "plt.xlabel('HomeLanguages')\n",
    "plt.ylabel('Residuals')\n",
    "plt.scatter(df2019_HL,residualsQ1)\n",
    "\n",
    "plt.show()\n",
    "## check for outliers\n",
    "influence_points = fitFinalQ1.get_influence().summary_frame().sort_values(by='hat_diag')\n",
    "influence_points = influence_points.reset_index(drop=True)\n",
    "display(influence_points.hat_diag)"
   ]
  },
  {
   "cell_type": "markdown",
   "metadata": {},
   "source": [
    "The above residual analysis was to determine if there is a relationship between the dependent variables in our model above and the residuals. We are able to deduce that there is no clear relationship between any of the explanatory variables and the residuals. Furthermore, we can conclude that the regression coefficients represented in the final model above are unbiased.\n",
    "\n",
    "Secondly, we used the influence function provided by the statsmodels api in order to determine if there were any outliers in our training data that might have influenced our residuals. We extract the leverage values associated to each data point in our training dataset and sort the values from low leverage to high leverage, the result of this set of steps is the series in the above cell. We can deduce from the series above that there are no leverages for the data points that are abnormally higher than the other leverage values. This indicates that there are no real outliers in our dataset.\n",
    "\n",
    "The two points highlighted above imply that the final model proposed above actually represents a good model for the question stated above."
   ]
  },
  {
   "cell_type": "code",
   "execution_count": 54,
   "metadata": {},
   "outputs": [],
   "source": [
    "fitTestQ1 = smf.ols(formula=\"total~Quintile+AgeGroup+HomeLanguage_Afrikaans+HomeLanguage_Setswana+HomeLanguage_isiZulu+HomeLanguage_isiXhosa\",data=df2019_testQ1).fit()"
   ]
  },
  {
   "cell_type": "code",
   "execution_count": 55,
   "metadata": {},
   "outputs": [
    {
     "data": {
      "text/html": [
       "<table class=\"simpletable\">\n",
       "<caption>OLS Regression Results</caption>\n",
       "<tr>\n",
       "  <th>Dep. Variable:</th>          <td>total</td>      <th>  R-squared:         </th> <td>   0.083</td>\n",
       "</tr>\n",
       "<tr>\n",
       "  <th>Model:</th>                   <td>OLS</td>       <th>  Adj. R-squared:    </th> <td>   0.066</td>\n",
       "</tr>\n",
       "<tr>\n",
       "  <th>Method:</th>             <td>Least Squares</td>  <th>  F-statistic:       </th> <td>   4.943</td>\n",
       "</tr>\n",
       "<tr>\n",
       "  <th>Date:</th>             <td>Thu, 27 May 2021</td> <th>  Prob (F-statistic):</th> <td>7.34e-05</td>\n",
       "</tr>\n",
       "<tr>\n",
       "  <th>Time:</th>                 <td>16:42:37</td>     <th>  Log-Likelihood:    </th> <td> -1344.8</td>\n",
       "</tr>\n",
       "<tr>\n",
       "  <th>No. Observations:</th>      <td>   336</td>      <th>  AIC:               </th> <td>   2704.</td>\n",
       "</tr>\n",
       "<tr>\n",
       "  <th>Df Residuals:</th>          <td>   329</td>      <th>  BIC:               </th> <td>   2730.</td>\n",
       "</tr>\n",
       "<tr>\n",
       "  <th>Df Model:</th>              <td>     6</td>      <th>                     </th>     <td> </td>   \n",
       "</tr>\n",
       "<tr>\n",
       "  <th>Covariance Type:</th>      <td>nonrobust</td>    <th>                     </th>     <td> </td>   \n",
       "</tr>\n",
       "</table>\n",
       "<table class=\"simpletable\">\n",
       "<tr>\n",
       "             <td></td>               <th>coef</th>     <th>std err</th>      <th>t</th>      <th>P>|t|</th>  <th>[0.025</th>    <th>0.975]</th>  \n",
       "</tr>\n",
       "<tr>\n",
       "  <th>Intercept</th>              <td>   57.2770</td> <td>    5.525</td> <td>   10.367</td> <td> 0.000</td> <td>   46.408</td> <td>   68.146</td>\n",
       "</tr>\n",
       "<tr>\n",
       "  <th>Quintile</th>               <td>    1.2453</td> <td>    0.558</td> <td>    2.234</td> <td> 0.026</td> <td>    0.149</td> <td>    2.342</td>\n",
       "</tr>\n",
       "<tr>\n",
       "  <th>AgeGroup</th>               <td>    7.8942</td> <td>    1.907</td> <td>    4.139</td> <td> 0.000</td> <td>    4.142</td> <td>   11.647</td>\n",
       "</tr>\n",
       "<tr>\n",
       "  <th>HomeLanguage_Afrikaans</th> <td>   -8.9766</td> <td>    5.471</td> <td>   -1.641</td> <td> 0.102</td> <td>  -19.739</td> <td>    1.786</td>\n",
       "</tr>\n",
       "<tr>\n",
       "  <th>HomeLanguage_Setswana</th>  <td>  -11.0404</td> <td>    5.300</td> <td>   -2.083</td> <td> 0.038</td> <td>  -21.466</td> <td>   -0.615</td>\n",
       "</tr>\n",
       "<tr>\n",
       "  <th>HomeLanguage_isiZulu</th>   <td>   -9.4805</td> <td>    5.285</td> <td>   -1.794</td> <td> 0.074</td> <td>  -19.877</td> <td>    0.916</td>\n",
       "</tr>\n",
       "<tr>\n",
       "  <th>HomeLanguage_isiXhosa</th>  <td>   -8.0599</td> <td>    5.316</td> <td>   -1.516</td> <td> 0.130</td> <td>  -18.518</td> <td>    2.399</td>\n",
       "</tr>\n",
       "</table>\n",
       "<table class=\"simpletable\">\n",
       "<tr>\n",
       "  <th>Omnibus:</th>       <td> 3.221</td> <th>  Durbin-Watson:     </th> <td>   2.065</td>\n",
       "</tr>\n",
       "<tr>\n",
       "  <th>Prob(Omnibus):</th> <td> 0.200</td> <th>  Jarque-Bera (JB):  </th> <td>   3.095</td>\n",
       "</tr>\n",
       "<tr>\n",
       "  <th>Skew:</th>          <td>-0.235</td> <th>  Prob(JB):          </th> <td>   0.213</td>\n",
       "</tr>\n",
       "<tr>\n",
       "  <th>Kurtosis:</th>      <td> 3.025</td> <th>  Cond. No.          </th> <td>    37.2</td>\n",
       "</tr>\n",
       "</table><br/><br/>Notes:<br/>[1] Standard Errors assume that the covariance matrix of the errors is correctly specified."
      ],
      "text/plain": [
       "<class 'statsmodels.iolib.summary.Summary'>\n",
       "\"\"\"\n",
       "                            OLS Regression Results                            \n",
       "==============================================================================\n",
       "Dep. Variable:                  total   R-squared:                       0.083\n",
       "Model:                            OLS   Adj. R-squared:                  0.066\n",
       "Method:                 Least Squares   F-statistic:                     4.943\n",
       "Date:                Thu, 27 May 2021   Prob (F-statistic):           7.34e-05\n",
       "Time:                        16:42:37   Log-Likelihood:                -1344.8\n",
       "No. Observations:                 336   AIC:                             2704.\n",
       "Df Residuals:                     329   BIC:                             2730.\n",
       "Df Model:                           6                                         \n",
       "Covariance Type:            nonrobust                                         \n",
       "==========================================================================================\n",
       "                             coef    std err          t      P>|t|      [0.025      0.975]\n",
       "------------------------------------------------------------------------------------------\n",
       "Intercept                 57.2770      5.525     10.367      0.000      46.408      68.146\n",
       "Quintile                   1.2453      0.558      2.234      0.026       0.149       2.342\n",
       "AgeGroup                   7.8942      1.907      4.139      0.000       4.142      11.647\n",
       "HomeLanguage_Afrikaans    -8.9766      5.471     -1.641      0.102     -19.739       1.786\n",
       "HomeLanguage_Setswana    -11.0404      5.300     -2.083      0.038     -21.466      -0.615\n",
       "HomeLanguage_isiZulu      -9.4805      5.285     -1.794      0.074     -19.877       0.916\n",
       "HomeLanguage_isiXhosa     -8.0599      5.316     -1.516      0.130     -18.518       2.399\n",
       "==============================================================================\n",
       "Omnibus:                        3.221   Durbin-Watson:                   2.065\n",
       "Prob(Omnibus):                  0.200   Jarque-Bera (JB):                3.095\n",
       "Skew:                          -0.235   Prob(JB):                        0.213\n",
       "Kurtosis:                       3.025   Cond. No.                         37.2\n",
       "==============================================================================\n",
       "\n",
       "Notes:\n",
       "[1] Standard Errors assume that the covariance matrix of the errors is correctly specified.\n",
       "\"\"\""
      ]
     },
     "execution_count": 55,
     "metadata": {},
     "output_type": "execute_result"
    }
   ],
   "source": [
    "fitTestQ1.summary()"
   ]
  },
  {
   "cell_type": "code",
   "execution_count": 56,
   "metadata": {},
   "outputs": [
    {
     "name": "stdout",
     "output_type": "stream",
     "text": [
      "Intercept                 57.276963\n",
      "Quintile                   1.245298\n",
      "AgeGroup                   7.894217\n",
      "HomeLanguage_Afrikaans    -8.976583\n",
      "HomeLanguage_Setswana    -11.040425\n",
      "HomeLanguage_isiZulu      -9.480503\n",
      "HomeLanguage_isiXhosa     -8.059935\n",
      "dtype: float64\n",
      "Intercept                 46.626564\n",
      "Quintile                   2.348889\n",
      "AgeGroup                   9.064709\n",
      "HomeLanguage_Afrikaans    -2.445569\n",
      "HomeLanguage_Setswana     -3.098670\n",
      "HomeLanguage_isiZulu       0.061582\n",
      "HomeLanguage_isiXhosa     -0.632769\n",
      "dtype: float64\n"
     ]
    }
   ],
   "source": [
    "print(fitTestQ1.params)\n",
    "print(fitFinalQ1.params)"
   ]
  },
  {
   "cell_type": "markdown",
   "metadata": {},
   "source": [
    "- The training regression coefficients vs. the testing coefficients for `HomeLanguage` seem to differ quite a bit. This indicates that this variable is not statistically significant and the regression values could be determined by some chance, which could be as a result of sampling variation. We can deduce this variable do not have a strong LINEAR relationship with ELOM score. \n",
    "\n",
    "- The regression coefficients relating to `Quintile` and `AgeGroup`, respectively, have a slight difference in the training and testing dataset. However, they are close enough to infer that the `Quintile` and `SocialRelations` variables are statistically significant. "
   ]
  },
  {
   "cell_type": "markdown",
   "metadata": {},
   "source": [
    "### 2 - In the absence of the socio-economic factors, to what extent do the behavioural tendencies of a child influence ELOM score and whether or not the child is at risk?\n",
    "\n",
    "The below model to be constructed, will contain only variables pertaining to the behavioural tendencies of a child as well as the dependent variable - ELOM score of a child. The outputs from this model will allow us to make deductions as to whether these behavioural tendencies of a child have an influence on a child's ELOM score, including the degree to which they impact ELOM score. "
   ]
  },
  {
   "cell_type": "code",
   "execution_count": null,
   "metadata": {},
   "outputs": [],
   "source": [
    "np.random.seed(25)\n",
    "train_numberQ2 = int(df2019.shape[0]*(80/100)) # calculate number of training examples\n",
    "dftempQ2 = df2019.sample(df2019.shape[0],replace=False,random_state=25)\n",
    "dftempQ2 = dftempQ2.reset_index(drop=True)\n",
    "df2019_trainQ2 = dftempQ2[:train_numberQ2]\n",
    "df2019_testQ2 = dftempQ2[train_numberQ2:]\n",
    "print(\"The training data has a shape of\",df2019_trainQ2.shape)\n",
    "print(\"The test data has a shape of\",df2019_testQ2.shape)"
   ]
  },
  {
   "cell_type": "code",
   "execution_count": null,
   "metadata": {},
   "outputs": [],
   "source": [
    "df2019_trainQ2 = df2019_trainQ2[['ChildObs','SelfCare','SocialRelations', 'EmotionalReadiness', 'Gender','total']]\n",
    "df2019_testQ2 = df2019_testQ2[['ChildObs','SelfCare','SocialRelations', 'EmotionalReadiness', 'Gender','total']]"
   ]
  },
  {
   "cell_type": "markdown",
   "metadata": {},
   "source": [
    "The following code ensures that every variable is either continuous or encoded:"
   ]
  },
  {
   "cell_type": "code",
   "execution_count": null,
   "metadata": {},
   "outputs": [],
   "source": [
    "df2019_trainQ2['SelfCare'] = LE.fit_transform(df2019_trainQ2['SelfCare'])\n",
    "df2019_testQ2['SelfCare'] = LE.fit_transform(df2019_testQ2['SelfCare'])"
   ]
  },
  {
   "cell_type": "code",
   "execution_count": null,
   "metadata": {},
   "outputs": [],
   "source": [
    "df2019_trainQ2 = pd.get_dummies(df2019_trainQ2 ,drop_first=True)\n",
    "df2019_testQ2 = pd.get_dummies(df2019_testQ2,drop_first=True)\n",
    "\n",
    "df2019_trainQ2  = df2019_trainQ2 .reset_index(drop=True)\n",
    "display(df2019_trainQ2 .head())\n",
    "\n",
    "df2019_testQ2 = df2019_testQ2.reset_index(drop=True)\n",
    "display(df2019_testQ2.head())"
   ]
  },
  {
   "cell_type": "markdown",
   "metadata": {},
   "source": [
    "The above training and testing datasets contain the variables needed for this specific model fitting, those being the behavioural tendency variables as well as ELOM score. As mentioned in the Exploratory Analyses phase, we only consider `ChildObs` as it is the sum of `ChildObs1`, `ChildObs2`, `ChildObs3` and `ChildObs4`. "
   ]
  },
  {
   "cell_type": "markdown",
   "metadata": {},
   "source": [
    "Before we move on to the model fitting phase, we ensure that every variable is continuous or encoded.\n",
    "\n",
    "`SelfCare` is an ordinal categorical variable which we label encode so that it retains its order. `Gender` is dummy encoded since it is a nominal categorical variable. These procedures will allow us to use these variables in least squares regression. "
   ]
  },
  {
   "cell_type": "code",
   "execution_count": null,
   "metadata": {},
   "outputs": [],
   "source": [
    "fitChildObsQ2 = smf.ols(formula=\"total~ChildObs\",data=df2019_trainQ2).fit()\n",
    "fitSelfCareQ2 = smf.ols(formula=\"total~SelfCare\",data=df2019_trainQ2).fit()\n",
    "fitEmotionalReadinessQ2 = smf.ols(formula=\"total~EmotionalReadiness\",data=df2019_trainQ2).fit()\n",
    "fitSocialRelationsQ2 = smf.ols(formula=\"total~SocialRelations\",data=df2019_trainQ2).fit()\n",
    "fitGenderQ2 = smf.ols(formula=\"total~Gender_Female\",data=df2019_trainQ2).fit()"
   ]
  },
  {
   "cell_type": "code",
   "execution_count": null,
   "metadata": {},
   "outputs": [],
   "source": [
    "fitChildObsQ2.summary()"
   ]
  },
  {
   "cell_type": "code",
   "execution_count": null,
   "metadata": {},
   "outputs": [],
   "source": [
    "fitSelfCareQ2.summary()"
   ]
  },
  {
   "cell_type": "code",
   "execution_count": null,
   "metadata": {},
   "outputs": [],
   "source": [
    "fitEmotionalReadinessQ2.summary()"
   ]
  },
  {
   "cell_type": "code",
   "execution_count": null,
   "metadata": {},
   "outputs": [],
   "source": [
    "fitSocialRelationsQ2.summary()"
   ]
  },
  {
   "cell_type": "code",
   "execution_count": null,
   "metadata": {},
   "outputs": [],
   "source": [
    "fitGenderQ2.summary()"
   ]
  },
  {
   "cell_type": "markdown",
   "metadata": {},
   "source": [
    "Considering the AIC (Akaike Information Criteria) statistic for model selection, we can see from the above models that all of the AIC values are very low indicated that all these models have a good fit i.e. each of these independent variables should be included in the final model. "
   ]
  },
  {
   "cell_type": "code",
   "execution_count": null,
   "metadata": {},
   "outputs": [],
   "source": [
    "fitFinalQ2 = smf.ols(formula=\"total~SelfCare+ChildObs+EmotionalReadiness+SocialRelations+Gender_Female\",data=df2019_trainQ2).fit()\n",
    "fitFinalQ2.summary()"
   ]
  },
  {
   "cell_type": "markdown",
   "metadata": {},
   "source": [
    "The AIC value of the final model is even lower than the AIC values of the models that contain each variable against ELOM score. This indicates that this final model has a good-fit and fits this dataset quite well. "
   ]
  },
  {
   "cell_type": "markdown",
   "metadata": {},
   "source": [
    "#### Residual Analysis"
   ]
  },
  {
   "cell_type": "markdown",
   "metadata": {},
   "source": [
    "The final model which was calculated displayed skewness of -0.084 and kurtosis of 2.928. This indicates that the data is fairly symmetrical and indicates that the residuals are close to a normal distribution.\n",
    "\n",
    "\n",
    "With regards to distribution of the residuals, if we assume that the null hypothesis is that the residuals for this model are not normally distributed, the probabilities given by Omnibus and Jarque-Bera which are 1.802 and 1.865 respectively, indicates that we cannot reject the null hypothesis for a 5% significance level. Therefore we are 95% confident that these residuals are not normally distributed. "
   ]
  },
  {
   "cell_type": "code",
   "execution_count": null,
   "metadata": {},
   "outputs": [],
   "source": [
    "#Extracting residuals on our training set \n",
    "residualsQ2 = fitFinalQ2.resid"
   ]
  },
  {
   "cell_type": "code",
   "execution_count": null,
   "metadata": {},
   "outputs": [],
   "source": [
    "plt.figure(figsize=(24,14))\n",
    "plt.subplot(231)\n",
    "plt.title('Child Observations vs Residuals for Training Data')\n",
    "plt.xlabel('Child Observations')\n",
    "plt.ylabel('Residuals')\n",
    "plt.scatter(df2019_trainQ2.ChildObs,residualsQ2)\n",
    "plt.subplot(232)\n",
    "plt.title('Emotional Readiness vs Residuals for Training Data')\n",
    "plt.xlabel('Emotional Readiness')\n",
    "plt.ylabel('Residuals')\n",
    "plt.scatter(df2019_trainQ2.EmotionalReadiness,residualsQ2)\n",
    "plt.subplot(233)\n",
    "plt.title('Self Care vs Residuals for Training Data')\n",
    "plt.xlabel('Self Care')\n",
    "plt.ylabel('Residuals')\n",
    "plt.scatter(df2019_trainQ2.SelfCare,residualsQ2)\n",
    "plt.subplot(234)\n",
    "plt.title('Social Relations vs Residuals for Training Data')\n",
    "plt.xlabel('Social Relations')\n",
    "plt.ylabel('Residuals')\n",
    "plt.scatter(df2019_trainQ2.SocialRelations,residualsQ2)\n",
    "plt.subplot(235)\n",
    "plt.title('Gender vs Residuals for Training Data')\n",
    "plt.xlabel('Gender')\n",
    "plt.ylabel('Residuals')\n",
    "plt.scatter(df2019_trainQ2.Gender_Female,residualsQ2)\n",
    "plt.show()"
   ]
  },
  {
   "cell_type": "markdown",
   "metadata": {},
   "source": [
    "The residual analysis above was to determine if there is a relationship between the dependent variables in our model above and the residuals, which is highlighted by the above scatterplots. We see that there is no clear relationship between any of the explanatory variables and the residuals which allow us to conclude that the regression coefficients represented in the final model are unbiased."
   ]
  },
  {
   "cell_type": "code",
   "execution_count": null,
   "metadata": {},
   "outputs": [],
   "source": [
    "# Checking for outliers \n",
    "influence_pointsQ2 = fitFinalQ2.get_influence().summary_frame().sort_values(by='hat_diag')\n",
    "influence_pointsQ2 = influence_pointsQ2.reset_index(drop=True)\n",
    "display(influence_pointsQ2.hat_diag)"
   ]
  },
  {
   "cell_type": "markdown",
   "metadata": {},
   "source": [
    "Above we used the influence function provided by the statsmodels API in order to determine if there were any outliers in our training data that might have influenced our residuals. We extract the leverage values associated to each data point in our training dataset and sort the values from low leverage to high leverage, the result of this set of steps is the series in the above cell. We can deduce from the series above that there are no leverages for the data points that are abnormally higher than the other leverage values. This indicates that there are no real outliers in our dataset.\n",
    "\n",
    "The residual analysis and the absence of outliers above, imply that the final model proposed above actually represents a good model for the question stated above."
   ]
  },
  {
   "cell_type": "markdown",
   "metadata": {},
   "source": [
    "We now finally fit the regression model against our test data and make comparisons between the training dataset outcomes and the test dataset outcomes."
   ]
  },
  {
   "cell_type": "code",
   "execution_count": null,
   "metadata": {},
   "outputs": [],
   "source": [
    "fitTestQ2 = smf.ols(formula=\"total~SelfCare+ChildObs+EmotionalReadiness+SocialRelations+Gender_Female\",data=df2019_testQ2).fit()\n",
    "fitTestQ2 .summary()"
   ]
  },
  {
   "cell_type": "code",
   "execution_count": null,
   "metadata": {},
   "outputs": [],
   "source": [
    "display(Markdown(\"##### Test Params\"))\n",
    "print(fitTestQ2.params)\n",
    "display(Markdown(\"##### Train Params\"))\n",
    "print(fitFinalQ2.params)"
   ]
  },
  {
   "cell_type": "markdown",
   "metadata": {},
   "source": [
    "- The training regression coefficients vs. the testing coefficients for `SelfCare`, `ChildObs` and `Gender` seem to differ quite a bit. This indicates that these variables are not statistically significant and the regression values could be determined by some chance, which could be as a result of sampling variation. We can deduce these variables do not have a string LINEAR relationship with ELOM score. \n",
    "\n",
    "- `EmotionalReadiness` however appears to have similar values for training and testing coefficients with a marginal differenced of approximately 0.2. However, the values are not close enough to infer that the EmotionalReadiness variable is statistically significant.  \n",
    "\n",
    "- The value for the training and testing coefficients for `SocialRelations` are very similar. This indicates that the approximate value of -0.21 is statistically significant. "
   ]
  },
  {
   "cell_type": "markdown",
   "metadata": {},
   "source": [
    "### 3 - In conjunction with the socio-economic background of a child, do the behavioural tendencies of the child have an influence on the ELOM score?"
   ]
  },
  {
   "cell_type": "markdown",
   "metadata": {},
   "source": [
    "This model will contain the socio-economic and behavioural variables from the 2019 ELOM dataset, with the exclusion of `AssessLanguage` and `ChildSupportGrant` as these variables were deemed unnecessary for analysis in the Exploratory Analyses section above. In addition, the model will contain the ELOM score of a student as the dependent variable. Using the outputs of the model in conjunction with the outputs from the hypothesis testing stage, we will be able to determine if the behavioural tendencies of a child, after factoring socio-economic factors, have an influence on the ELOM score of the child."
   ]
  },
  {
   "cell_type": "code",
   "execution_count": null,
   "metadata": {},
   "outputs": [],
   "source": [
    "# Overview of the ELOM 2019 dataset before splitting\n",
    "display(df2019.head())"
   ]
  },
  {
   "cell_type": "code",
   "execution_count": null,
   "metadata": {},
   "outputs": [],
   "source": [
    "train_numberQ3 = int(df2019.shape[0]*(80/100)) # Calculate number of training examples\n",
    "dftempQ3 = df2019.sample(df2019.shape[0],replace=False,random_state=12)\n",
    "dftempQ3 = dftempQ3.reset_index(drop=True)\n",
    "df2019_trainQ3 = dftempQ3[:train_numberQ1]\n",
    "df2019_testQ3 = dftempQ3[train_numberQ1:]\n",
    "print(\"The training data has a shape of\",df2019_trainQ3.shape)\n",
    "print(\"The test data has a shape of\",df2019_testQ3.shape)\n",
    "display(df2019_trainQ3)"
   ]
  },
  {
   "cell_type": "markdown",
   "metadata": {},
   "source": [
    "For the above dataset, we will select the subset of variables that are both behavioural and socio-economic in nature. `AgeGroup` will be used in the model as `Age` results in numerical problems with our regression models. `Quintile` will be used over `CompositeQuintileGroup` as it specifies the Quintile per student and not a combination of other Quintiles."
   ]
  },
  {
   "cell_type": "markdown",
   "metadata": {},
   "source": [
    "We ensure that every variable required for the model is either continuous or encoded:"
   ]
  },
  {
   "cell_type": "code",
   "execution_count": null,
   "metadata": {},
   "outputs": [],
   "source": [
    "df2019_trainQ3 = df2019_trainQ3[['Quintile', 'Age','AgeGroup','HomeLanguage','ChildObs','SelfCare','SocialRelations','EmotionalReadiness','total']]\n",
    "df2019_testQ3 = df2019_testQ3[['Quintile', 'Age','AgeGroup','HomeLanguage','ChildObs','SelfCare','SocialRelations','EmotionalReadiness','total']]\n",
    "df2019_HLQ3 = df2019_trainQ3.HomeLanguage\n",
    "\n",
    "print(df2019.Quintile.value_counts()/df2019.shape[0])\n",
    "print(df2019_trainQ3.Quintile.value_counts()/df2019_trainQ3.shape[0])\n",
    "print(df2019_testQ3.Quintile.value_counts()/df2019_testQ3.shape[0])"
   ]
  },
  {
   "cell_type": "code",
   "execution_count": null,
   "metadata": {},
   "outputs": [],
   "source": [
    "LE = LabelEncoder()\n",
    "df2019_trainQ3['Quintile'] = LE.fit_transform(df2019_trainQ3['Quintile'])\n",
    "df2019_trainQ3['AgeGroup'] = LE.fit_transform(df2019_trainQ3['AgeGroup'])\n",
    "df2019_trainQ3['ChildObs'] = LE.fit_transform(df2019_trainQ3['ChildObs'])\n",
    "df2019_trainQ3['SelfCare'] = LE.fit_transform(df2019_trainQ3['SelfCare'])\n",
    "df2019_trainQ3['SocialRelations'] = LE.fit_transform(df2019_trainQ3['SocialRelations'])\n",
    "df2019_trainQ3['EmotionalReadiness'] = LE.fit_transform(df2019_trainQ3['EmotionalReadiness'])\n",
    "\n",
    "df2019_testQ3['Quintile'] = LE.fit_transform(df2019_testQ3['Quintile'])\n",
    "df2019_testQ3['AgeGroup'] = LE.fit_transform(df2019_testQ3['AgeGroup'])\n",
    "df2019_testQ3['ChildObs'] = LE.fit_transform(df2019_testQ3['ChildObs'])\n",
    "df2019_testQ3['SelfCare'] = LE.fit_transform(df2019_testQ3['SelfCare'])\n",
    "df2019_testQ3['SocialRelations'] = LE.fit_transform(df2019_testQ3['SocialRelations'])\n",
    "df2019_testQ3['EmotionalReadiness'] = LE.fit_transform(df2019_testQ3['EmotionalReadiness'])"
   ]
  },
  {
   "cell_type": "code",
   "execution_count": null,
   "metadata": {},
   "outputs": [],
   "source": [
    "df2019_trainQ3 = pd.get_dummies(df2019_trainQ3,drop_first=True)\n",
    "df2019_testQ3 = pd.get_dummies(df2019_testQ3,drop_first=True)"
   ]
  },
  {
   "cell_type": "code",
   "execution_count": null,
   "metadata": {},
   "outputs": [],
   "source": [
    "df2019_trainQ3 = df2019_trainQ3.reset_index(drop=True)\n",
    "display(df2019_trainQ3.head())\n",
    "\n",
    "df2019_testQ3 = df2019_testQ3.reset_index(drop=True)\n",
    "display(df2019_testQ3.head())"
   ]
  },
  {
   "cell_type": "markdown",
   "metadata": {},
   "source": [
    "`Quintile` is an ordinal categorical variable so we label encode it so that it retains order in the variable.\n",
    "Since `HomeLanguage` was a nominal categorical we dummy encoded so that we can use this variable in least squares regression."
   ]
  },
  {
   "cell_type": "markdown",
   "metadata": {},
   "source": [
    "We will now perform Model Selection in order to select the best possible model with the above subset of the 2019 ELOM dataset."
   ]
  },
  {
   "cell_type": "code",
   "execution_count": null,
   "metadata": {},
   "outputs": [],
   "source": [
    "fitQuintileQ3 = smf.ols(formula=\"total~Quintile\",data=df2019_trainQ3).fit()\n",
    "fitAgeQ3 = smf.ols(formula=\"total~AgeGroup\",data=df2019_trainQ3).fit()\n",
    "fitHomeLanguageQ3 = smf.ols(formula=\"total~HomeLanguage_Afrikaans+HomeLanguage_Setswana+HomeLanguage_isiZulu+HomeLanguage_isiXhosa\",data=df2019_trainQ3).fit()\n",
    "fitChildObsQ3 = smf.ols(formula=\"total~ChildObs\",data=df2019_trainQ3).fit()\n",
    "fitSocialRelationsQ3 = smf.ols(formula=\"total~SocialRelations\",data=df2019_trainQ3).fit()\n",
    "fitEmotionalReadinessQ3 = smf.ols(formula=\"total~EmotionalReadiness\",data=df2019_trainQ3).fit()"
   ]
  },
  {
   "cell_type": "code",
   "execution_count": null,
   "metadata": {
    "tags": []
   },
   "outputs": [],
   "source": [
    "fitQuintileQ3.summary()"
   ]
  },
  {
   "cell_type": "code",
   "execution_count": null,
   "metadata": {
    "tags": []
   },
   "outputs": [],
   "source": [
    "fitAgeQ3.summary()"
   ]
  },
  {
   "cell_type": "code",
   "execution_count": null,
   "metadata": {
    "tags": []
   },
   "outputs": [],
   "source": [
    "fitHomeLanguageQ3.summary()"
   ]
  },
  {
   "cell_type": "code",
   "execution_count": null,
   "metadata": {
    "tags": []
   },
   "outputs": [],
   "source": [
    "fitChildObsQ3.summary()"
   ]
  },
  {
   "cell_type": "code",
   "execution_count": null,
   "metadata": {
    "tags": []
   },
   "outputs": [],
   "source": [
    "fitSocialRelationsQ3.summary()"
   ]
  },
  {
   "cell_type": "code",
   "execution_count": null,
   "metadata": {
    "tags": []
   },
   "outputs": [],
   "source": [
    "fitEmotionalReadinessQ3.summary()"
   ]
  },
  {
   "cell_type": "markdown",
   "metadata": {},
   "source": [
    "Considering the AIC (Akaike Information Criteria) statistic for model selection, we can see from the above models that all of the AIC values are very low indicated that all these models have a good fit i.e. each of these independent variables should be included in the final model. "
   ]
  },
  {
   "cell_type": "code",
   "execution_count": null,
   "metadata": {},
   "outputs": [],
   "source": [
    "fitFinalQ3 = smf.ols(formula=\"total~Quintile+AgeGroup+HomeLanguage_Afrikaans+HomeLanguage_Setswana+HomeLanguage_isiZulu+HomeLanguage_isiXhosa+ChildObs+SocialRelations+EmotionalReadiness\",data=df2019_trainQ3).fit()"
   ]
  },
  {
   "cell_type": "code",
   "execution_count": null,
   "metadata": {
    "tags": []
   },
   "outputs": [],
   "source": [
    "fitFinalQ3.summary()"
   ]
  },
  {
   "cell_type": "markdown",
   "metadata": {},
   "source": [
    "The AIC value of the final model is even lower than the AIC values of the models that contain each variable against ELOM score. This indicates that this final model has a good-fit and fits this dataset quite well. "
   ]
  },
  {
   "cell_type": "markdown",
   "metadata": {},
   "source": [
    "We will now perform residual analysis on the model in order to visualise the residuals that result from our model.\n",
    "#### Residual Analysis"
   ]
  },
  {
   "cell_type": "markdown",
   "metadata": {},
   "source": [
    "For the final model, the skewness and kurtosis are -0.174 and 2.933, respectively. This indicates that the residuals are close to a normal distribution.\n",
    "\n",
    "If we assume that the null hypothesis is that our residuals are not normally distributed, the probabilities given by Omnibus and Jarque-Bera which are 0.032 and 0.0303 respectively indicates that we reject the null hypothesis for a 5% significance level. Therefore we are 95% confident that our residuals are normally distributed."
   ]
  },
  {
   "cell_type": "code",
   "execution_count": null,
   "metadata": {},
   "outputs": [],
   "source": [
    "# Extracting residuals on our training set which will be used in the analysis below.\n",
    "residualsQ3 = fitFinalQ3.resid"
   ]
  },
  {
   "cell_type": "code",
   "execution_count": null,
   "metadata": {},
   "outputs": [],
   "source": [
    "# TODO: Plot residuals against dependent variables \n",
    "plt.figure(figsize=(24,14))\n",
    "plt.subplot(231)\n",
    "plt.title('Quintiles vs Residuals For Training Data')\n",
    "plt.xlabel('Quintiles')\n",
    "plt.ylabel('Residuals')\n",
    "plt.scatter(df2019_trainQ3.Quintile,residualsQ3)\n",
    "plt.subplot(232)\n",
    "plt.title('AgeGroups vs Residuals For Training Data')\n",
    "plt.xlabel('AgeGroups')\n",
    "plt.ylabel('Residuals')\n",
    "plt.scatter(df2019_trainQ3.AgeGroup,residualsQ3)\n",
    "plt.subplot(233)\n",
    "plt.title('HomeLanguages vs Residuals For Training Data')\n",
    "plt.xlabel('HomeLanguages')\n",
    "plt.ylabel('Residuals')\n",
    "plt.scatter(df2019_HLQ3,residualsQ3)\n",
    "plt.subplot(234)\n",
    "plt.title('ChildObs vs Residuals For Training Data')\n",
    "plt.xlabel('ChildObs')\n",
    "plt.ylabel('Residuals')\n",
    "plt.scatter(df2019_trainQ3.ChildObs,residualsQ3)\n",
    "plt.subplot(235)\n",
    "plt.title('SocialRelations vs Residuals For Training Data')\n",
    "plt.xlabel('SocialRelations')\n",
    "plt.ylabel('Residuals')\n",
    "plt.scatter(df2019_trainQ3.SocialRelations,residualsQ3)\n",
    "plt.subplot(236)\n",
    "plt.title('EmotionalReadiness vs Residuals For Training Data')\n",
    "plt.xlabel('EmotionalReadiness')\n",
    "plt.ylabel('Residuals')\n",
    "plt.scatter(df2019_trainQ3.EmotionalReadiness,residualsQ3)\n",
    "plt.show()\n",
    "\n",
    "## check for outliers\n",
    "display(Markdown(\"#### Check for Outliers\"))\n",
    "influence_pointsQ3 = fitFinalQ3.get_influence().summary_frame().sort_values(by='hat_diag')\n",
    "influence_pointsQ3 = influence_pointsQ3.reset_index(drop=True)\n",
    "display(influence_pointsQ3.hat_diag)"
   ]
  },
  {
   "cell_type": "markdown",
   "metadata": {},
   "source": [
    "The above residual analysis was to determine if there is a relationship between the dependent variables in our model above and the residuals, which is highlighted by the above scatterplots. Here we see that there is no clear relationship between any of the explanatory variables and the residuals which allow us to conclude that the regression coefficients represented in the final model above are unbiased.\n",
    "\n",
    "We secondly used the influence function provided by the statsmodels API in order to determine if there were any outliers in our training data that might have influenced our residuals. We extract the leverage values associated to each data point in our training dataset and sort the values from low leverage to high leverage, the result of this set of steps is the series in the above cell. We can deduce from the series above that there are no leverages for the data points that are abnormally higher than the other leverage values. This indicates that there are no real outliers in our dataset.\n",
    "\n",
    "The two points highlighted above imply that the final model proposed above actually represents a good model for the question stated above."
   ]
  },
  {
   "cell_type": "markdown",
   "metadata": {},
   "source": [
    "We now finally fit the regression model against our test data and make comparisons between the training dataset outcomes and the test dataset outcomes."
   ]
  },
  {
   "cell_type": "code",
   "execution_count": null,
   "metadata": {},
   "outputs": [],
   "source": [
    "fitTestQ3 = smf.ols(formula=\"total~Quintile+AgeGroup+HomeLanguage_Afrikaans+HomeLanguage_Setswana+HomeLanguage_isiZulu+HomeLanguage_isiXhosa+ChildObs+SocialRelations+EmotionalReadiness\",data=df2019_testQ3).fit()"
   ]
  },
  {
   "cell_type": "code",
   "execution_count": null,
   "metadata": {},
   "outputs": [],
   "source": [
    "fitTestQ3.summary()"
   ]
  },
  {
   "cell_type": "code",
   "execution_count": null,
   "metadata": {},
   "outputs": [],
   "source": [
    "display(Markdown(\"##### Test Params\"))\n",
    "print(fitTestQ3.params)\n",
    "display(Markdown(\"##### Train Params\"))\n",
    "print(fitFinalQ3.params)"
   ]
  },
  {
   "cell_type": "markdown",
   "metadata": {},
   "source": [
    "Above we have fitted the model against the test data and printed the regression coefficients for both the training and test models.\n",
    "The following important notes can be extracted from the above regression coefficients.\n",
    "\n",
    "- `ChildObs` seems to have a similar values for both the training and testing model indicating that the approximate value of 2.1 is statistically significant for the regression coefficient relating to `ChildObs`. This value indicates that a 2.1 change in `ChildObs` results in a unit change relating to ELOM score.\n",
    "\n",
    "- Similarly, `EmotionalReadiness` has similar values for both training and testing models of approximately 1.3, indicating that this is statistically significant as well.\n",
    "\n",
    "- `HomeLanguage` for each Home Language seems to differ quite a lot between the training regression coefficients and the testing regression coefficients. This indicates that this variable isn't statistically significant and the regression values could be determined by some chance. This could be a result of sampling variation and that this variable doesn't have a strong LINEAR relationship with ELOM score.\n",
    "\n",
    "- The regression coefficients relating to `Quintile` and `SocialRelations`, respectively, have a slight difference in the training and testing dataset. However, they are close enough to infer that the `Quintile` and `SocialRelations` variables are statistically significant. "
   ]
  },
  {
   "cell_type": "markdown",
   "metadata": {},
   "source": [
    "### 4 - Considering the 2016 dataset, to what extent do the socio-economic factors influence ELOM score and how does this compare to 2019?"
   ]
  },
  {
   "cell_type": "markdown",
   "metadata": {
    "tags": []
   },
   "source": [
    "Our model that we will construct in order to gain statistically correct inferences will contain only socio-economic variables from the 2016 ELOM dataset as well as our dependent variable which is the ELOM score of a student. In order to successfully answer the question above, we will finally use the outputs of our final model from this stage along with outputs from the hypothesis testing stage in order to make deductions on whether the socio-economic factors from 2016 differed from 2019's outputs."
   ]
  },
  {
   "cell_type": "code",
   "execution_count": null,
   "metadata": {
    "tags": []
   },
   "outputs": [],
   "source": [
    "# lets look at the full ELOM 2016 dataset before splitting\n",
    "display(df2016.head())"
   ]
  },
  {
   "cell_type": "code",
   "execution_count": null,
   "metadata": {
    "tags": []
   },
   "outputs": [],
   "source": [
    "train_number = int(df2016.shape[0]*(80/100)) # calculate number of training examples\n",
    "dftemp = df2016.sample(df2016.shape[0],replace=False,random_state=12)\n",
    "dftemp = dftemp.reset_index(drop=True)\n",
    "df2016_train = dftemp[:train_number]\n",
    "df2016_test = dftemp[train_number:]\n",
    "print(\"The training data has a shape of\",df2016_train.shape)\n",
    "print(\"The test data has a shape of\",df2016_test.shape)"
   ]
  },
  {
   "cell_type": "markdown",
   "metadata": {
    "tags": []
   },
   "source": [
    "The above dataset contains all the variables that influence ELOM score, we will select the subset of variables that are socio-economic in nature. Remember from above that `AssessLanguage` is not selected in this model as for each observation in the full data, `AssessLanguage` is equal to `HomeLanguage`. Adding `AssessLanguage` will be equivalent to adding `HomeLanguage` twice which will introduce a bias into our system.\n",
    "`AgeGroup` will be used in the model as Age results in numerical problems with our regression models. `Quintile` will be used over `CompositeQuintileGroup` as it specifies the Quintile per student and not a combination of other Quintiles."
   ]
  },
  {
   "cell_type": "markdown",
   "metadata": {
    "tags": []
   },
   "source": [
    "Before we move to the Model Selection stage of Model Fitting we need to make sure every variable is either continuous or encoded."
   ]
  },
  {
   "cell_type": "code",
   "execution_count": null,
   "metadata": {
    "tags": []
   },
   "outputs": [],
   "source": [
    "df2016_train = df2016_train[['Quintile','AgeGroup','HomeLanguage','Total']]\n",
    "df2016_test = df2016_test[['Quintile','AgeGroup','HomeLanguage','Total']]\n",
    "df2016_HL = df2016_train.HomeLanguage\n",
    "\n",
    "print(df2016.Quintile.value_counts()/df2016.shape[0])\n",
    "print(df2016_train.Quintile.value_counts()/df2016_train.shape[0])\n",
    "print(df2016_test.Quintile.value_counts()/df2016_test.shape[0])"
   ]
  },
  {
   "cell_type": "code",
   "execution_count": null,
   "metadata": {
    "tags": []
   },
   "outputs": [],
   "source": [
    "LE = LabelEncoder()\n",
    "df2016_train['Quintile'] = LE.fit_transform(df2016_train['Quintile'])\n",
    "df2016_train['AgeGroup'] = LE.fit_transform(df2016_train['AgeGroup'])\n",
    "df2016_test['Quintile'] = LE.fit_transform(df2016_test['Quintile'])\n",
    "df2016_test['AgeGroup'] = LE.fit_transform(df2016_test['AgeGroup'])"
   ]
  },
  {
   "cell_type": "code",
   "execution_count": null,
   "metadata": {},
   "outputs": [],
   "source": [
    "df2016_train = pd.get_dummies(df2016_train,drop_first=True)\n",
    "df2016_test = pd.get_dummies(df2016_test,drop_first=True)"
   ]
  },
  {
   "cell_type": "code",
   "execution_count": null,
   "metadata": {
    "tags": []
   },
   "outputs": [],
   "source": [
    "df2016_train = df2016_train.reset_index(drop=True)\n",
    "display(df2016_train.head())\n",
    "\n",
    "df2016_test = df2016_test.reset_index(drop=True)\n",
    "display(df2016_test.head())"
   ]
  },
  {
   "cell_type": "markdown",
   "metadata": {},
   "source": [
    "`Quintile` is an ordinal categorical variable so we label encode it so that it retains order in the variable.\n",
    "Since `HomeLanguage` was a nominal categorical we dummy encoded so that we can use this variable in least squares regression."
   ]
  },
  {
   "cell_type": "markdown",
   "metadata": {},
   "source": [
    "We will now perform Model Selection in order to select the best possible model with the above subset of the 2016 ELOM dataset."
   ]
  },
  {
   "cell_type": "code",
   "execution_count": null,
   "metadata": {},
   "outputs": [],
   "source": [
    "fitQuintile = smf.ols(formula=\"Total~Quintile\",data=df2016_train).fit()\n",
    "fitAge = smf.ols(formula=\"Total~AgeGroup\",data=df2016_train).fit()\n",
    "fitHomeLanguage = smf.ols(formula=\"Total~HomeLanguage_Afrikaans+HomeLanguage_isiZulu+HomeLanguage_isiXhosa+HomeLanguage_Sesotho+HomeLanguage_Setswana\",data=df2016_train).fit()"
   ]
  },
  {
   "cell_type": "code",
   "execution_count": null,
   "metadata": {},
   "outputs": [],
   "source": [
    "fitQuintile.summary()"
   ]
  },
  {
   "cell_type": "code",
   "execution_count": null,
   "metadata": {},
   "outputs": [],
   "source": [
    "fitAge.summary()"
   ]
  },
  {
   "cell_type": "code",
   "execution_count": null,
   "metadata": {},
   "outputs": [],
   "source": [
    "fitHomeLanguage.summary()"
   ]
  },
  {
   "cell_type": "markdown",
   "metadata": {},
   "source": [
    "From here we can see that the model with the highest $R^2$ value is model 3 which includes the `HomeLanguage` as a variable, so we add `HomeLanguage` to our final model. We then look at combinations of `HomeLanguage` with `Quintile` and `Age` respectively."
   ]
  },
  {
   "cell_type": "code",
   "execution_count": null,
   "metadata": {},
   "outputs": [],
   "source": [
    "fitComb1 = smf.ols(formula=\"Total~Quintile+HomeLanguage_Afrikaans+HomeLanguage_isiZulu+HomeLanguage_isiXhosa+HomeLanguage_Sesotho+HomeLanguage_Setswana\",data=df2016_train).fit()\n",
    "fitComb2 = smf.ols(formula=\"Total~AgeGroup+HomeLanguage_Afrikaans+HomeLanguage_isiZulu+HomeLanguage_isiXhosa+HomeLanguage_Sesotho+HomeLanguage_Setswana\",data=df2016_train).fit()"
   ]
  },
  {
   "cell_type": "code",
   "execution_count": null,
   "metadata": {},
   "outputs": [],
   "source": [
    "fitComb1.summary()"
   ]
  },
  {
   "cell_type": "code",
   "execution_count": null,
   "metadata": {},
   "outputs": [],
   "source": [
    "fitComb2.summary()"
   ]
  },
  {
   "cell_type": "markdown",
   "metadata": {},
   "source": [
    "Here we see that the best model from the above 2 models is the latter one. The $R^2$ value indicates that the combination of `AgeGroup` and `HomeLanguage` has a stronger relationship with ELOM score relative to the combination of `Quintile` and `HomeLanguage`. "
   ]
  },
  {
   "cell_type": "code",
   "execution_count": null,
   "metadata": {},
   "outputs": [],
   "source": [
    "fitFinal = smf.ols(formula=\"Total~Quintile+AgeGroup+HomeLanguage_Afrikaans+HomeLanguage_isiZulu+HomeLanguage_isiXhosa+HomeLanguage_Sesotho+HomeLanguage_Setswana\",data=df2016_train).fit()"
   ]
  },
  {
   "cell_type": "code",
   "execution_count": null,
   "metadata": {},
   "outputs": [],
   "source": [
    "fitFinal.summary()"
   ]
  },
  {
   "cell_type": "markdown",
   "metadata": {},
   "source": [
    "A combination of all three dependent variables, namely `Quintile`, `AgeGroup` and `HomeLanguage` together with ELOM score in a model produces an $R^2$ value of 0.170 which is the highest from all the models. This indicates that all 3 variables together with ELOM score, the dependent variable, is the best model when looking at only the socio-economic variables in the full dataset. "
   ]
  },
  {
   "cell_type": "markdown",
   "metadata": {},
   "source": [
    "We will now perform residual analysis on the model in order to visualise the residuals that result from our model.\n",
    "#### Residual Analysis"
   ]
  },
  {
   "cell_type": "markdown",
   "metadata": {},
   "source": [
    "In our final model we evaluate the values for skewness and kurtosis to determine if our residuals are normally distributed. The values for skewness and kurtosis are 0.201 and 2.791 respectively indicating that the residuals are close to a normal distribution.\n",
    "\n",
    "If we assume that the null hypothesis is that our residuals are not normally distributed, the probabilities given by Omnibus and Jarque-Bera which are 0.010 and 0.0112 respectively indicates that we reject the null hypothesis for a 5% significance level. Therefore we are 95% confident that our residuals are normally distributed."
   ]
  },
  {
   "cell_type": "code",
   "execution_count": null,
   "metadata": {},
   "outputs": [],
   "source": [
    "# Extracting residuals on our training set which will be used in the analysis below.\n",
    "residuals = fitFinal.resid"
   ]
  },
  {
   "cell_type": "code",
   "execution_count": null,
   "metadata": {},
   "outputs": [],
   "source": [
    "### TODO: Plot residuals against dependent variables \n",
    "plt.figure(figsize=(24,6))\n",
    "plt.subplot(131)\n",
    "plt.title('Quintiles vs Residuals For Training Data')\n",
    "plt.xlabel('Quintiles')\n",
    "plt.ylabel('Residuals')\n",
    "plt.scatter(df2016_train.Quintile,residuals)\n",
    "plt.subplot(132)\n",
    "plt.title('AgeGroups vs Residuals For Training Data')\n",
    "plt.xlabel('AgeGroups')\n",
    "plt.ylabel('Residuals')\n",
    "plt.scatter(df2016_train.AgeGroup,residuals)\n",
    "plt.subplot(133)\n",
    "plt.title('HomeLanguages vs Residuals For Training Data')\n",
    "plt.xlabel('HomeLanguages')\n",
    "plt.ylabel('Residuals')\n",
    "plt.scatter(df2016_HL,residuals)\n",
    "plt.show()\n",
    "## check for outliers\n",
    "influence_points = fitFinal.get_influence().summary_frame().sort_values(by='hat_diag')\n",
    "influence_points = influence_points.reset_index(drop=True)\n",
    "display(influence_points.hat_diag)"
   ]
  },
  {
   "cell_type": "markdown",
   "metadata": {},
   "source": [
    "\n",
    "The above residual analysis was to determine if there is a relationship between the dependent variables in our model above and the residuals, which is highlighted by the above scatterplots. Here we see that there is no clear relationship between any of the explanatory variables and the residuals which allow us to conclude that the regression coefficients represented in the final model above are unbiased.\n",
    "\n",
    "We secondly used the influence function provided by the statsmodels api in order to determine if there were any outliers in our training data that might have influenced our residuals. We extract the leverage values associated to each data point in our training dataset and sort the values from low leverage to high leverage, the result of this set of steps is the series in the above cell. We can deduce from the series above that there are no leverages for the data points that are abnormally higher than the other leverage values. This indicates that there are no real outliers in our dataset.\n",
    "\n",
    "The two points highlighted above imply that the final model proposed above actually represents a good model for the question stated above."
   ]
  },
  {
   "cell_type": "markdown",
   "metadata": {},
   "source": [
    "We now finally fit the regression model against our test data and make comparisons between the training dataset outcomes and the test dataset outcomes."
   ]
  },
  {
   "cell_type": "code",
   "execution_count": null,
   "metadata": {},
   "outputs": [],
   "source": [
    "fitTest = smf.ols(formula=\"Total~Quintile+AgeGroup+HomeLanguage_Afrikaans+HomeLanguage_isiZulu+HomeLanguage_isiXhosa+HomeLanguage_Sesotho+HomeLanguage_Setswana\",data=df2016_test).fit()"
   ]
  },
  {
   "cell_type": "code",
   "execution_count": null,
   "metadata": {},
   "outputs": [],
   "source": [
    "fitTest.summary()"
   ]
  },
  {
   "cell_type": "code",
   "execution_count": null,
   "metadata": {},
   "outputs": [],
   "source": [
    "print(fitTest.params)\n",
    "print(fitFinal.params)"
   ]
  },
  {
   "cell_type": "markdown",
   "metadata": {},
   "source": [
    "Above we have fitted the model against the test data and printed the regression coefficients for both the training and test models.\n",
    "The following important notes can be extracted from the above regression coefficients.\n",
    "\n",
    "- `AgeGroup` seems to have a similar values for both the training and testing model indicating that the approximate value of 6.2 is statistically significant for the regression coefficient relating to Quintiles. This value indicates that a 6.2 change in `AgeGroup` results in a unit change relating to ELOM score.\n",
    "\n",
    "- `HomeLanguage` for each Home Language seems to differ quite a lot between the training regression coefficients and the testing regression coefficients. This indicates that this variable isn't statistically significant and the regression values could be determined by some chance. This could be a result of sampling variation and that this variable doesn't have a strong LINEAR relationship with ELOM score.\n",
    "\n",
    "- The regression coefficients relating to `Quintile` has a slight difference in the training and testing dataset. They are quite similar though and indicate that the `Quintile` variable is statistically significant. "
   ]
  },
  {
   "cell_type": "markdown",
   "metadata": {},
   "source": [
    "In the interpretation of results section we will look at comparing the 2016 ELOM score model with the 2019 ELOM score model, the above analysis was just used to analyse the socio-economic variables together with ELOM score in 2016."
   ]
  },
  {
   "cell_type": "markdown",
   "metadata": {},
   "source": [
    "## Hypothesis Testing"
   ]
  },
  {
   "cell_type": "markdown",
   "metadata": {},
   "source": [
    "All statistical tests performed assume random sampling. Tests were conducted at a 5% significance level."
   ]
  },
  {
   "cell_type": "markdown",
   "metadata": {},
   "source": [
    "### 1 - Does the socio-economic background of a child influence their ELOM score and, if so, to what extent?"
   ]
  },
  {
   "cell_type": "markdown",
   "metadata": {},
   "source": [
    "We are performing a permutation test in order to evaluate whether students in certain age groups and quintiles perform better than students in other age groups and quintiles.\n",
    "\n",
    "**Null hypothesis:** Average ELOM score for students who are in `Quintile` 4 or 5 and belong to age group 2 (60 to 69 months) is equal to the average ELOM score for students who are in Quintile 1, 2 or 3 and belong to age group 1 (50 to 59 months).\n",
    "\n",
    "**Alternative hypothesis:** Average ELOM score for students who are in `Quintile` 4 or 5 and belong to age group 2 (60 to 69 months) is greater than the average ELOM score for students who are in Quintile 1, 2 or 3 and belong to age group 1 (50 to 59 months)."
   ]
  },
  {
   "cell_type": "markdown",
   "metadata": {},
   "source": [
    "$H_0$ : $\\mu_1$ = $\\mu_2$\n",
    "\n",
    "$H_1$ : $\\mu_1$ $>$ $\\mu_2$"
   ]
  },
  {
   "cell_type": "markdown",
   "metadata": {},
   "source": [
    "We begin by splitting our data into the two samples which we want to look at in order to test our null hypothesis. The first sample is the ELOM scores for students who are in Quintile 4 or 5 and belong to age group 2 (60 to 69 months), and the second sample is the ELOM scores for students who are in Quitile 1, 2 or 3 and belong to age group 1 (50 to 59 months).\n",
    "\n",
    "We then conduct a permutation test on the two samples because we are looking at two samples under different conditions. This returns the t-value and p-value corresponding to this permutation test. "
   ]
  },
  {
   "cell_type": "code",
   "execution_count": null,
   "metadata": {},
   "outputs": [],
   "source": [
    "q1_group1 = df2019[((df2019.Quintile == 4) | (df2019.Quintile == 5)) & (df2019.AgeGroup == \"60 to 69\")].total\n",
    "q1_group2 = df2019[((df2019.Quintile == 1) | (df2019.Quintile == 2) | (df2019.Quintile == 3)) & (df2019.AgeGroup == \"50 to 59\")].total"
   ]
  },
  {
   "cell_type": "code",
   "execution_count": null,
   "metadata": {},
   "outputs": [],
   "source": [
    "t_q1, p_q1 = stats.ttest_ind(q1_group1, q1_group2)\n",
    "print(\"t = \" + str(t_q1))\n",
    "print(\"p = \" + str(p_q1/2))"
   ]
  },
  {
   "cell_type": "markdown",
   "metadata": {},
   "source": [
    "Given that the p-value of 1.24e-42 is less than 0.05, we reject the null hypothesis. We are 95% confident that the average ELOM score for students who are in Quintile 4 or 5 and belong to age group 2 (60 to 69 months) is greater than the average ELOM score for students who are in Quintile 1, 2 or 3 and belong to age group 1 (50 to 59 months)."
   ]
  },
  {
   "cell_type": "markdown",
   "metadata": {},
   "source": [
    "### 2 - In the absence of the socio-economic factors, to what extent do the behavioural tendencies of a child influence ELOM score and whether or not the child is at risk?"
   ]
  },
  {
   "cell_type": "markdown",
   "metadata": {},
   "source": [
    "Below we perform a proportion test to evaluate whether the proportion of students who are at risk is lower when the `ChildObs` totals are higher. \n",
    "\n",
    "**Null Hypothesis:** The proportion of children at risk is the same regardless of the `ChildObs` total.\n",
    "\n",
    "**Alternative Hypothesis:** The proportion of children at risk is lower if the `ChildObs` total is greater than 6, and the proportion of children at risk is higher if the `ChildObs` total is less than or equal to 6."
   ]
  },
  {
   "cell_type": "markdown",
   "metadata": {},
   "source": [
    "$H_0$ : $p_1$ = $p_2$\n",
    "\n",
    "$H_1$ : $p_1$ $>$ $p_2$"
   ]
  },
  {
   "cell_type": "markdown",
   "metadata": {},
   "source": [
    "We begin by splitting our data into the two samples which we want to look at in order to test our null hypothesis. The first sample is students whose `ChildObs` total is greater than 6, and the second sample is students whose `ChildObs` total is less than or equal to 6.\n",
    "\n",
    "We then conduct a proportion test on the two samples in order to assess which proportion of children is more at risk. This returns the t-value and p-value corresponding to this proportion test. "
   ]
  },
  {
   "cell_type": "code",
   "execution_count": null,
   "metadata": {},
   "outputs": [],
   "source": [
    "q2_group1 = df2019[df2019.ChildObs > 6].total\n",
    "q2_group2 = df2019[df2019.ChildObs <= 6].total\n",
    "\n",
    "population_mean = df2019.total.mean()\n",
    "prop_at_risk_group1 = q2_group1[q2_group1 < population_mean].shape[0]\n",
    "prop_at_risk_group2 = q2_group2[q2_group2 < population_mean].shape[0]\n",
    "\n",
    "prop_at_risk = df2019[df2019.total < population_mean].shape[0] / df2019.size"
   ]
  },
  {
   "cell_type": "code",
   "execution_count": null,
   "metadata": {},
   "outputs": [],
   "source": [
    "from statsmodels.stats.proportion import proportions_ztest\n",
    "\n",
    "counts = np.array([prop_at_risk_group1, prop_at_risk_group2])\n",
    "nobs = np.array([q2_group1.shape[0], q2_group2.shape[0]])\n",
    "\n",
    "zscore, pvalue = proportions_ztest(counts, nobs, alternative = 'smaller')\n",
    "print(\"z =\", zscore)\n",
    "print(\"p =\", pvalue)"
   ]
  },
  {
   "cell_type": "markdown",
   "metadata": {},
   "source": [
    "Give that the p-value of 4.54e-75 is less than 0.05, we reject the null hypothesis. We are 95% confident that the proportion of children at risk is lower if the `ChildObs` total is greater than 6, and the proportion of children at risk is higher if the `ChildObs` total is less than or equal to 6."
   ]
  },
  {
   "cell_type": "markdown",
   "metadata": {},
   "source": [
    "### 3 - In conjunction with the socio-economic background of a child, do the behavioural tendencies of the child have an influence on the ELOM score?"
   ]
  },
  {
   "cell_type": "markdown",
   "metadata": {},
   "source": [
    "We are performing a permutation test in order to evaluate whether students who are in `Quintile` 4 or 5 and belong to age group 2 (60 to 69 months) are more at risk when the `ChildObs` totals are higher.\n",
    "\n",
    "**Null hypothesis:** The risk is the same for students who are in `Quintile` 4 or 5 and belong to age group 2 (60 to 69 months) regardless of the `ChildObs` total.\n",
    "\n",
    "**Alternative hypothesis:** Students who are in zQuintilez 4 or 5 and belong to age group 2 (60 to 69 months) and have a `ChildObs` score less than or equal to 6 are more at risk than students with the same socio-economic background and a `ChildObs` score greater than 6."
   ]
  },
  {
   "cell_type": "markdown",
   "metadata": {},
   "source": [
    "$H_0$ : $\\mu_1$ = $\\mu_2$\n",
    "\n",
    "$H_1$ : $\\mu_1$ $>$ $\\mu_2$"
   ]
  },
  {
   "cell_type": "markdown",
   "metadata": {},
   "source": [
    "We begin by splitting our data into the two samples which we want to look at in order to test our null hypothesis. $\\mu_1$ refers to the average ELOM score of students with `ChildObs` being greater than 6, and $\\mu_2$ refers to the average ELOM score of students with `ChildObs` being less than or equal to 6.\n",
    "\n",
    "We then conduct a permutation test on the two samples because we are looking at two samples under different conditions. This returns the t-value and p-value corresponding to this permutation test. "
   ]
  },
  {
   "cell_type": "code",
   "execution_count": null,
   "metadata": {},
   "outputs": [],
   "source": [
    "q3_group1 = df2019[((df2019.Quintile == 4) | (df2019.Quintile == 5)) & (df2019.AgeGroup == \"60 to 69\") & (df2019.ChildObs > 6)].total\n",
    "q3_group2 = df2019[((df2019.Quintile == 4) | (df2019.Quintile == 5)) & (df2019.AgeGroup == \"60 to 69\") & (df2019.ChildObs <= 6)].total"
   ]
  },
  {
   "cell_type": "code",
   "execution_count": null,
   "metadata": {},
   "outputs": [],
   "source": [
    "t_q3, p_q3 = stats.ttest_ind(q3_group1, q3_group2)\n",
    "print(\"t = \" + str(t_q3))\n",
    "print(\"p = \" + str(p_q3/2))"
   ]
  },
  {
   "cell_type": "markdown",
   "metadata": {},
   "source": [
    "Given that the p-value is less than 0.05, we reject the null hypothesis. We are 95% confident that students who are in Quintile 4 or 5 and belong to age group 2 (60 to 69 months) and have a `ChildObs` score less than or equal to 6 are more at risk than students with the same socio-economic background and a `ChildObs` score greater than 6."
   ]
  },
  {
   "cell_type": "markdown",
   "metadata": {},
   "source": [
    "### 4 - Considering the 2016 dataset, to what extent do the socio-economic factors influence ELOM score and how does this compare to 2019?"
   ]
  },
  {
   "cell_type": "markdown",
   "metadata": {},
   "source": [
    "We are performing a permutation test in order to evaluate whether students in 2016 who are in `Quintile` 4 or 5 and belong to age group 2 (60 to 69 months) performed differently to students in 2019 who are in `Quintile` 4 or 5 and belong to age group 2 (60 to 69 months).\n",
    "\n",
    "**Null hypothesis:** The average ELOM score for students in 2016 who are in `Quintile` 4 or 5 and belong to age group 2 (60 to 69 months) is the same as the average ELOM score for students in 2019 who are in `Quintile` 4 or 5 and belong to age group 2 (60 to 69 months).\n",
    "\n",
    "**Alternative hypothesis:** The average ELOM score for students in 2016 who are in `Quintile` 4 or 5 and belong to age group 2 (60 to 69 months) is less than the average ELOM score for students in 2019 who are in `Quintile` 4 or 5 and belong to age group 2 (60 to 69 months)."
   ]
  },
  {
   "cell_type": "markdown",
   "metadata": {},
   "source": [
    "$H_0$ : $\\mu_1$ = $\\mu_2$\n",
    "\n",
    "$H_1$ : $\\mu_1$ $>$ $\\mu_2$"
   ]
  },
  {
   "cell_type": "markdown",
   "metadata": {},
   "source": [
    "We begin by splitting our data into the two samples which we want to look at in order to test our null hypothesis. The first sample is the ELOM scores for students in 2016 who are in `Quintile` 4 or 5 and belong to age group 2 (60 to 69 months), and the second sample is the ELOM scores for students in 2019 who are in `Quintile` 4 or 5 and belong to age group 2 (60 to 69 months).\n",
    "\n",
    "We then conduct a permutation test on the two samples because we are looking at two samples under different conditions. This returns the t-value and p-value corresponding to this permutation test. "
   ]
  },
  {
   "cell_type": "code",
   "execution_count": null,
   "metadata": {},
   "outputs": [],
   "source": [
    "q4_group1 = df2016[((df2016.Quintile == 4) | (df2016.Quintile == 5)) & (df2016.AgeGroup == \"60 to 69 Months\")].Total\n",
    "q4_group2 = df2019[((df2019.Quintile == 4) | (df2019.Quintile == 5)) & (df2019.AgeGroup == \"60 to 69\")].total"
   ]
  },
  {
   "cell_type": "code",
   "execution_count": null,
   "metadata": {},
   "outputs": [],
   "source": [
    "t_q4, p_q4 = stats.ttest_ind(q4_group1, q4_group2)\n",
    "print(\"t = \" + str(t_q4))\n",
    "print(\"p = \" + str(p_q4/2))"
   ]
  },
  {
   "cell_type": "markdown",
   "metadata": {},
   "source": [
    "Given that the p-value of 1.95e-19 is less than 0.05, we reject the null hypothesis. We are 95% confident that the average ELOM score for students in 2016 who are in `Quintile` 4 or 5 and belong to age group 2 (60 to 69 months) is less than the average ELOM score for students in 2019 who are in `Quintile` 4 or 5 and belong to age group 2 (60 to 69 months)."
   ]
  },
  {
   "cell_type": "markdown",
   "metadata": {},
   "source": [
    "## Interpretation of Results"
   ]
  },
  {
   "cell_type": "markdown",
   "metadata": {},
   "source": [
    "### 1 - Does the socio-economic background of a child influence their ELOM score and, if so, to what extent?\n"
   ]
  },
  {
   "cell_type": "markdown",
   "metadata": {},
   "source": [
    "As per the initial observations found in the eploratory analyses, we inferred that students who belonged to less poor quintiles and fall into a higher age group, have higher ELOM scores compared to other students. \n",
    "\n",
    "Looking at the regression coefficients found after model fitting, we found that `Quintile` and `AgeGroup` to be the  only statistically significant variables. `Quintile` and `AgeGroup` both have positive regression coefficients of 2.35 and 9.06 respectively, indicating a positive relationshiop with ELOM score. This reinforced our initial observations. We then performed hypothesis testing using only these variables.\n",
    "\n",
    "Based on the hypothesis testing, we were able to deduce that a higher `Quintile` and `AgeGroup` resulted in a higher average ELOM score, which coincides with the initial observations.\n",
    "\n",
    "Based on domain knowledge, we expected socio-economic factors to have a bigger impact on ELOM score. However, the magnitude of the regression coefficients proved that the impact was not as big as we originally expected. This is due to the fact that our data is close to the population proportion, but not the most representative sample, which could explain why our results did not meet expectations. \n",
    "\n",
    "We assumed a linear relationship between our socio-economic variables and ELOM score in order to conduct linear regression. However, there is only a weak linear relationship as shows in our exploratory analyses. This could explain the deviation from our original expectations. \n",
    "\n",
    "The permutation test was used because we looked at two different samples under different conditions in order to prove that students who belonged to less poor quintiles that were older, had a higher ELOM score compared to those from poorer quintiles that were younger. "
   ]
  },
  {
   "cell_type": "markdown",
   "metadata": {},
   "source": [
    "### 2 - In the absence of the socio-economic factors, to what extent do the behavioural tendencies of a child influence ELOM score and whether or not the child is at risk?"
   ]
  },
  {
   "cell_type": "markdown",
   "metadata": {},
   "source": []
  },
  {
   "cell_type": "markdown",
   "metadata": {},
   "source": [
    "### 3 - In conjunction with the socio-economic background of a child, do the behavioural tendencies of the child have an influence on the ELOM score?"
   ]
  },
  {
   "cell_type": "markdown",
   "metadata": {},
   "source": []
  },
  {
   "cell_type": "markdown",
   "metadata": {},
   "source": [
    "### 4 - Considering the 2016 dataset, to what extent do the socio-economic factors influence ELOM score and how does this compare to 2019?"
   ]
  },
  {
   "cell_type": "markdown",
   "metadata": {},
   "source": []
  },
  {
   "cell_type": "markdown",
   "metadata": {},
   "source": [
    "## Conclusion"
   ]
  },
  {
   "cell_type": "code",
   "execution_count": null,
   "metadata": {},
   "outputs": [],
   "source": []
  }
 ],
 "metadata": {
  "kernelspec": {
   "display_name": "Python 3",
   "language": "python",
   "name": "python3"
  },
  "language_info": {
   "codemirror_mode": {
    "name": "ipython",
    "version": 3
   },
   "file_extension": ".py",
   "mimetype": "text/x-python",
   "name": "python",
   "nbconvert_exporter": "python",
   "pygments_lexer": "ipython3",
   "version": "3.8.5"
  }
 },
 "nbformat": 4,
 "nbformat_minor": 4
}
